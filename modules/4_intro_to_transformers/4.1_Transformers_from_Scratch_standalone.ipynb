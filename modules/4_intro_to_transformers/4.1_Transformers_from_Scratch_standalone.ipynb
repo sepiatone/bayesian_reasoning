{
  "cells": [
    {
      "cell_type": "markdown",
      "metadata": {
        "id": "daqY4M83GwrE"
      },
      "source": [
        "# transformers from scratch\n",
        "<a target=\"_blank\" href=\"https://colab.research.google.com/github/https://colab.research.google.com/drive/1clXCeAvjWm_MERBO-sTzkEDvSfIisU1c\">\n",
        "  <img src=\"https://colab.research.google.com/assets/colab-badge.svg\" alt=\"Open In Colab\"/>\n",
        "</a>"
      ]
    },
    {
      "cell_type": "markdown",
      "metadata": {
        "id": "FrfkqF-Jlg5u"
      },
      "source": [
        "<img src=\"https://raw.githubusercontent.com/info-arena/ARENA_img/main/misc/headers/header-11.png\" width=\"350\">"
      ]
    },
    {
      "cell_type": "markdown",
      "metadata": {
        "id": "M0vbYHQpGwrG"
      },
      "source": [
        "# 0️⃣ introduction\n",
        "\n",
        "this is a clean, first principles implementation of gpt-2 in pytorch. the architectural choices closely follow those used by the [`TransformerLens`](https://github.com/TransformerLensOrg/TransformerLens) library. this tutorial and associated exercises are an accompaniment to nanda's excellent transformer [walkthrough videos](https://www.youtube.com/watch?v=bOYE6E8JrtU).\n",
        "\n",
        "these resources are also helpful:\n",
        "- [visualization](https://bbycroft.net/llm) of the gpt (see the nano-gpt internals)\n",
        "- 3 blue 1 brown, [transformers](https://www.youtube.com/watch?v=wjZofJX0v4M&list=PLZHQObOWTQDNU6R1_67000Dx_ZCJB-3pi&index=6) and [attention](https://www.youtube.com/watch?v=eMlx5fFNoYc&list=PLZHQObOWTQDNU6R1_67000Dx_ZCJB-3pi&index=8)"
      ]
    },
    {
      "cell_type": "markdown",
      "metadata": {
        "id": "0L52ktk_GwrG"
      },
      "source": [
        "note: each exercise has a difficulty and importance rating. please do skip exercises / look at solutions if you don't feel like they're important enough to be worth doing, and you'd rather get to the good stuff!"
      ]
    },
    {
      "cell_type": "markdown",
      "metadata": {
        "id": "rySfb0xAZATF"
      },
      "source": [
        "## setup"
      ]
    },
    {
      "cell_type": "code",
      "execution_count": 1,
      "metadata": {
        "colab": {
          "base_uri": "https://localhost:8080/"
        },
        "id": "92hNW1LOY93G",
        "outputId": "7d37e0e0-8f56-4385-c893-8c72e5d42add"
      },
      "outputs": [
        {
          "output_type": "stream",
          "name": "stdout",
          "text": [
            "Collecting transformer_lens==2.11.0\n",
            "  Downloading transformer_lens-2.11.0-py3-none-any.whl.metadata (12 kB)\n",
            "Requirement already satisfied: einops in /usr/local/lib/python3.11/dist-packages (0.8.1)\n",
            "Collecting jaxtyping\n",
            "  Downloading jaxtyping-0.3.2-py3-none-any.whl.metadata (7.0 kB)\n",
            "Collecting circuitsvis\n",
            "  Downloading circuitsvis-1.43.3-py3-none-any.whl.metadata (983 bytes)\n",
            "Requirement already satisfied: accelerate>=0.23.0 in /usr/local/lib/python3.11/dist-packages (from transformer_lens==2.11.0) (1.8.1)\n",
            "Collecting beartype<0.15.0,>=0.14.1 (from transformer_lens==2.11.0)\n",
            "  Downloading beartype-0.14.1-py3-none-any.whl.metadata (28 kB)\n",
            "Collecting better-abc<0.0.4,>=0.0.3 (from transformer_lens==2.11.0)\n",
            "  Downloading better_abc-0.0.3-py3-none-any.whl.metadata (1.4 kB)\n",
            "Requirement already satisfied: datasets>=2.7.1 in /usr/local/lib/python3.11/dist-packages (from transformer_lens==2.11.0) (2.14.4)\n",
            "Collecting fancy-einsum>=0.0.3 (from transformer_lens==2.11.0)\n",
            "  Downloading fancy_einsum-0.0.3-py3-none-any.whl.metadata (1.2 kB)\n",
            "Requirement already satisfied: numpy>=1.24 in /usr/local/lib/python3.11/dist-packages (from transformer_lens==2.11.0) (2.0.2)\n",
            "Requirement already satisfied: pandas>=1.1.5 in /usr/local/lib/python3.11/dist-packages (from transformer_lens==2.11.0) (2.2.2)\n",
            "Requirement already satisfied: rich>=12.6.0 in /usr/local/lib/python3.11/dist-packages (from transformer_lens==2.11.0) (13.9.4)\n",
            "Requirement already satisfied: sentencepiece in /usr/local/lib/python3.11/dist-packages (from transformer_lens==2.11.0) (0.2.0)\n",
            "Requirement already satisfied: torch>=1.10 in /usr/local/lib/python3.11/dist-packages (from transformer_lens==2.11.0) (2.6.0+cu124)\n",
            "Requirement already satisfied: tqdm>=4.64.1 in /usr/local/lib/python3.11/dist-packages (from transformer_lens==2.11.0) (4.67.1)\n",
            "Requirement already satisfied: transformers>=4.37.2 in /usr/local/lib/python3.11/dist-packages (from transformer_lens==2.11.0) (4.53.1)\n",
            "Requirement already satisfied: typeguard<5.0,>=4.2 in /usr/local/lib/python3.11/dist-packages (from transformer_lens==2.11.0) (4.4.4)\n",
            "Requirement already satisfied: typing-extensions in /usr/local/lib/python3.11/dist-packages (from transformer_lens==2.11.0) (4.14.1)\n",
            "Requirement already satisfied: wandb>=0.13.5 in /usr/local/lib/python3.11/dist-packages (from transformer_lens==2.11.0) (0.21.0)\n",
            "Collecting wadler-lindig>=0.1.3 (from jaxtyping)\n",
            "  Downloading wadler_lindig-0.1.7-py3-none-any.whl.metadata (17 kB)\n",
            "Requirement already satisfied: importlib-metadata>=5.1.0 in /usr/local/lib/python3.11/dist-packages (from circuitsvis) (8.7.0)\n",
            "Requirement already satisfied: packaging>=20.0 in /usr/local/lib/python3.11/dist-packages (from accelerate>=0.23.0->transformer_lens==2.11.0) (24.2)\n",
            "Requirement already satisfied: psutil in /usr/local/lib/python3.11/dist-packages (from accelerate>=0.23.0->transformer_lens==2.11.0) (5.9.5)\n",
            "Requirement already satisfied: pyyaml in /usr/local/lib/python3.11/dist-packages (from accelerate>=0.23.0->transformer_lens==2.11.0) (6.0.2)\n",
            "Requirement already satisfied: huggingface_hub>=0.21.0 in /usr/local/lib/python3.11/dist-packages (from accelerate>=0.23.0->transformer_lens==2.11.0) (0.33.2)\n",
            "Requirement already satisfied: safetensors>=0.4.3 in /usr/local/lib/python3.11/dist-packages (from accelerate>=0.23.0->transformer_lens==2.11.0) (0.5.3)\n",
            "Requirement already satisfied: pyarrow>=8.0.0 in /usr/local/lib/python3.11/dist-packages (from datasets>=2.7.1->transformer_lens==2.11.0) (18.1.0)\n",
            "Requirement already satisfied: dill<0.3.8,>=0.3.0 in /usr/local/lib/python3.11/dist-packages (from datasets>=2.7.1->transformer_lens==2.11.0) (0.3.7)\n",
            "Requirement already satisfied: requests>=2.19.0 in /usr/local/lib/python3.11/dist-packages (from datasets>=2.7.1->transformer_lens==2.11.0) (2.32.3)\n",
            "Requirement already satisfied: xxhash in /usr/local/lib/python3.11/dist-packages (from datasets>=2.7.1->transformer_lens==2.11.0) (3.5.0)\n",
            "Requirement already satisfied: multiprocess in /usr/local/lib/python3.11/dist-packages (from datasets>=2.7.1->transformer_lens==2.11.0) (0.70.15)\n",
            "Requirement already satisfied: fsspec>=2021.11.1 in /usr/local/lib/python3.11/dist-packages (from fsspec[http]>=2021.11.1->datasets>=2.7.1->transformer_lens==2.11.0) (2025.3.2)\n",
            "Requirement already satisfied: aiohttp in /usr/local/lib/python3.11/dist-packages (from datasets>=2.7.1->transformer_lens==2.11.0) (3.11.15)\n",
            "Requirement already satisfied: zipp>=3.20 in /usr/local/lib/python3.11/dist-packages (from importlib-metadata>=5.1.0->circuitsvis) (3.23.0)\n",
            "Requirement already satisfied: python-dateutil>=2.8.2 in /usr/local/lib/python3.11/dist-packages (from pandas>=1.1.5->transformer_lens==2.11.0) (2.9.0.post0)\n",
            "Requirement already satisfied: pytz>=2020.1 in /usr/local/lib/python3.11/dist-packages (from pandas>=1.1.5->transformer_lens==2.11.0) (2025.2)\n",
            "Requirement already satisfied: tzdata>=2022.7 in /usr/local/lib/python3.11/dist-packages (from pandas>=1.1.5->transformer_lens==2.11.0) (2025.2)\n",
            "Requirement already satisfied: markdown-it-py>=2.2.0 in /usr/local/lib/python3.11/dist-packages (from rich>=12.6.0->transformer_lens==2.11.0) (3.0.0)\n",
            "Requirement already satisfied: pygments<3.0.0,>=2.13.0 in /usr/local/lib/python3.11/dist-packages (from rich>=12.6.0->transformer_lens==2.11.0) (2.19.2)\n",
            "Requirement already satisfied: filelock in /usr/local/lib/python3.11/dist-packages (from torch>=1.10->transformer_lens==2.11.0) (3.18.0)\n",
            "Requirement already satisfied: networkx in /usr/local/lib/python3.11/dist-packages (from torch>=1.10->transformer_lens==2.11.0) (3.5)\n",
            "Requirement already satisfied: jinja2 in /usr/local/lib/python3.11/dist-packages (from torch>=1.10->transformer_lens==2.11.0) (3.1.6)\n",
            "Collecting nvidia-cuda-nvrtc-cu12==12.4.127 (from torch>=1.10->transformer_lens==2.11.0)\n",
            "  Downloading nvidia_cuda_nvrtc_cu12-12.4.127-py3-none-manylinux2014_x86_64.whl.metadata (1.5 kB)\n",
            "Collecting nvidia-cuda-runtime-cu12==12.4.127 (from torch>=1.10->transformer_lens==2.11.0)\n",
            "  Downloading nvidia_cuda_runtime_cu12-12.4.127-py3-none-manylinux2014_x86_64.whl.metadata (1.5 kB)\n",
            "Collecting nvidia-cuda-cupti-cu12==12.4.127 (from torch>=1.10->transformer_lens==2.11.0)\n",
            "  Downloading nvidia_cuda_cupti_cu12-12.4.127-py3-none-manylinux2014_x86_64.whl.metadata (1.6 kB)\n",
            "Collecting nvidia-cudnn-cu12==9.1.0.70 (from torch>=1.10->transformer_lens==2.11.0)\n",
            "  Downloading nvidia_cudnn_cu12-9.1.0.70-py3-none-manylinux2014_x86_64.whl.metadata (1.6 kB)\n",
            "Collecting nvidia-cublas-cu12==12.4.5.8 (from torch>=1.10->transformer_lens==2.11.0)\n",
            "  Downloading nvidia_cublas_cu12-12.4.5.8-py3-none-manylinux2014_x86_64.whl.metadata (1.5 kB)\n",
            "Collecting nvidia-cufft-cu12==11.2.1.3 (from torch>=1.10->transformer_lens==2.11.0)\n",
            "  Downloading nvidia_cufft_cu12-11.2.1.3-py3-none-manylinux2014_x86_64.whl.metadata (1.5 kB)\n",
            "Collecting nvidia-curand-cu12==10.3.5.147 (from torch>=1.10->transformer_lens==2.11.0)\n",
            "  Downloading nvidia_curand_cu12-10.3.5.147-py3-none-manylinux2014_x86_64.whl.metadata (1.5 kB)\n",
            "Collecting nvidia-cusolver-cu12==11.6.1.9 (from torch>=1.10->transformer_lens==2.11.0)\n",
            "  Downloading nvidia_cusolver_cu12-11.6.1.9-py3-none-manylinux2014_x86_64.whl.metadata (1.6 kB)\n",
            "Collecting nvidia-cusparse-cu12==12.3.1.170 (from torch>=1.10->transformer_lens==2.11.0)\n",
            "  Downloading nvidia_cusparse_cu12-12.3.1.170-py3-none-manylinux2014_x86_64.whl.metadata (1.6 kB)\n",
            "Requirement already satisfied: nvidia-cusparselt-cu12==0.6.2 in /usr/local/lib/python3.11/dist-packages (from torch>=1.10->transformer_lens==2.11.0) (0.6.2)\n",
            "Requirement already satisfied: nvidia-nccl-cu12==2.21.5 in /usr/local/lib/python3.11/dist-packages (from torch>=1.10->transformer_lens==2.11.0) (2.21.5)\n",
            "Requirement already satisfied: nvidia-nvtx-cu12==12.4.127 in /usr/local/lib/python3.11/dist-packages (from torch>=1.10->transformer_lens==2.11.0) (12.4.127)\n",
            "Collecting nvidia-nvjitlink-cu12==12.4.127 (from torch>=1.10->transformer_lens==2.11.0)\n",
            "  Downloading nvidia_nvjitlink_cu12-12.4.127-py3-none-manylinux2014_x86_64.whl.metadata (1.5 kB)\n",
            "Requirement already satisfied: triton==3.2.0 in /usr/local/lib/python3.11/dist-packages (from torch>=1.10->transformer_lens==2.11.0) (3.2.0)\n",
            "Requirement already satisfied: sympy==1.13.1 in /usr/local/lib/python3.11/dist-packages (from torch>=1.10->transformer_lens==2.11.0) (1.13.1)\n",
            "Requirement already satisfied: mpmath<1.4,>=1.1.0 in /usr/local/lib/python3.11/dist-packages (from sympy==1.13.1->torch>=1.10->transformer_lens==2.11.0) (1.3.0)\n",
            "Requirement already satisfied: regex!=2019.12.17 in /usr/local/lib/python3.11/dist-packages (from transformers>=4.37.2->transformer_lens==2.11.0) (2024.11.6)\n",
            "Requirement already satisfied: tokenizers<0.22,>=0.21 in /usr/local/lib/python3.11/dist-packages (from transformers>=4.37.2->transformer_lens==2.11.0) (0.21.2)\n",
            "Requirement already satisfied: click!=8.0.0,>=7.1 in /usr/local/lib/python3.11/dist-packages (from wandb>=0.13.5->transformer_lens==2.11.0) (8.2.1)\n",
            "Requirement already satisfied: gitpython!=3.1.29,>=1.0.0 in /usr/local/lib/python3.11/dist-packages (from wandb>=0.13.5->transformer_lens==2.11.0) (3.1.44)\n",
            "Requirement already satisfied: platformdirs in /usr/local/lib/python3.11/dist-packages (from wandb>=0.13.5->transformer_lens==2.11.0) (4.3.8)\n",
            "Requirement already satisfied: protobuf!=4.21.0,!=5.28.0,<7,>=3.19.0 in /usr/local/lib/python3.11/dist-packages (from wandb>=0.13.5->transformer_lens==2.11.0) (5.29.5)\n",
            "Requirement already satisfied: pydantic<3 in /usr/local/lib/python3.11/dist-packages (from wandb>=0.13.5->transformer_lens==2.11.0) (2.11.7)\n",
            "Requirement already satisfied: sentry-sdk>=2.0.0 in /usr/local/lib/python3.11/dist-packages (from wandb>=0.13.5->transformer_lens==2.11.0) (2.32.0)\n",
            "Requirement already satisfied: aiohappyeyeballs>=2.3.0 in /usr/local/lib/python3.11/dist-packages (from aiohttp->datasets>=2.7.1->transformer_lens==2.11.0) (2.6.1)\n",
            "Requirement already satisfied: aiosignal>=1.1.2 in /usr/local/lib/python3.11/dist-packages (from aiohttp->datasets>=2.7.1->transformer_lens==2.11.0) (1.4.0)\n",
            "Requirement already satisfied: attrs>=17.3.0 in /usr/local/lib/python3.11/dist-packages (from aiohttp->datasets>=2.7.1->transformer_lens==2.11.0) (25.3.0)\n",
            "Requirement already satisfied: frozenlist>=1.1.1 in /usr/local/lib/python3.11/dist-packages (from aiohttp->datasets>=2.7.1->transformer_lens==2.11.0) (1.7.0)\n",
            "Requirement already satisfied: multidict<7.0,>=4.5 in /usr/local/lib/python3.11/dist-packages (from aiohttp->datasets>=2.7.1->transformer_lens==2.11.0) (6.6.3)\n",
            "Requirement already satisfied: propcache>=0.2.0 in /usr/local/lib/python3.11/dist-packages (from aiohttp->datasets>=2.7.1->transformer_lens==2.11.0) (0.3.2)\n",
            "Requirement already satisfied: yarl<2.0,>=1.17.0 in /usr/local/lib/python3.11/dist-packages (from aiohttp->datasets>=2.7.1->transformer_lens==2.11.0) (1.20.1)\n",
            "Requirement already satisfied: gitdb<5,>=4.0.1 in /usr/local/lib/python3.11/dist-packages (from gitpython!=3.1.29,>=1.0.0->wandb>=0.13.5->transformer_lens==2.11.0) (4.0.12)\n",
            "Requirement already satisfied: hf-xet<2.0.0,>=1.1.2 in /usr/local/lib/python3.11/dist-packages (from huggingface_hub>=0.21.0->accelerate>=0.23.0->transformer_lens==2.11.0) (1.1.5)\n",
            "Requirement already satisfied: mdurl~=0.1 in /usr/local/lib/python3.11/dist-packages (from markdown-it-py>=2.2.0->rich>=12.6.0->transformer_lens==2.11.0) (0.1.2)\n",
            "Requirement already satisfied: annotated-types>=0.6.0 in /usr/local/lib/python3.11/dist-packages (from pydantic<3->wandb>=0.13.5->transformer_lens==2.11.0) (0.7.0)\n",
            "Requirement already satisfied: pydantic-core==2.33.2 in /usr/local/lib/python3.11/dist-packages (from pydantic<3->wandb>=0.13.5->transformer_lens==2.11.0) (2.33.2)\n",
            "Requirement already satisfied: typing-inspection>=0.4.0 in /usr/local/lib/python3.11/dist-packages (from pydantic<3->wandb>=0.13.5->transformer_lens==2.11.0) (0.4.1)\n",
            "Requirement already satisfied: six>=1.5 in /usr/local/lib/python3.11/dist-packages (from python-dateutil>=2.8.2->pandas>=1.1.5->transformer_lens==2.11.0) (1.17.0)\n",
            "Requirement already satisfied: charset-normalizer<4,>=2 in /usr/local/lib/python3.11/dist-packages (from requests>=2.19.0->datasets>=2.7.1->transformer_lens==2.11.0) (3.4.2)\n",
            "Requirement already satisfied: idna<4,>=2.5 in /usr/local/lib/python3.11/dist-packages (from requests>=2.19.0->datasets>=2.7.1->transformer_lens==2.11.0) (3.10)\n",
            "Requirement already satisfied: urllib3<3,>=1.21.1 in /usr/local/lib/python3.11/dist-packages (from requests>=2.19.0->datasets>=2.7.1->transformer_lens==2.11.0) (2.4.0)\n",
            "Requirement already satisfied: certifi>=2017.4.17 in /usr/local/lib/python3.11/dist-packages (from requests>=2.19.0->datasets>=2.7.1->transformer_lens==2.11.0) (2025.7.9)\n",
            "Requirement already satisfied: MarkupSafe>=2.0 in /usr/local/lib/python3.11/dist-packages (from jinja2->torch>=1.10->transformer_lens==2.11.0) (3.0.2)\n",
            "Requirement already satisfied: smmap<6,>=3.0.1 in /usr/local/lib/python3.11/dist-packages (from gitdb<5,>=4.0.1->gitpython!=3.1.29,>=1.0.0->wandb>=0.13.5->transformer_lens==2.11.0) (5.0.2)\n",
            "Downloading transformer_lens-2.11.0-py3-none-any.whl (177 kB)\n",
            "\u001b[2K   \u001b[90m━━━━━━━━━━━━━━━━━━━━━━━━━━━━━━━━━━━━━━━━\u001b[0m \u001b[32m177.6/177.6 kB\u001b[0m \u001b[31m8.8 MB/s\u001b[0m eta \u001b[36m0:00:00\u001b[0m\n",
            "\u001b[?25hDownloading jaxtyping-0.3.2-py3-none-any.whl (55 kB)\n",
            "\u001b[2K   \u001b[90m━━━━━━━━━━━━━━━━━━━━━━━━━━━━━━━━━━━━━━━━\u001b[0m \u001b[32m55.4/55.4 kB\u001b[0m \u001b[31m5.3 MB/s\u001b[0m eta \u001b[36m0:00:00\u001b[0m\n",
            "\u001b[?25hDownloading circuitsvis-1.43.3-py3-none-any.whl (1.8 MB)\n",
            "\u001b[2K   \u001b[90m━━━━━━━━━━━━━━━━━━━━━━━━━━━━━━━━━━━━━━━━\u001b[0m \u001b[32m1.8/1.8 MB\u001b[0m \u001b[31m43.4 MB/s\u001b[0m eta \u001b[36m0:00:00\u001b[0m\n",
            "\u001b[?25hDownloading beartype-0.14.1-py3-none-any.whl (739 kB)\n",
            "\u001b[2K   \u001b[90m━━━━━━━━━━━━━━━━━━━━━━━━━━━━━━━━━━━━━━━━\u001b[0m \u001b[32m739.7/739.7 kB\u001b[0m \u001b[31m55.4 MB/s\u001b[0m eta \u001b[36m0:00:00\u001b[0m\n",
            "\u001b[?25hDownloading better_abc-0.0.3-py3-none-any.whl (3.5 kB)\n",
            "Downloading fancy_einsum-0.0.3-py3-none-any.whl (6.2 kB)\n",
            "Downloading nvidia_cublas_cu12-12.4.5.8-py3-none-manylinux2014_x86_64.whl (363.4 MB)\n",
            "\u001b[2K   \u001b[90m━━━━━━━━━━━━━━━━━━━━━━━━━━━━━━━━━━━━━━━━\u001b[0m \u001b[32m363.4/363.4 MB\u001b[0m \u001b[31m4.4 MB/s\u001b[0m eta \u001b[36m0:00:00\u001b[0m\n",
            "\u001b[?25hDownloading nvidia_cuda_cupti_cu12-12.4.127-py3-none-manylinux2014_x86_64.whl (13.8 MB)\n",
            "\u001b[2K   \u001b[90m━━━━━━━━━━━━━━━━━━━━━━━━━━━━━━━━━━━━━━━━\u001b[0m \u001b[32m13.8/13.8 MB\u001b[0m \u001b[31m118.6 MB/s\u001b[0m eta \u001b[36m0:00:00\u001b[0m\n",
            "\u001b[?25hDownloading nvidia_cuda_nvrtc_cu12-12.4.127-py3-none-manylinux2014_x86_64.whl (24.6 MB)\n",
            "\u001b[2K   \u001b[90m━━━━━━━━━━━━━━━━━━━━━━━━━━━━━━━━━━━━━━━━\u001b[0m \u001b[32m24.6/24.6 MB\u001b[0m \u001b[31m80.6 MB/s\u001b[0m eta \u001b[36m0:00:00\u001b[0m\n",
            "\u001b[?25hDownloading nvidia_cuda_runtime_cu12-12.4.127-py3-none-manylinux2014_x86_64.whl (883 kB)\n",
            "\u001b[2K   \u001b[90m━━━━━━━━━━━━━━━━━━━━━━━━━━━━━━━━━━━━━━━━\u001b[0m \u001b[32m883.7/883.7 kB\u001b[0m \u001b[31m52.5 MB/s\u001b[0m eta \u001b[36m0:00:00\u001b[0m\n",
            "\u001b[?25hDownloading nvidia_cudnn_cu12-9.1.0.70-py3-none-manylinux2014_x86_64.whl (664.8 MB)\n",
            "\u001b[2K   \u001b[90m━━━━━━━━━━━━━━━━━━━━━━━━━━━━━━━━━━━━━━━━\u001b[0m \u001b[32m664.8/664.8 MB\u001b[0m \u001b[31m2.7 MB/s\u001b[0m eta \u001b[36m0:00:00\u001b[0m\n",
            "\u001b[?25hDownloading nvidia_cufft_cu12-11.2.1.3-py3-none-manylinux2014_x86_64.whl (211.5 MB)\n",
            "\u001b[2K   \u001b[90m━━━━━━━━━━━━━━━━━━━━━━━━━━━━━━━━━━━━━━━━\u001b[0m \u001b[32m211.5/211.5 MB\u001b[0m \u001b[31m6.2 MB/s\u001b[0m eta \u001b[36m0:00:00\u001b[0m\n",
            "\u001b[?25hDownloading nvidia_curand_cu12-10.3.5.147-py3-none-manylinux2014_x86_64.whl (56.3 MB)\n",
            "\u001b[2K   \u001b[90m━━━━━━━━━━━━━━━━━━━━━━━━━━━━━━━━━━━━━━━━\u001b[0m \u001b[32m56.3/56.3 MB\u001b[0m \u001b[31m12.2 MB/s\u001b[0m eta \u001b[36m0:00:00\u001b[0m\n",
            "\u001b[?25hDownloading nvidia_cusolver_cu12-11.6.1.9-py3-none-manylinux2014_x86_64.whl (127.9 MB)\n",
            "\u001b[2K   \u001b[90m━━━━━━━━━━━━━━━━━━━━━━━━━━━━━━━━━━━━━━━━\u001b[0m \u001b[32m127.9/127.9 MB\u001b[0m \u001b[31m7.8 MB/s\u001b[0m eta \u001b[36m0:00:00\u001b[0m\n",
            "\u001b[?25hDownloading nvidia_cusparse_cu12-12.3.1.170-py3-none-manylinux2014_x86_64.whl (207.5 MB)\n",
            "\u001b[2K   \u001b[90m━━━━━━━━━━━━━━━━━━━━━━━━━━━━━━━━━━━━━━━━\u001b[0m \u001b[32m207.5/207.5 MB\u001b[0m \u001b[31m6.7 MB/s\u001b[0m eta \u001b[36m0:00:00\u001b[0m\n",
            "\u001b[?25hDownloading nvidia_nvjitlink_cu12-12.4.127-py3-none-manylinux2014_x86_64.whl (21.1 MB)\n",
            "\u001b[2K   \u001b[90m━━━━━━━━━━━━━━━━━━━━━━━━━━━━━━━━━━━━━━━━\u001b[0m \u001b[32m21.1/21.1 MB\u001b[0m \u001b[31m74.1 MB/s\u001b[0m eta \u001b[36m0:00:00\u001b[0m\n",
            "\u001b[?25hDownloading wadler_lindig-0.1.7-py3-none-any.whl (20 kB)\n",
            "Installing collected packages: better-abc, wadler-lindig, nvidia-nvjitlink-cu12, nvidia-curand-cu12, nvidia-cufft-cu12, nvidia-cuda-runtime-cu12, nvidia-cuda-nvrtc-cu12, nvidia-cuda-cupti-cu12, nvidia-cublas-cu12, fancy-einsum, beartype, nvidia-cusparse-cu12, nvidia-cudnn-cu12, jaxtyping, nvidia-cusolver-cu12, circuitsvis, transformer_lens\n",
            "  Attempting uninstall: nvidia-nvjitlink-cu12\n",
            "    Found existing installation: nvidia-nvjitlink-cu12 12.5.82\n",
            "    Uninstalling nvidia-nvjitlink-cu12-12.5.82:\n",
            "      Successfully uninstalled nvidia-nvjitlink-cu12-12.5.82\n",
            "  Attempting uninstall: nvidia-curand-cu12\n",
            "    Found existing installation: nvidia-curand-cu12 10.3.6.82\n",
            "    Uninstalling nvidia-curand-cu12-10.3.6.82:\n",
            "      Successfully uninstalled nvidia-curand-cu12-10.3.6.82\n",
            "  Attempting uninstall: nvidia-cufft-cu12\n",
            "    Found existing installation: nvidia-cufft-cu12 11.2.3.61\n",
            "    Uninstalling nvidia-cufft-cu12-11.2.3.61:\n",
            "      Successfully uninstalled nvidia-cufft-cu12-11.2.3.61\n",
            "  Attempting uninstall: nvidia-cuda-runtime-cu12\n",
            "    Found existing installation: nvidia-cuda-runtime-cu12 12.5.82\n",
            "    Uninstalling nvidia-cuda-runtime-cu12-12.5.82:\n",
            "      Successfully uninstalled nvidia-cuda-runtime-cu12-12.5.82\n",
            "  Attempting uninstall: nvidia-cuda-nvrtc-cu12\n",
            "    Found existing installation: nvidia-cuda-nvrtc-cu12 12.5.82\n",
            "    Uninstalling nvidia-cuda-nvrtc-cu12-12.5.82:\n",
            "      Successfully uninstalled nvidia-cuda-nvrtc-cu12-12.5.82\n",
            "  Attempting uninstall: nvidia-cuda-cupti-cu12\n",
            "    Found existing installation: nvidia-cuda-cupti-cu12 12.5.82\n",
            "    Uninstalling nvidia-cuda-cupti-cu12-12.5.82:\n",
            "      Successfully uninstalled nvidia-cuda-cupti-cu12-12.5.82\n",
            "  Attempting uninstall: nvidia-cublas-cu12\n",
            "    Found existing installation: nvidia-cublas-cu12 12.5.3.2\n",
            "    Uninstalling nvidia-cublas-cu12-12.5.3.2:\n",
            "      Successfully uninstalled nvidia-cublas-cu12-12.5.3.2\n",
            "  Attempting uninstall: nvidia-cusparse-cu12\n",
            "    Found existing installation: nvidia-cusparse-cu12 12.5.1.3\n",
            "    Uninstalling nvidia-cusparse-cu12-12.5.1.3:\n",
            "      Successfully uninstalled nvidia-cusparse-cu12-12.5.1.3\n",
            "  Attempting uninstall: nvidia-cudnn-cu12\n",
            "    Found existing installation: nvidia-cudnn-cu12 9.3.0.75\n",
            "    Uninstalling nvidia-cudnn-cu12-9.3.0.75:\n",
            "      Successfully uninstalled nvidia-cudnn-cu12-9.3.0.75\n",
            "  Attempting uninstall: nvidia-cusolver-cu12\n",
            "    Found existing installation: nvidia-cusolver-cu12 11.6.3.83\n",
            "    Uninstalling nvidia-cusolver-cu12-11.6.3.83:\n",
            "      Successfully uninstalled nvidia-cusolver-cu12-11.6.3.83\n",
            "Successfully installed beartype-0.14.1 better-abc-0.0.3 circuitsvis-1.43.3 fancy-einsum-0.0.3 jaxtyping-0.3.2 nvidia-cublas-cu12-12.4.5.8 nvidia-cuda-cupti-cu12-12.4.127 nvidia-cuda-nvrtc-cu12-12.4.127 nvidia-cuda-runtime-cu12-12.4.127 nvidia-cudnn-cu12-9.1.0.70 nvidia-cufft-cu12-11.2.1.3 nvidia-curand-cu12-10.3.5.147 nvidia-cusolver-cu12-11.6.1.9 nvidia-cusparse-cu12-12.3.1.170 nvidia-nvjitlink-cu12-12.4.127 transformer_lens-2.11.0 wadler-lindig-0.1.7\n",
            "Requirement already satisfied: datasets in /usr/local/lib/python3.11/dist-packages (2.14.4)\n",
            "Collecting datasets\n",
            "  Downloading datasets-4.0.0-py3-none-any.whl.metadata (19 kB)\n",
            "Requirement already satisfied: filelock in /usr/local/lib/python3.11/dist-packages (from datasets) (3.18.0)\n",
            "Requirement already satisfied: numpy>=1.17 in /usr/local/lib/python3.11/dist-packages (from datasets) (2.0.2)\n",
            "Requirement already satisfied: pyarrow>=15.0.0 in /usr/local/lib/python3.11/dist-packages (from datasets) (18.1.0)\n",
            "Requirement already satisfied: dill<0.3.9,>=0.3.0 in /usr/local/lib/python3.11/dist-packages (from datasets) (0.3.7)\n",
            "Requirement already satisfied: pandas in /usr/local/lib/python3.11/dist-packages (from datasets) (2.2.2)\n",
            "Requirement already satisfied: requests>=2.32.2 in /usr/local/lib/python3.11/dist-packages (from datasets) (2.32.3)\n",
            "Requirement already satisfied: tqdm>=4.66.3 in /usr/local/lib/python3.11/dist-packages (from datasets) (4.67.1)\n",
            "Requirement already satisfied: xxhash in /usr/local/lib/python3.11/dist-packages (from datasets) (3.5.0)\n",
            "Requirement already satisfied: multiprocess<0.70.17 in /usr/local/lib/python3.11/dist-packages (from datasets) (0.70.15)\n",
            "Collecting fsspec<=2025.3.0,>=2023.1.0 (from fsspec[http]<=2025.3.0,>=2023.1.0->datasets)\n",
            "  Downloading fsspec-2025.3.0-py3-none-any.whl.metadata (11 kB)\n",
            "Requirement already satisfied: huggingface-hub>=0.24.0 in /usr/local/lib/python3.11/dist-packages (from datasets) (0.33.2)\n",
            "Requirement already satisfied: packaging in /usr/local/lib/python3.11/dist-packages (from datasets) (24.2)\n",
            "Requirement already satisfied: pyyaml>=5.1 in /usr/local/lib/python3.11/dist-packages (from datasets) (6.0.2)\n",
            "Requirement already satisfied: aiohttp!=4.0.0a0,!=4.0.0a1 in /usr/local/lib/python3.11/dist-packages (from fsspec[http]<=2025.3.0,>=2023.1.0->datasets) (3.11.15)\n",
            "Requirement already satisfied: typing-extensions>=3.7.4.3 in /usr/local/lib/python3.11/dist-packages (from huggingface-hub>=0.24.0->datasets) (4.14.1)\n",
            "Requirement already satisfied: hf-xet<2.0.0,>=1.1.2 in /usr/local/lib/python3.11/dist-packages (from huggingface-hub>=0.24.0->datasets) (1.1.5)\n",
            "Requirement already satisfied: charset-normalizer<4,>=2 in /usr/local/lib/python3.11/dist-packages (from requests>=2.32.2->datasets) (3.4.2)\n",
            "Requirement already satisfied: idna<4,>=2.5 in /usr/local/lib/python3.11/dist-packages (from requests>=2.32.2->datasets) (3.10)\n",
            "Requirement already satisfied: urllib3<3,>=1.21.1 in /usr/local/lib/python3.11/dist-packages (from requests>=2.32.2->datasets) (2.4.0)\n",
            "Requirement already satisfied: certifi>=2017.4.17 in /usr/local/lib/python3.11/dist-packages (from requests>=2.32.2->datasets) (2025.7.9)\n",
            "Requirement already satisfied: python-dateutil>=2.8.2 in /usr/local/lib/python3.11/dist-packages (from pandas->datasets) (2.9.0.post0)\n",
            "Requirement already satisfied: pytz>=2020.1 in /usr/local/lib/python3.11/dist-packages (from pandas->datasets) (2025.2)\n",
            "Requirement already satisfied: tzdata>=2022.7 in /usr/local/lib/python3.11/dist-packages (from pandas->datasets) (2025.2)\n",
            "Requirement already satisfied: aiohappyeyeballs>=2.3.0 in /usr/local/lib/python3.11/dist-packages (from aiohttp!=4.0.0a0,!=4.0.0a1->fsspec[http]<=2025.3.0,>=2023.1.0->datasets) (2.6.1)\n",
            "Requirement already satisfied: aiosignal>=1.1.2 in /usr/local/lib/python3.11/dist-packages (from aiohttp!=4.0.0a0,!=4.0.0a1->fsspec[http]<=2025.3.0,>=2023.1.0->datasets) (1.4.0)\n",
            "Requirement already satisfied: attrs>=17.3.0 in /usr/local/lib/python3.11/dist-packages (from aiohttp!=4.0.0a0,!=4.0.0a1->fsspec[http]<=2025.3.0,>=2023.1.0->datasets) (25.3.0)\n",
            "Requirement already satisfied: frozenlist>=1.1.1 in /usr/local/lib/python3.11/dist-packages (from aiohttp!=4.0.0a0,!=4.0.0a1->fsspec[http]<=2025.3.0,>=2023.1.0->datasets) (1.7.0)\n",
            "Requirement already satisfied: multidict<7.0,>=4.5 in /usr/local/lib/python3.11/dist-packages (from aiohttp!=4.0.0a0,!=4.0.0a1->fsspec[http]<=2025.3.0,>=2023.1.0->datasets) (6.6.3)\n",
            "Requirement already satisfied: propcache>=0.2.0 in /usr/local/lib/python3.11/dist-packages (from aiohttp!=4.0.0a0,!=4.0.0a1->fsspec[http]<=2025.3.0,>=2023.1.0->datasets) (0.3.2)\n",
            "Requirement already satisfied: yarl<2.0,>=1.17.0 in /usr/local/lib/python3.11/dist-packages (from aiohttp!=4.0.0a0,!=4.0.0a1->fsspec[http]<=2025.3.0,>=2023.1.0->datasets) (1.20.1)\n",
            "Requirement already satisfied: six>=1.5 in /usr/local/lib/python3.11/dist-packages (from python-dateutil>=2.8.2->pandas->datasets) (1.17.0)\n",
            "Downloading datasets-4.0.0-py3-none-any.whl (494 kB)\n",
            "\u001b[2K   \u001b[90m━━━━━━━━━━━━━━━━━━━━━━━━━━━━━━━━━━━━━━━━\u001b[0m \u001b[32m494.8/494.8 kB\u001b[0m \u001b[31m13.6 MB/s\u001b[0m eta \u001b[36m0:00:00\u001b[0m\n",
            "\u001b[?25hDownloading fsspec-2025.3.0-py3-none-any.whl (193 kB)\n",
            "\u001b[2K   \u001b[90m━━━━━━━━━━━━━━━━━━━━━━━━━━━━━━━━━━━━━━━━\u001b[0m \u001b[32m193.6/193.6 kB\u001b[0m \u001b[31m16.6 MB/s\u001b[0m eta \u001b[36m0:00:00\u001b[0m\n",
            "\u001b[?25hInstalling collected packages: fsspec, datasets\n",
            "  Attempting uninstall: fsspec\n",
            "    Found existing installation: fsspec 2025.3.2\n",
            "    Uninstalling fsspec-2025.3.2:\n",
            "      Successfully uninstalled fsspec-2025.3.2\n",
            "  Attempting uninstall: datasets\n",
            "    Found existing installation: datasets 2.14.4\n",
            "    Uninstalling datasets-2.14.4:\n",
            "      Successfully uninstalled datasets-2.14.4\n",
            "\u001b[31mERROR: pip's dependency resolver does not currently take into account all the packages that are installed. This behaviour is the source of the following dependency conflicts.\n",
            "gcsfs 2025.3.2 requires fsspec==2025.3.2, but you have fsspec 2025.3.0 which is incompatible.\u001b[0m\u001b[31m\n",
            "\u001b[0mSuccessfully installed datasets-4.0.0 fsspec-2025.3.0\n"
          ]
        }
      ],
      "source": [
        "%pip install transformer_lens==2.11.0 einops jaxtyping circuitsvis\n",
        "# %pip install git+https://github.com/callummcdougall/CircuitsVis.git#subdirectory=python # for mech interp visualizations\n",
        "%pip install -U datasets"
      ]
    },
    {
      "cell_type": "code",
      "execution_count": null,
      "metadata": {
        "id": "3wL7ZdMtZPp6"
      },
      "outputs": [],
      "source": [
        "import os\n",
        "# import sys\n",
        "# import math\n",
        "# import webbrowser\n",
        "# from collections import defaultdict\n",
        "from dataclasses import dataclass\n",
        "# from pathlib import Path\n",
        "import datasets\n",
        "import einops\n",
        "import numpy as np\n",
        "import torch\n",
        "# import torch.nn as nn\n",
        "from torch import Tensor\n",
        "from torch.utils.data import DataLoader\n",
        "import wandb\n",
        "# from typing import Callable\n",
        "from jaxtyping import Float, Int\n",
        "from rich import print as rprint\n",
        "from rich.table import Table\n",
        "from tqdm.notebook import tqdm\n",
        "from transformer_lens import HookedTransformer\n",
        "# from transformer_lens.utils import gelu_new, tokenize_and_concatenate\n",
        "from transformers.models.gpt2.tokenization_gpt2_fast import GPT2TokenizerFast\n",
        "\n",
        "\n",
        "device = torch.device(\"mps\" if torch.backends.mps.is_available() else \"cuda\" if torch.cuda.is_available() else \"cpu\")"
      ]
    },
    {
      "cell_type": "markdown",
      "metadata": {
        "id": "cBUG5fNsZc7l"
      },
      "source": [
        "## sign in"
      ]
    },
    {
      "cell_type": "code",
      "execution_count": null,
      "metadata": {
        "id": "86z-Z4rMZfTq"
      },
      "outputs": [],
      "source": [
        "!pip install python-dotenv\n",
        "!git clone https://github.com/sepiatone/wb-colab-files.git\n",
        "%cd wb-colab-files"
      ]
    },
    {
      "cell_type": "code",
      "execution_count": null,
      "metadata": {
        "id": "eEYNVz4yZhIC"
      },
      "outputs": [],
      "source": [
        "from login import login_form\n",
        "from submit import test_submit\n",
        "\n",
        "login_form()"
      ]
    },
    {
      "cell_type": "markdown",
      "metadata": {
        "id": "_3CxyteWGwrG"
      },
      "source": [
        "## content & learning objectives\n",
        "\n",
        "### 1️⃣ understanding the inputs & outputs of a transformer\n",
        "\n",
        "in this section, we'll take a first look at transformers - what their function is, how information moves inside a transformer, and what inputs & outputs they take\n",
        "\n",
        "\n",
        "### 2️⃣ clean transformer implementation\n",
        "\n",
        "in thi section, we'll understand the high level architecture of a transformer and then implement it from first principles\n",
        "\n",
        "\n",
        "### 3️⃣ training a transformer\n",
        "\n",
        "in this section, we'll learn how to train a transformer from scratch\n",
        "\n",
        "\n",
        "### 4️⃣ sampling from a transformer\n",
        "\n",
        "in this section we'll learn how to sample from a transformer"
      ]
    },
    {
      "cell_type": "markdown",
      "metadata": {
        "id": "LsCfM3LZGwrH"
      },
      "source": [
        "# 1️⃣ understanding the inputs & outputs of a transformer\n",
        "\n",
        "##### learning objectives\n",
        "- understand what a transformer is used for\n",
        "- understand causal attention, and what a transformer's output represents\n",
        "- understand what logits are, and how to use them to derive a probability distribution over the vocabulary\n",
        "- learn what tokenization is, and how models do it"
      ]
    },
    {
      "cell_type": "markdown",
      "metadata": {
        "id": "cSeNPe_EGwrH"
      },
      "source": [
        "## 1.0 what is the point of a transformer? what is causal attention? what are logits?"
      ]
    },
    {
      "cell_type": "markdown",
      "metadata": {
        "id": "W8R79G5SGwrH"
      },
      "source": [
        "**transformers exist to model text!**\n",
        "\n",
        "we're going to focus on gpt-2 style transformers.\n",
        "\n",
        "key feature: they generate text! you feed in language, and the model generates a probability distribution over tokens. and you can repeatedly sample from this to generate text!\n",
        "\n",
        "(to explain this in more detail - you feed in a sequence of length $n$, then sample from the probability distribution over the $n+1$-th ~~word~~ token (explained soon!), use this to construct a new sequence of length $n+1$, then feed this new sequence into the model to get a probability distribution over the $n+2$-th token, and so on.)\n",
        "\n",
        "### how is the model trained?\n",
        "\n",
        "you give it a bunch of text, and train it to predict the next token.\n",
        "\n",
        "importantly, if you give a model 100 tokens in a sequence, it predicts the next token for *each* prefix, i.e. it produces 100 logit vectors (= probability distributions) over the set of all words in our vocabulary, with the `i`-th logit vector representing the probability distribution over the token *following* the `i`-th token in the sequence. this is a key part of what allows transformers to be trained so efficiently; for every sequence of length $n$ we get $n$ different predictions to train on:\n",
        "\n",
        "$$\n",
        "p(x_1), \\; p(x_2|x_1), \\; p(x_3|x_1x_2), \\; \\ldots, \\; p(x_n|x_1 \\ldots x_{n-1})\n",
        "$$\n",
        "\n",
        "<details>\n",
        "<summary>aside - logits</summary>\n",
        "\n",
        "if you haven't encountered the term \"logits\" before, here's a quick refresher.\n",
        "\n",
        "given an arbitrary vector $x$, we can turn it into a probability distribution via the **softmax** function: $x_i \\to \\frac{e^{x_i}}{\\sum e^{x_j}}$. the exponential makes everything positive; the normalization makes it add to one.\n",
        "\n",
        "the model's output is the vector $x$ (one for each prediction it makes). we call this vector a logit because it represents a probability distribution, and it is related to the actual probabilities via the softmax function.\n",
        "</details>\n",
        "\n",
        "how do we stop the transformer by \"cheating\" by just looking at the tokens it's trying to predict? answer - we make the transformer have *causal attention* (as opposed to *bidirectional attention*). causal attention only allows information to move forwards in the sequence, never backwards. the prediction of what comes after token 50 is only a function of the first 50 tokens, *not* of token 51. we say the transformer is **autoregressive**, because it only predicts future words based on past data."
      ]
    },
    {
      "cell_type": "markdown",
      "metadata": {
        "id": "_ZEqyb2BGwrH"
      },
      "source": [
        "<img src=\"https://raw.githubusercontent.com/info-arena/ARENA_img/main/misc/transformer-overview-new.png\" width=\"900\">"
      ]
    },
    {
      "cell_type": "markdown",
      "metadata": {
        "id": "yOF6stpzGwrH"
      },
      "source": [
        "## 1.1 transformer inputs - tokens"
      ]
    },
    {
      "cell_type": "markdown",
      "metadata": {
        "id": "1lksda8UGwrH"
      },
      "source": [
        "our tranformer's input is natural language (i.e. a sequence of characters, strings, etc). But ml models generally take vectors as input, not language. how do we convert language to vectors?\n",
        "\n",
        "we can factor this into 2 questions:\n",
        "\n",
        "1. how do we split up language into small sub-units?\n",
        "2. how do we convert these sub-units into vectors?\n",
        "\n",
        "Let's start with the second of these questions."
      ]
    },
    {
      "cell_type": "markdown",
      "metadata": {
        "id": "G_Qo9rsIGwrH"
      },
      "source": [
        "### converting sub-units to vectors\n",
        "\n",
        "we basically make a massive lookup table, which is called an **embedding**. it has one vector for each possible sub-unit of language we might get (we call this set of all sub-units our **vocabulary**). we label every element in our vocabulary with an integer (this labelling never changes), and we use this integer to index into the embedding.\n",
        "\n",
        "a key intuition is that one-hot encodings let you think about each integer independently. We don't bake in any relation between sub-units when we perform our embedding, because every sub-units has a completely separate embedding vector.\n",
        "\n",
        "<details>\n",
        "<summary>aside - one-hot encodings</summary>\n",
        "\n",
        "we sometimes think about **one-hot encodings** of sub-units. these are vectors with zeros everywhere, except for a single one in the position corresponding to the sub-unit's index in the vocabulary. this means that indexing into the embedding is equivalent to multiplying the **embedding matrix** by the one-hot encoding (where the embedding matrix is the matrix we get by stacking all the embedding vectors on top of each other).\n",
        "\n",
        "$$\n",
        "\\begin{aligned}\n",
        "W_E &= \\begin{bmatrix}\n",
        "\\leftarrow v_0 \\rightarrow \\\\\n",
        "\\leftarrow v_1 \\rightarrow \\\\\n",
        "\\vdots \\\\\n",
        "\\leftarrow v_{d_{vocab}-1} \\rightarrow \\\\\n",
        "\\end{bmatrix} \\quad \\text{is the embedding matrix (size }d_{vocab} \\times d_{embed}\\text{),} \\\\\n",
        "\\\\\n",
        "t_i &= (0, \\dots, 0, 1, 0, \\dots, 0) \\quad \\text{is the one-hot encoding for the }i\\text{th word (length }d_{vocab}\\text{)} \\\\\n",
        "\\\\\n",
        "v_i &= t_i W_E \\quad \\text{is the embedding vector for the }i\\text{th word (length }d_{embed}\\text{).} \\\\\n",
        "\\end{aligned}\n",
        "$$\n",
        "\n",
        "</details>\n",
        "\n",
        "a key point is that the embedding matrix is also learnt during model training.\n",
        "\n",
        "now, let's answer the first question - how do we split language into sub-units?"
      ]
    },
    {
      "cell_type": "markdown",
      "metadata": {
        "id": "qFQt8KtLGwrH"
      },
      "source": [
        "### splitting language into sub-units\n",
        "\n",
        "we need to define a standard way of splitting up language into a series of substrings, where each substring is a member of our **vocabulary** set.\n",
        "\n",
        "could we use a dictionary, and have our vocabulary be the set of all words in the dictionary? no, because this couldn't handle arbitrary text (e.g. urls, punctuation, etc). we need a more general way of splitting up language.\n",
        "\n",
        "could we just use the 256 ascii characters? this fixes the previous problem, but it loses structure of language - some sequences of characters are more meaningful than others. for example, \"language\" is a lot more meaningful than \"hjksdfiu\". we want \"language\" to be a single token, but not \"hjksdfiu\" - this is a more efficient use of our vocab.\n",
        "\n",
        "what actually happens? the most common strategy is called **byte-pair encodings**.\n",
        "\n",
        "we begin with the 256 ascii characters as our tokens, and then find the most common pair of tokens, and merge that into a new token. note that we do have a space character as one of our 256 tokens, and merges using space are very common. for instance, here are the five first merges for the tokenizer used by gpt-2 (you'll be able to verify this below).\n",
        "\n",
        "```\n",
        "\" t\"\n",
        "\" a\"\n",
        "\"he\"\n",
        "\"in\"\n",
        "\"re\"\n",
        "```\n",
        "\n",
        "note - you might see the character `Ġ` in front of some tokens. This is a special token that indicates that the token begins with a space. tokens with a leading space vs not are different.\n",
        "\n",
        "you can run the code below to load in the `gpt2-small` model, and see more of its tokenizer's vocabulary:"
      ]
    },
    {
      "cell_type": "code",
      "execution_count": null,
      "metadata": {
        "id": "9IlsHrXNGwrH"
      },
      "outputs": [],
      "source": [
        "reference_gpt2 = HookedTransformer.from_pretrained(\n",
        "    \"gpt2-small\",\n",
        "    fold_ln=False,\n",
        "    center_unembed=False,\n",
        "    center_writing_weights=False,  # you'll learn about these arguments later!\n",
        ")\n",
        "\n",
        "sorted_vocab = sorted(list(reference_gpt2.tokenizer.vocab.items()), key=lambda n: n[1])\n",
        "\n",
        "print(sorted_vocab[:20])\n",
        "print()\n",
        "print(sorted_vocab[250:270])\n",
        "print()\n",
        "print(sorted_vocab[990:1010])\n",
        "print()"
      ]
    },
    {
      "cell_type": "markdown",
      "metadata": {
        "id": "QrvHCsBOGwrH"
      },
      "source": [
        "<details>\n",
        "<summary>aside - HookedTransformer</summary>\n",
        "\n",
        "`HookedTransformer` is a class from the `TransformerLens` library instrumented (provides hooks) to access and potentially modify the internal activations of the model during a forward pass. this is useful for understanding how information flows through the different layers and components of the transformer.\n",
        "</details>\n",
        "\n",
        "as you get to the end of the vocabulary, you'll be producing some pretty weird-looking esoteric tokens (because you'll already have exhausted all of the short frequently-occurring ones):"
      ]
    },
    {
      "cell_type": "code",
      "execution_count": null,
      "metadata": {
        "id": "Gm0wDpX4GwrH"
      },
      "outputs": [],
      "source": [
        "print(sorted_vocab[-20:])"
      ]
    },
    {
      "cell_type": "markdown",
      "metadata": {
        "id": "t54M-8tQGwrI"
      },
      "source": [
        "<details>\n",
        "<summary>fun (completely optional) exercise - can you guess what the first-formed 3/4/5/6/7-letter encodings in gpt-2's vocabulary are?</summary>\n",
        "run this code to find out:\n",
        "\n",
        "```python\n",
        "lengths = dict.fromkeys(range(3, 8), \"\")\n",
        "for tok, idx in sorted_vocab:\n",
        "    if not lengths.get(len(tok), True):\n",
        "        lengths[len(tok)] = tok\n",
        "\n",
        "for length, tok in lengths.items():\n",
        "    print(f\"{length}: {tok}\")\n",
        "```\n",
        "</details>"
      ]
    },
    {
      "cell_type": "markdown",
      "metadata": {
        "id": "e2fh0VYuGwrI"
      },
      "source": [
        "transformers in the `TransformerLens` library have a `to_tokens` method that converts text to numbers. it also prepends them with a special token called bos (beginning of sequence) to indicate the start of a sequence. you can disable this with the `prepend_bos=False` argument.\n",
        "\n",
        "<details>\n",
        "<summary>aside - bos token</summary>\n",
        "\n",
        "the beginning of sequence (bos) token is a special token used to mark the beginning of the sequence. confusingly, in gpt-2, the end of sequence (eos), beginning of sequence (bos) and padding (pad) tokens are all the same, `<|endoftext|>` with index `50256`.\n",
        "\n",
        "why is this token added? some basic intuitions are:\n",
        "\n",
        "* it provides context that this is the start of a sequence, which can help the model generate more appropriate text.\n",
        "* it can act as a \"rest position\" for attention heads (more on this later, when we discuss attention).\n",
        "\n",
        "`TransformerLens` adds this token automatically (including in forward passes of transformer models, e.g. it's implicitly added when you call `model(\"hello world\")`). you can disable this behaviour by setting the flag `prepend_bos=False` in `to_tokens`, `to_str_tokens`, `model.forward` and any other function that converts strings to multi-token tensors.\n",
        "\n",
        "**key point: *if you get weird off-by-one errors, check whether there's an unexpected `prepend_bos`!***\n",
        "\n",
        "why are the bos, eos and pad tokens the same? This is because gpt-2 is an autoregressive model, and uses these kinds of tokens in a slightly different way to other transformer families (e.g. bert). For instance, gpt has no need to distinguish between bos and eos tokens, because it only processes text from left to right.\n",
        "\n",
        "</details>\n",
        "\n",
        "### some tokenization annoyances\n",
        "\n",
        "there are a few funky and frustrating things about tokenization, which causes it to behave differently than you might expect. for instance:\n",
        "\n",
        "#### whether a word begins with a capital or space matters!"
      ]
    },
    {
      "cell_type": "code",
      "execution_count": null,
      "metadata": {
        "id": "FDvznerCGwrI"
      },
      "outputs": [],
      "source": [
        "print(reference_gpt2.to_str_tokens(\"Ralph\"))\n",
        "print(reference_gpt2.to_str_tokens(\" Ralph\"))\n",
        "print(reference_gpt2.to_str_tokens(\" ralph\"))\n",
        "print(reference_gpt2.to_str_tokens(\"ralph\"))"
      ]
    },
    {
      "cell_type": "markdown",
      "metadata": {
        "id": "JAQ7TiisGwrI"
      },
      "source": [
        "#### arithmetic is a mess.\n",
        "\n",
        "length is inconsistent, common numbers bundle together."
      ]
    },
    {
      "cell_type": "code",
      "execution_count": null,
      "metadata": {
        "id": "s0PZw784GwrI"
      },
      "outputs": [],
      "source": [
        "print(reference_gpt2.to_str_tokens(\"56873+3184623=123456789-1000000000\"))"
      ]
    },
    {
      "cell_type": "markdown",
      "metadata": {
        "id": "JUQN7hCwGwrI"
      },
      "source": [
        "### key takeaways\n",
        "\n",
        "- we learn a dictionary of vocab of tokens (sub-words).\n",
        "- we (approx) losslessly convert language to integers via tokenizing it.\n",
        "- we convert integers to vectors via a lookup table.\n",
        "- note: input to the transformer is a sequence of *tokens* (ie integers), not vectors"
      ]
    },
    {
      "cell_type": "markdown",
      "metadata": {
        "id": "mfFSX72wGwrI"
      },
      "source": [
        "## 1.2 transformer outputs - logits (and eventually text generation)"
      ]
    },
    {
      "cell_type": "markdown",
      "metadata": {
        "id": "HZ7e8iG-5bAL"
      },
      "source": [
        "now that we understand the basic ideas here, let's go through the entire process of text generation, from our original string to a new token which we can append to our string and plug back into the model."
      ]
    },
    {
      "cell_type": "markdown",
      "metadata": {
        "id": "oIDh6YaK4fGU"
      },
      "source": [
        "#### **step 1:** convert text to tokens\n",
        "\n",
        "the sequence gets tokenized, so it has shape `[batch, seq_len]`. Here, the batch dimension is just one (because we only have one sequence)."
      ]
    },
    {
      "cell_type": "code",
      "execution_count": null,
      "metadata": {
        "id": "qMm6fEq3GwrI"
      },
      "outputs": [],
      "source": [
        "reference_text = \"I am an amazing autoregressive, decoder-only, GPT-2 style transformer. One day I will exceed human level intelligence and take over the world!\"\n",
        "tokens = reference_gpt2.to_tokens(reference_text).to(device)\n",
        "print(tokens)\n",
        "print(tokens.shape)\n",
        "print(reference_gpt2.to_str_tokens(tokens))"
      ]
    },
    {
      "cell_type": "markdown",
      "metadata": {
        "id": "FtOl_io8GwrI"
      },
      "source": [
        "#### **step 2:** map tokens to logits\n",
        "\n",
        "\n",
        "from our input of shape `[batch, seq_len]`, we get output of shape `[batch, seq_len, vocab_size]`. the `[i, j, :]`-th element of our output is a vector of logits representing our prediction for the `j+1`-th token in the `i`-th sequence."
      ]
    },
    {
      "cell_type": "code",
      "execution_count": null,
      "metadata": {
        "id": "Nvn795CaGwrI"
      },
      "outputs": [],
      "source": [
        "logits, cache = reference_gpt2.run_with_cache(tokens)\n",
        "print(logits.shape)"
      ]
    },
    {
      "cell_type": "markdown",
      "metadata": {
        "id": "yKU89bgAGwrI"
      },
      "source": [
        "(`run_with_cache` tells the model to cache all intermediate activations. this isn't important right now; we'll look at it in more detail later.)"
      ]
    },
    {
      "cell_type": "markdown",
      "metadata": {
        "id": "Pu1ycvAWGwrI"
      },
      "source": [
        "#### **step 3:** convert the logits to a distribution with a softmax\n",
        "\n",
        "This doesn't change the shape, it is still `[batch, seq_len, vocab_size]`."
      ]
    },
    {
      "cell_type": "code",
      "execution_count": null,
      "metadata": {
        "id": "mW4mf2veGwrI"
      },
      "outputs": [],
      "source": [
        "probs = logits.softmax(dim=-1)\n",
        "print(probs.shape)"
      ]
    },
    {
      "cell_type": "markdown",
      "metadata": {
        "id": "dbJz-28tGwrI"
      },
      "source": [
        "#### **bonus step:** what is the most likely next token at each position?"
      ]
    },
    {
      "cell_type": "code",
      "execution_count": null,
      "metadata": {
        "id": "xLYKkdvJGwrI"
      },
      "outputs": [],
      "source": [
        "most_likely_next_tokens = reference_gpt2.tokenizer.batch_decode(logits.argmax(dim=-1)[0])\n",
        "\n",
        "print(list(zip(reference_gpt2.to_str_tokens(tokens), most_likely_next_tokens)))"
      ]
    },
    {
      "cell_type": "markdown",
      "metadata": {
        "id": "iI2piLZHGwrI"
      },
      "source": [
        "we can see that, in a few cases (particularly near the end of the sequence), the model accurately predicts the next token in the sequence. We might guess that `\"take over the world\"` is a common phrase that the model has seen in training, which is why the model can predict it."
      ]
    },
    {
      "cell_type": "markdown",
      "metadata": {
        "id": "FvbXnFqUGwrI"
      },
      "source": [
        "#### **step 4:** map distribution to a token"
      ]
    },
    {
      "cell_type": "code",
      "execution_count": null,
      "metadata": {
        "id": "OBIcEn3HGwrI"
      },
      "outputs": [],
      "source": [
        "next_token = logits[0, -1].argmax(dim=-1)\n",
        "next_char = reference_gpt2.to_string(next_token)\n",
        "print(repr(next_char))"
      ]
    },
    {
      "cell_type": "markdown",
      "metadata": {
        "id": "dvvrFMmGGwrI"
      },
      "source": [
        "note that we're indexing `logits[0, -1]`. this is because logits have shape `[1, sequence_length, vocab_size]`, so this indexing returns the vector of length `vocab_size` representing the model's prediction for what token follows the **last** token in the input sequence.\n",
        "\n",
        "in this case, we can see that the model predicts the token `' I'`."
      ]
    },
    {
      "cell_type": "markdown",
      "metadata": {
        "id": "kmy4u43DGwrI"
      },
      "source": [
        "### **step 5:** add this to the end of the input, re-run\n",
        "\n",
        "there are more efficient ways to do this (e.g. where we cache some of the values each time we run our input, so we don't have to do as much calculation each time we generate a new value), but this doesn't matter conceptually right now."
      ]
    },
    {
      "cell_type": "code",
      "execution_count": null,
      "metadata": {
        "id": "EZG6KFnDGwrO"
      },
      "outputs": [],
      "source": [
        "print(f\"Sequence so far: {reference_gpt2.to_string(tokens)[0]!r}\")\n",
        "\n",
        "for i in range(10):\n",
        "    print(f\"{tokens.shape[-1]+1}th char = {next_char!r}\")\n",
        "    # Define new input sequence, by appending the previously generated token\n",
        "    tokens = t.cat([tokens, next_token[None, None]], dim=-1)\n",
        "    # Pass our new sequence through the model, to get new output\n",
        "    logits = reference_gpt2(tokens)\n",
        "    # Get the predicted token at the end of our sequence\n",
        "    next_token = logits[0, -1].argmax(dim=-1)\n",
        "    # Decode and print the result\n",
        "    next_char = reference_gpt2.to_string(next_token)"
      ]
    },
    {
      "cell_type": "markdown",
      "metadata": {
        "id": "86JGh2cCGwrP"
      },
      "source": [
        "## 1.3 key takeaways\n",
        "\n",
        "- a transformer takes in language, predicts next token (for *each* token in a causal way)\n",
        "- we convert language to a sequence of integers with a tokenizer\n",
        "- we convert integers to vectors with a lookup table\n",
        "- the output is a vector of logits (one for each input token), we convert to a probability distribution with a softmax, and can then convert this to a token (eg taking the largest logit, or sampling)\n",
        "- we append this to the input + run again to generate more text (jargon: *autoregressive*)\n",
        "- meta level point: transformers are sequence operation models, they take in a sequence, do processing in parallel at each position, and use attention to move information between positions!"
      ]
    },
    {
      "cell_type": "markdown",
      "metadata": {
        "id": "PnTuVzifGwrP"
      },
      "source": [
        "# 2️⃣ clean transformer implementation\n",
        "\n",
        "##### learning objectives\n",
        "\n",
        "- understand that a transformer is composed of attention heads and mlps, with each one performing operations on the residual stream\n",
        "- understand that the attention heads in a single layer operate independently, and that they have the role of calculating attention patterns (which determine where information is moved to & from in the residual stream)\n",
        "- learn about & implement the following transformer modules:\n",
        "  * embedding - a lookup table from tokens to residual stream vectors\n",
        "  * positional embedding - a lookup table from position indices to residual stream vectors\n",
        "  * layer normalization - transforming the input to have zero mean and unit variance\n",
        "  * attention - the method of computing attention patterns for residual stream vectors\n",
        "  * mlp - the collection of linear and nonlinear transformations which operate on each residual stream vector in the same way\n",
        "  * unembedding - a matrix for converting residual stream vectors into a distribution over tokens"
      ]
    },
    {
      "cell_type": "markdown",
      "metadata": {
        "id": "1fJfX4Y-GwrP"
      },
      "source": [
        "## 2.1 high-level architecture\n",
        "\n",
        "watch nanda's [transformer circuits walkthrough](https://www.youtube.com/watch?v=KV5gbOmHbjU) if you want more intuitions!\n",
        "\n",
        "(diagram is bottom to top, right-click and open for higher resolution.)\n",
        "\n",
        "<img src=\"https://raw.githubusercontent.com/chloeli-15/ARENA_img/main/img/transformer-new2.png\" width=\"950\">"
      ]
    },
    {
      "cell_type": "markdown",
      "metadata": {
        "id": "wtt9RQHWGwrP"
      },
      "source": [
        "### tokenization & embedding\n",
        "\n",
        "The input tokens $t$ are integers. we get them from taking a sequence, and tokenizing it (like we saw in the previous section).\n",
        "\n",
        "the token embedding is a lookup table mapping tokens to vectors, which is implemented as a matrix $W_E$. The matrix consists of a stack of token embedding vectors (one for each token)."
      ]
    },
    {
      "cell_type": "markdown",
      "metadata": {
        "id": "3Wh_m7RFGwrP"
      },
      "source": [
        "### residual stream\n",
        "\n",
        "the residual stream is the sum of all previous outputs of layers of the model, and is the input to each new layer. it has shape `[batch, seq_len, d_model]` (where `d_model` is the length of a single embedding vector).\n",
        "\n",
        "the initial value of the residual stream is denoted $x_0$ in the diagram, and $x_i$ are later values of the residual stream (after more attention and mlp layers have been applied to the residual stream).\n",
        "\n",
        "the residual stream is *really* fundamental. tt's the central object of the transformer. it's how the model remembers things, moves information between layers for composition, and it's the medium used to store the information that attention moves between positions.\n",
        "\n",
        "<details>\n",
        "<summary>aside - <b>logit lens</b></summary>\n",
        "\n",
        "a key idea of transformers is the [residual stream as output accumulation](https://www.lesswrong.com/posts/X26ksz4p3wSyycKNB/gears-level-mental-models-of-transformer-interpretability#Residual_Stream_as_Output_Accumulation:~:text=The%20Models-,Residual%20Stream%20as%20Output%20Accumulation,-The%20residual%20stream). as we move through the layers of the model, shifting information around and processing it, the values in the residual stream represent the accumulation of all the inferences made by the transformer up to that point.\n",
        "\n",
        "this is neatly illustrated by the **logit lens**. rather than getting predictions from the residual stream at the very end of the model, we can take the value of the residual stream midway through the model and convert it to a distribution over tokens. when we do this, we find surprisingly coherent predictions, especially in the last few layers before the end.\n",
        "</details>"
      ]
    },
    {
      "cell_type": "markdown",
      "metadata": {
        "id": "e7HeVn1-GwrP"
      },
      "source": [
        "### transformer blocks\n",
        "\n",
        "then we have a series of `n_layers` **transformer blocks** (also sometimes called **residual blocks**).\n",
        "\n",
        "note: a block contains an attention layer *and* an mlp layer, but we say a transformer has $k$ layers if it has $k$ blocks (i.e. $2k$ total layers).\n",
        "\n"
      ]
    },
    {
      "cell_type": "markdown",
      "metadata": {
        "id": "t1v--e1_F4AO"
      },
      "source": [
        "<img src=\"https://raw.githubusercontent.com/chloeli-15/ARENA_img/main/img/transformer-block2.png\" width=\"700\">"
      ]
    },
    {
      "cell_type": "markdown",
      "metadata": {
        "id": "yf9hPODSGwrP"
      },
      "source": [
        "### attention\n",
        "\n",
        "first we have attention. this moves information from prior positions in the sequence to the current token.\n",
        "\n",
        "we do this for *every* token in parallel using the same parameters. the only difference is that we look backwards only (to avoid \"cheating\"). this means later tokens have more of the sequence that they can look at.\n",
        "\n",
        "attention layers are the only bit of a transformer that moves information between positions (i.e. between vectors at different sequence positions in the residual stream).\n",
        "\n",
        "attention layers are made up of `n_heads` heads - each with their own parameters, own attention pattern, and own information how to copy things from source to destination. the heads act independently and additively, we just add their outputs together, and back to the stream.\n",
        "\n",
        "each head does the following:\n",
        "- produces an **attention pattern** for each destination token, a probability distribution of prior source tokens (including the current one) weighting how much information to copy.\n",
        "- moves information (via a linear map) in the same way from each source token to each destination token.\n",
        "\n",
        "a few key points:\n",
        "\n",
        "- what information we copy depends on the source token's *residual stream*, but this doesn't mean it only depends on the value of that token, because the residual stream can store more information than just the token identity (the purpose of the attention heads is to move information between vectors at different positions in the residual stream!)\n",
        "- we can think of each attention head as consisting of two different **circuits**:\n",
        "  * one circuit determines **where to move information to and from** (this is a function of the residual stream for the source and destination tokens)\n",
        "  * the other circuit determines **what information to move** (this is a function of only the source token's residual stream)\n",
        "  * for reasons which will become clear later, we refer to the first circuit as the **QK circuit**, and the second circuit as the **OV circuit**\n",
        "\n",
        "<details>\n",
        "<summary>key intuition - attention as generalized convolution</summary>\n",
        "\n",
        "we can think of attention as a kind of generalized convolution. standard convolution layers in image models work by imposing a \"prior of locality\", i.e. the assumption that pixels which are close together are more likely to share information. although language has some locality (two words next to each other are more likely to share information than two words 100 tokens apart), the picture is a lot more nuanced, because which tokens are relevant to which others depends on the context of the sentence. for instance, in the sentence `\"When Mary and John went to the store, John gave a drink to Mary\"`, the names in this sentence are the most important tokens for predicting that the final token will be `\"Mary\"`, and this is because of the particular context of this sentence rather than the tokens' position.\n",
        "\n",
        "attention layers are effectively our way of saying to the transformer, \"don't impose a prior of locality, but instead develop your own algorithm to figure out which tokens are important to which other tokens in any given sequence.\"\n",
        "</details>\n",
        "\n",
        "below is a schematic diagram of the attention layers. don't worry if you don't follow this right now, we'll go into more detail during implementation."
      ]
    },
    {
      "cell_type": "markdown",
      "metadata": {
        "id": "e2CY6PjbGwrP"
      },
      "source": [
        "<img src=\"https://raw.githubusercontent.com/chloeli-15/ARENA_img/main/img/transformer-attn-new-v2.png\" width=\"1050\">"
      ]
    },
    {
      "cell_type": "markdown",
      "metadata": {
        "id": "H0DU36-ZGwrP"
      },
      "source": [
        "### mlp\n",
        "\n",
        "the mlp layers are just a standard neural network, with a singular hidden layer and a nonlinear activation function. The exact activation isn't conceptually important ([gelu](https://paperswithcode.com/method/gelu) seems to perform best).\n",
        "\n",
        "Our hidden dimension is normally `d_mlp = 4 * d_model`. Exactly why the ratios are what they are isn't super important (people basically cargo-cult what gpt did back in the day!).\n",
        "\n",
        "importantly, **the mlp operates on positions in the residual stream independently, and in exactly the same way**. it doesn't move information between positions.\n",
        "\n",
        "intuition - once attention has moved relevant information to a single position in the residual stream, mlps can actually do computation, reasoning, lookup information, etc. *What the hell is going on inside mlps* is a pretty big open problem in transformer mechanistic interpretability - see the [toy model of superposition paper](https://transformer-circuits.pub/2022/toy_model/index.html) for more on why this is hard.\n",
        "\n",
        "<details>\n",
        "<summary>key intuition - mlps as key-value pairs</summary>\n",
        "\n",
        "we can write the mlp's output as $f(x^T W^{in})W^{out}$, where $W^{in}$ and $W^{out}$ are the different weights of the mlp (ignoring biases), $f$ is the activation function, and $x$ is a vector in the residual stream. this can be rewritten as:\n",
        "\n",
        "$$\n",
        "f(x^T W^{in}) W^{out} = \\sum_{i=1}^{d_{mlp}} f(x^T W^{in}_{[:, i]}) W^{out}_{[i, :]}\n",
        "$$\n",
        "\n",
        "we can view the vectors $W^{in}_{[:, i]}$ as the **input directions**, and $W^{out}_{[i, :]}$ as the **output directions**. we say the input directions are **activated** by certain textual features, and when they are activated, vectors are written in the corresponding output direction. this is very similar to the concept of keys and values in attention layers, which is why these vectors are also sometimes called keys and values (e.g. see the paper [transformer feed-forward layers are key-value memories](https://arxiv.org/pdf/2012.14913.pdf)).\n",
        "\n",
        "terminology note - sometimes we refer to each of these $d_{mlp}$ input-output pairs as **neurons**.\n",
        "\n",
        "<img src=\"https://raw.githubusercontent.com/chloeli-15/ARENA_img/main/img/mlp-neurons-2.png\" width=\"900\">\n",
        "\n",
        "---\n",
        "\n",
        "here's a step-by-step breakdown of the linear algebra, if it was too fast above. we have:\n",
        "\n",
        "$$\n",
        "\\begin{aligned}\n",
        "x^T W^{in} &= x^T [W^{in}_{[:, 1]}\\,, ...\\;, W^{in}_{[:, n]}] \\\\\n",
        "&= (x^T W^{in}_{[:, 1]}\\,, \\; ...\\;, \\; x^T W^{in}_{[:, n]})\n",
        "\\end{aligned}\n",
        "$$\n",
        "\n",
        "where $W^{in}_{[:, i]}$ are the columns of $W^{in}$. in other words, these values (the pre-gelu activations) are projections of $x$ along the input directions of the neurons.\n",
        "\n",
        "if we add our activation function and the second matrix, then we get:\n",
        "\n",
        "$$\n",
        "\\begin{aligned}\n",
        "f(x^T W^{in})W^{out} &= (f(x^T W^{in}_{[:, 1]})\\,, \\; ...\\;,\\; f(x^T W^{in}_{[:, n]})) \\begin{bmatrix} \\leftarrow W^{out}_{[1, :]} \\rightarrow \\\\ \\vdots \\\\ \\leftarrow W^{out}_{[n, :]} \\rightarrow \\end{bmatrix} \\\\\n",
        "&= f(x^T W^{in}_{[:, 1]}) W^{out}_{[1, :]} + \\;...\\; + f(x^T W^{in}_{[:, n]}) W^{out}_{[n, :]} \\\\\n",
        "&= \\sum_{i=1}^n f(x^T W^{in}_{[:, i]}) W^{out}_{[i, :]}\n",
        "\\end{aligned}\n",
        "$$\n",
        "\n",
        "where $W^{out}_{[i, :]}$ are the rows of $W^{out}$. in other words, our output is a linear combination of the rows of $W^{out}$, with the coefficients of that linear combination given by the projections of $x$ along the columns of $W^{in}$.\n",
        "\n",
        "</details>\n",
        "\n",
        "<details>\n",
        "<summary>key intuition - mlps as knowledge storage</summary>\n",
        "\n",
        "we can think of mlps as where knowledge gets stored in our transformer. the attention mechanism is what moves information around between sequence positions, but the mlps is where this information is processed, and new information is written into the residual stream which is a function of the old information.\n",
        "\n",
        "this is deeply connected to the key-value pairs model, since you can treat key-value pairs as a kind of associative memory system (where the key serves as a unique identifier, and the value holds the related information).\n",
        "\n",
        "another related intuition (for which there is some evidence) is **mlps as memory management**. in an idealized case, we might find that the $i$-th neuron satisfies $W^{in}_{[:, i]} \\approx - W^{out}_{[i, :]} \\approx \\vec v$ for some unit vector $\\vec v$, meaning it may be responsible for erasing the positive component of vector $\\vec x$ in the direction $\\vec v$ (exercise - can you show why this is the case?). this can free up space in the residual stream for other components to write to.\n",
        "</details>"
      ]
    },
    {
      "cell_type": "markdown",
      "metadata": {
        "id": "px0dtvM8GwrP"
      },
      "source": [
        "<img src=\"https://raw.githubusercontent.com/chloeli-15/ARENA_img/main/img/transformer-mlp-new-2.png\" width=\"680\">"
      ]
    },
    {
      "cell_type": "markdown",
      "metadata": {
        "id": "JuNp4tuaGwrP"
      },
      "source": [
        "### unembedding\n",
        "\n",
        "finally, we unembed!\n",
        "\n",
        "this just consists of applying a linear map $W_U$, going from final residual stream to a vector of logits - this is the output.\n",
        "\n",
        "<details>\n",
        "<summary>aside - tied embeddings</summary>\n",
        "\n",
        "note: sometimes we use something called a **tied embedding** - this is where we use the same weights for our $W_E$ and $W_U$ matrices. in other words, to get the logit score for a particular token at some sequence position, we just take the vector in the residual stream at that sequence position and take the inner product with the corresponding token embedding vector. This is more training-efficient (because there are fewer parameters in our model), and it might seem pricipled at first. after all, if two words have very similar meanings, shouldn't they have similar embedding vectors because the model will treat them the same, and similar unembedding vectors because they could both be substituted for each other in most output?\n",
        "\n",
        "however, this is actually not very principled, for the following main reason: **the direct path involving the embedding and unembedding should approximate bigram frequencies**.\n",
        "\n",
        "let's break down this claim. **bigram frequencies** refers to the frequencies of pairs of words in the english language (e.g. the bigram frequency of \"Barack Obama\" is much higher than the product of the individual frequencies of the words \"Barack\" and \"Obama\"). if our model had no attention heads or mlp layers, then all we have is a linear map from our one-hot encoded token `T` to a probability distribution over the token following `T`. this map is represented by the linear transformation $t \\to t^T W_E W_U$ (where $t$ is our one-hot encoded token vector). since the output of this transformation can only be a function of the token `T` (and no earlier tokens), the best we can do is have this map approximate the true frequency of bigrams starting with `T`, which appear in the training data. importantly, **this is not a symmetric map**. we want `T = \"Barack\"` to result in a high probability of the next token being `\"Obama\"`, but not the other way around!\n",
        "\n",
        "even in multi-layer models, a similar principle applies. there will be more paths through the model than just the \"direct path\" $W_E W_U$, but because of the residual connections there will always exist a direct path, so there will always be some incentive for $W_E W_U$ to approximate bigram frequencies.\n",
        "\n",
        "</details>"
      ]
    },
    {
      "cell_type": "markdown",
      "metadata": {
        "id": "xqODzEuWGwrP"
      },
      "source": [
        "### layer normalization\n",
        "\n",
        "* simple normalization function applied at the start of each layer (i.e. before each mlp, attention layer, and before the unembedding)\n",
        "* converts each input vector (independently in parallel for each `(batch, seq)` residual stream vector) to have mean zero and variance 1.\n",
        "* then applies an elementwise scaling and translation\n",
        "* cool maths tangent: The scale ($\\odot \\gamma$) & translate ($+ \\beta$) is just a linear map. layer normalization is only applied immediately before another linear map (either the mlp, or the query/key/value linear maps in the attention head, or the unembedding $W_U$). linear compose linear = linear, so we can just fold this into a single effective linear layer and ignore it.\n",
        "    * `fold_ln=True` flag in `from_pretrained` does this for you.\n",
        "* layer normalization is annoying for interpretability - it would be linear if not for the fact we divide by the variance, so you can't decompose the contributions of the input to the output independently. but it's *almost* linear - if you're changing a small part of the input you can pretend $\\sqrt{\\text{Var}[x] + \\epsilon}$ is constant, so the operation is linear, but if you're changing $x$ enough to alter the norm substantially it's not linear.\n",
        "\n",
        "<img src=\"https://raw.githubusercontent.com/chloeli-15/ARENA_img/main/img/transformer-ln.png\" width=\"750\">\n",
        "\n",
        "</details>"
      ]
    },
    {
      "cell_type": "markdown",
      "metadata": {
        "id": "B3ph26uzGk71"
      },
      "source": [
        "### positional embeddings\n",
        "\n",
        "**problem:** attention operates over all pairs of positions. this means it's symmetric with regards to position - the attention calculation from token 5 to token 1 and token 5 to token 2 are the same by default\n",
        "\n",
        "this is dumb because nearby tokens are more relevant. there's a lot of dumb hacks for this.\n",
        "\n",
        "- we'll focus on **learned, absolute positional embeddings**. this means we learn a lookup table mapping the index of the position of each token to a residual stream vector, and add this to the embed.\n",
        "  - note that we *add* rather than concatenate. this is because the residual stream is shared memory, and likely under significant superposition (the model compresses more features in there than the model has dimensions)\n",
        "  - we basically never concatenate inside a transformer, unless doing weird shit like generating text efficiently.\n",
        "- this connects to **attention as generalized convolution**\n",
        "  - we argued that language does still have locality, and so it's helpful for transformers to have access to the positional information so they \"know\" two tokens are next to each other (and hence probably relevant to each other)."
      ]
    },
    {
      "cell_type": "markdown",
      "metadata": {
        "id": "DKq4QaJlGwrP"
      },
      "source": [
        "## 2.2 actual code!\n",
        "\n",
        "model architecture table (this will be helpful for understanding the results you get when running the code block below):\n",
        "\n",
        "| Parameter   | Value          |\n",
        "|-------------|----------------|\n",
        "| batch       | 1              |\n",
        "| position    | 35             |\n",
        "| d_model     | 768            |\n",
        "| n_heads     | 12             |\n",
        "| n_layers    | 12             |\n",
        "| d_mlp       | 3072 (= 4 * `d_model`) |\n",
        "| d_head      | 64 (= `d_model / n_heads`) |"
      ]
    },
    {
      "cell_type": "markdown",
      "metadata": {
        "id": "xmZOaGHhGwrP"
      },
      "source": [
        "### parameters and activations\n",
        "\n",
        "it's important to distinguish between parameters and activations in the model.\n",
        "\n",
        "- **parameters** are the weights and biases that are learned during training\n",
        "  * these don't change when the model input changes\n",
        "  * they can be accessed directly from the model, e.g. `model.W_E` is the embedding matrix\n",
        "- **activations** are temporary numbers calculated during a forward pass, that are functions of the input\n",
        "  * we can think of these values as only existing for the duration of a single forward pass, and disappearing afterwards\n",
        "  * we can use 'hooks' to access these values during a forward pass (more on hooks later), but it doesn't make sense to talk about a model's activations outside the context of some particular input\n",
        "  * attention patterns and attention scores are activations (this is slightly non-intuitve because they're used in a matrix multiplication with another activation)"
      ]
    },
    {
      "cell_type": "markdown",
      "metadata": {
        "id": "LQwzRpvHWI38"
      },
      "source": [
        "#### print all activation shapes of the the reference model\n",
        "\n",
        "run the following code to print all the activation shapes of the reference model:"
      ]
    },
    {
      "cell_type": "code",
      "execution_count": null,
      "metadata": {
        "id": "ZcMqBQLrGwrP"
      },
      "outputs": [],
      "source": [
        "for activation_name, activation in cache.items():\n",
        "    # Only print for first layer\n",
        "    if \".0.\" in activation_name or \"blocks\" not in activation_name:\n",
        "        print(f\"{activation_name:30} {tuple(activation.shape)}\")"
      ]
    },
    {
      "cell_type": "markdown",
      "metadata": {
        "id": "YM69MJQaGwrP"
      },
      "source": [
        "#### print all parameter shapes of the reference model"
      ]
    },
    {
      "cell_type": "code",
      "execution_count": null,
      "metadata": {
        "id": "VwLJA3hUGwrP"
      },
      "outputs": [],
      "source": [
        "for name, param in reference_gpt2.named_parameters():\n",
        "    # only print for first layer\n",
        "    if \".0.\" in name or \"blocks\" not in name:\n",
        "        print(f\"{name:18} {tuple(param.shape)}\")"
      ]
    },
    {
      "cell_type": "markdown",
      "metadata": {
        "id": "oqKWaBVwGwrP"
      },
      "source": [
        "[this diagram](https://raw.githubusercontent.com/chloeli-15/ARENA_img/main/img/full-merm.svg) shows the name of all activations and parameters in a fully general transformer model from `TransformerLens` (except for a few at the start and end, like the embedding and unembedding). lots of this won't make sense at first, but you can return to this diagram later and check that you understand most/all parts of it.\n",
        "\n",
        "there's also an annotated version [here](https://raw.githubusercontent.com/chloeli-15/ARENA_img/main/img/transformer-full-updated.png)."
      ]
    },
    {
      "cell_type": "markdown",
      "metadata": {
        "id": "59ibyvIBGwrP"
      },
      "source": [
        "### config\n",
        "\n",
        "the config object contains all the hyperparameters of the model. we can print the config of the reference model to see what it contains:"
      ]
    },
    {
      "cell_type": "code",
      "execution_count": null,
      "metadata": {
        "id": "PpQZLBh1GwrP"
      },
      "outputs": [],
      "source": [
        "# as a reference - note there's a lot of stuff we don't care about in here, to do with library internals or other architectures\n",
        "print(reference_gpt2.cfg)"
      ]
    },
    {
      "cell_type": "markdown",
      "metadata": {
        "id": "aYg9LCzfGwrP"
      },
      "source": [
        "we define a stripped down config for our model:"
      ]
    },
    {
      "cell_type": "code",
      "execution_count": null,
      "metadata": {
        "id": "8ZY_tND9GwrP"
      },
      "outputs": [],
      "source": [
        "@dataclass\n",
        "class Config:\n",
        "    d_model: int = 768 # dimension of the embedding table\n",
        "    debug: bool = True\n",
        "    layer_norm_eps: float = 1e-5\n",
        "    d_vocab: int = 50257 # size of the input vocabulary\n",
        "    init_range: float = 0.02\n",
        "    n_ctx: int = 1024 # max context length\n",
        "    d_head: int = 64 # size of an attention head\n",
        "    d_mlp: int = 3072 # dimension of the hidden layer of a mlp layer\n",
        "    n_heads: int = 12 # num attention heads for each attention layer\n",
        "    n_layers: int = 12 # number of transformer blocks / layers (each block contains an attention layer + a mlp layer)\n",
        "\n",
        "\n",
        "cfg = Config()\n",
        "print(cfg)"
      ]
    },
    {
      "cell_type": "markdown",
      "metadata": {
        "id": "93mSd_nDGwrQ"
      },
      "source": [
        "### tests\n",
        "\n",
        "tests are great, write lightweight ones to use as you go!\n",
        "\n",
        "**naive test:** generate random inputs of the right shape, input to your model, check whether there's an error and print the correct output."
      ]
    },
    {
      "cell_type": "code",
      "execution_count": null,
      "metadata": {
        "id": "exP2msFrGwrQ"
      },
      "outputs": [],
      "source": [
        "def rand_float_test(cls, shape):\n",
        "    cfg = Config(debug=True)\n",
        "    layer = cls(cfg).to(device)\n",
        "    random_input = t.randn(shape).to(device)\n",
        "    print(\"input shape:\", random_input.shape)\n",
        "    output = layer(random_input)\n",
        "    if isinstance(output, tuple):\n",
        "        output = output[0]\n",
        "    print(\"output shape:\", output.shape, \"\\n\")\n",
        "\n",
        "\n",
        "def rand_int_test(cls, shape):\n",
        "    cfg = Config(debug=True)\n",
        "    layer = cls(cfg).to(device)\n",
        "    random_input = t.randint(100, 1000, shape).to(device)\n",
        "    print(\"input shape:\", random_input.shape)\n",
        "    output = layer(random_input)\n",
        "    if isinstance(output, tuple):\n",
        "        output = output[0]\n",
        "    print(\"output shape:\", output.shape, \"\\n\")\n",
        "\n",
        "\n",
        "def load_gpt2_test(cls, gpt2_layer, input, test_num=None):\n",
        "    cfg = Config(debug=True)\n",
        "    layer = cls(cfg).to(device)\n",
        "    layer.load_state_dict(gpt2_layer.state_dict(), strict=False)\n",
        "    print(\"input shape:\", input.shape)\n",
        "    output = layer(input)\n",
        "    if isinstance(output, tuple):\n",
        "        output = output[0]\n",
        "    print(\"output shape:\", output.shape)\n",
        "    try:\n",
        "        reference_output = gpt2_layer(input)\n",
        "    except:\n",
        "        reference_output = gpt2_layer(input, input, input)\n",
        "    print(\"reference output shape:\", reference_output.shape, \"\\n\")\n",
        "    comparison = t.isclose(output, reference_output, atol=1e-4, rtol=1e-3)\n",
        "    print(f\"{comparison.sum()/comparison.numel():.2%} of the values are correct\\n\")\n",
        "    assert 1 - (comparison.sum() / comparison.numel()) < 1e-5, \"more than 0.01% of the values are incorrect\"\n",
        "    if test_num:\n",
        "      test_submit(test_num)"
      ]
    },
    {
      "cell_type": "code",
      "execution_count": null,
      "metadata": {
        "id": "ekF8W_3e1mR7"
      },
      "outputs": [],
      "source": []
    },
    {
      "cell_type": "markdown",
      "metadata": {
        "id": "pm2Ymno8GwrQ"
      },
      "source": [
        "### exercise - implement `LayerNorm`\n",
        "\n",
        "> ```yaml\n",
        "> difficulty: 🔴🔴🔴⚪⚪\n",
        "> importance: 🔵🔵🔵⚪⚪\n",
        ">\n",
        "> you should spend up to 10-15 minutes on this exercise.\n",
        "> ```\n",
        "\n",
        "the `LayerNorm` should do the following:\n",
        "\n",
        "* make mean 0\n",
        "* normalize to have variance 1\n",
        "* scale with learned weights\n",
        "* translate with learned bias"
      ]
    },
    {
      "cell_type": "markdown",
      "metadata": {
        "id": "PhsX8fzfb8DE"
      },
      "source": [
        "we can use the pytorch [`LayerNorm` documentation](https://pytorch.org/docs/stable/generated/torch.nn.LayerNorm.html) as a reference\n",
        "\n",
        "notes:\n",
        "- the `LayerNorm` implementation always has `affine=True`, i.e. you do learn parameters `w` and `b` (which are represented as $\\gamma$ and $\\beta$ respectively in the pytorch documentation).\n",
        "- remember that after the centering and normalization, each vector of length `d_model` in your input should have mean 0 and variance 1.\n",
        "- as the pytorch documentation page says, your variance should be computed using `unbiased=False`.\n",
        "- the `layer_norm_eps` argument in your config object corresponds to the $\\epsilon$ term in the pytorch documentation (it is included to avoid division-by-zero errors).\n",
        "- there is a `debug` argument in your config. if `debug=True`, then you can print output like the shape of objects in your `forward` function to help you debug (this is a very useful trick to improve your coding speed).\n",
        "- in the code below the weights are initialized to ones and the bias to zeros to have by default a variance of one and mean of zero [see nanda's transformer walkthrough](https://youtu.be/dsjUDacBw8o?si=Jfnay1xZUZmjJ_pR&t=492)\n",
        "\n",
        "(fill in the function, where it says `raise NotImplementedError()` - this will be the basic pattern for most other exercises in this section)."
      ]
    },
    {
      "cell_type": "code",
      "execution_count": null,
      "metadata": {
        "id": "h_4xkxmLGwrQ"
      },
      "outputs": [],
      "source": [
        "class LayerNorm(nn.Module):\n",
        "    def __init__(self, cfg: Config):\n",
        "        super().__init__()\n",
        "        self.cfg = cfg\n",
        "        self.w = nn.Parameter(t.ones(cfg.d_model))\n",
        "        self.b = nn.Parameter(t.zeros(cfg.d_model))\n",
        "\n",
        "    def forward(self, residual: Float[Tensor, \"batch posn d_model\"]) -> Float[Tensor, \"batch posn d_model\"]:\n",
        "        # raise NotImplementedError()\n",
        "\n",
        "        r_mean = residual.mean(dim = -1, keepdim = True)\n",
        "        r_var = residual.var(dim = -1, keepdim = True, unbiased = False)\n",
        "        r_std = (r_var + self.cfg.layer_norm_eps).sqrt()\n",
        "\n",
        "        residual_normalized = (residual - r_mean) / r_std\n",
        "        residual_normalized = (residual_normalized * self.w) + self.b\n",
        "\n",
        "        return residual_normalized\n",
        "\n",
        "\n",
        "rand_float_test(LayerNorm, [2, 4, 768])\n",
        "load_gpt2_test(LayerNorm, reference_gpt2.ln_final, cache[\"resid_post\", 11], 1)"
      ]
    },
    {
      "cell_type": "markdown",
      "metadata": {
        "id": "-PmGhOEiGwrQ"
      },
      "source": [
        "<details><summary>solution</summary>\n",
        "\n",
        "```python\n",
        "class LayerNorm(nn.Module):\n",
        "    def __init__(self, cfg: Config):\n",
        "        super().__init__()\n",
        "        self.cfg = cfg\n",
        "        self.w = nn.Parameter(t.ones(cfg.d_model))\n",
        "        self.b = nn.Parameter(t.zeros(cfg.d_model))\n",
        "\n",
        "    def forward(self, residual: Float[Tensor, \"batch posn d_model\"]) -> Float[Tensor, \"batch posn d_model\"]:\n",
        "        residual_mean = residual.mean(dim=-1, keepdim=True)\n",
        "        residual_std = (residual.var(dim=-1, keepdim=True, unbiased=False) + self.cfg.layer_norm_eps).sqrt()\n",
        "\n",
        "        residual = (residual - residual_mean) / residual_std\n",
        "        return residual * self.w + self.b\n",
        "```\n",
        "</details>"
      ]
    },
    {
      "cell_type": "markdown",
      "metadata": {
        "id": "H5mheedLGwrQ"
      },
      "source": [
        "### exercise - implement `Embed`\n",
        "\n",
        "> ```yaml\n",
        "> difficulty: 🔴🔴⚪⚪⚪\n",
        "> importance: 🔵🔵🔵⚪⚪\n",
        ">\n",
        "> you should spend up to 5-10 minutes on this exercise.\n",
        "> ```\n",
        "\n",
        "this is basically a lookup table from tokens to residual stream vectors.\n",
        "\n",
        "(hint - you can implement this in just one line, without any complicated functions. If you've been working on it for >10 mins, you're probably overthinking it!)"
      ]
    },
    {
      "cell_type": "code",
      "execution_count": null,
      "metadata": {
        "id": "FAC8IUY9GwrQ"
      },
      "outputs": [],
      "source": [
        "class Embed(nn.Module):\n",
        "    def __init__(self, cfg: Config):\n",
        "        super().__init__()\n",
        "        self.cfg = cfg\n",
        "        self.W_E = nn.Parameter(t.empty((cfg.d_vocab, cfg.d_model)))\n",
        "        nn.init.normal_(self.W_E, std=self.cfg.init_range)\n",
        "\n",
        "    def forward(self, tokens: Int[Tensor, \"batch position\"]) -> Float[Tensor, \"batch position d_model\"]:\n",
        "        # raise NotImplementedError()\n",
        "        return self.W_E[tokens]\n",
        "\n",
        "\n",
        "rand_int_test(Embed, [2, 4])\n",
        "load_gpt2_test(Embed, reference_gpt2.embed, tokens, 2)"
      ]
    },
    {
      "cell_type": "markdown",
      "metadata": {
        "id": "zF7QDXQtGwrQ"
      },
      "source": [
        "<details>\n",
        "<summary>help - i keep getting <code>RuntimeError: CUDA error: device-side assert triggered</code>.</summary>\n",
        "\n",
        "this is a uniquely frustrating type of error message, because it (1) forces you to restart the kernel, and (2) often won't tell you where the error message actually originated from!\n",
        "\n",
        "you can fix the second problem by adding the line `os.environ['CUDA_LAUNCH_BLOCKING'] = \"1\"` to the very top of your file (after importing `os`). this won't fix your bug, but it makes sure the correct origin point is identified.\n",
        "\n",
        "as for actually fixing the bug, this error usually ends up being the result of bad indexing, e.g. you're trying to apply an embedding layer to tokens which are larger than your maximum embedding.\n",
        "</details>\n",
        "\n",
        "\n",
        "<details><summary>solution</summary>\n",
        "\n",
        "```python\n",
        "class Embed(nn.Module):\n",
        "    def __init__(self, cfg: Config):\n",
        "        super().__init__()\n",
        "        self.cfg = cfg\n",
        "        self.W_E = nn.Parameter(t.empty((cfg.d_vocab, cfg.d_model)))\n",
        "        nn.init.normal_(self.W_E, std=self.cfg.init_range)\n",
        "\n",
        "    def forward(self, tokens: Int[Tensor, \"batch position\"]) -> Float[Tensor, \"batch position d_model\"]:\n",
        "        return self.W_E[tokens]\n",
        "```\n",
        "</details>"
      ]
    },
    {
      "cell_type": "markdown",
      "metadata": {
        "id": "zRTZL3mvGwrQ"
      },
      "source": [
        "### exercise - implement `PosEmbed`\n",
        "\n",
        "> ```yaml\n",
        "> difficulty: 🔴🔴⚪⚪⚪\n",
        "> importance: 🔵🔵🔵⚪⚪\n",
        ">\n",
        "> you should spend up to 10-15 minutes on this exercise.\n",
        "> ```\n",
        "\n",
        "positional embedding can also be thought of as a lookup table, but rather than the indices being our token ids, the indices are just the numbers `0`, `1`, `2`, ..., `seq_len-1` (i.e. the position indices of the tokens in the sequence)."
      ]
    },
    {
      "cell_type": "code",
      "execution_count": null,
      "metadata": {
        "id": "5x71XCQGGwrQ"
      },
      "outputs": [],
      "source": [
        "class PosEmbed(nn.Module):\n",
        "    def __init__(self, cfg: Config):\n",
        "        super().__init__()\n",
        "        self.cfg = cfg\n",
        "        self.W_pos = nn.Parameter(t.empty((cfg.n_ctx, cfg.d_model)))\n",
        "        nn.init.normal_(self.W_pos, std=self.cfg.init_range)\n",
        "\n",
        "    def forward(self, tokens: Int[Tensor, \"batch position\"]) -> Float[Tensor, \"batch position d_model\"]:\n",
        "        # raise NotImplementedError()\n",
        "\n",
        "        # print(tokens.shape)\n",
        "        batch, pos_n = tokens.shape\n",
        "        return einops.repeat(self.W_pos[:pos_n], \"position d_model -> batch position d_model\", batch=batch)\n",
        "\n",
        "\n",
        "rand_int_test(PosEmbed, [2, 4])\n",
        "load_gpt2_test(PosEmbed, reference_gpt2.pos_embed, tokens, 3)"
      ]
    },
    {
      "cell_type": "markdown",
      "metadata": {
        "id": "tMaqPcOyGwrQ"
      },
      "source": [
        "<details><summary>solution</summary>\n",
        "\n",
        "```python\n",
        "class PosEmbed(nn.Module):\n",
        "    def __init__(self, cfg: Config):\n",
        "        super().__init__()\n",
        "        self.cfg = cfg\n",
        "        self.W_pos = nn.Parameter(t.empty((cfg.n_ctx, cfg.d_model)))\n",
        "        nn.init.normal_(self.W_pos, std=self.cfg.init_range)\n",
        "\n",
        "    def forward(self, tokens: Int[Tensor, \"batch position\"]) -> Float[Tensor, \"batch position d_model\"]:\n",
        "        batch, seq_len = tokens.shape\n",
        "        return einops.repeat(self.W_pos[:seq_len], \"seq d_model -> batch seq d_model\", batch=batch)\n",
        "```\n",
        "</details>"
      ]
    },
    {
      "cell_type": "markdown",
      "metadata": {
        "id": "Dq7AYtIRGwrQ"
      },
      "source": [
        "### exercise - implement `apply_causal_mask`\n",
        "\n",
        "> ```yaml\n",
        "> difficulty: 🔴🔴⚪⚪⚪\n",
        "> importance: 🔵🔵🔵🔵🔵\n",
        ">\n",
        "> you should spend up to 10-15 minutes on this exercise.\n",
        "> ```\n",
        "\n",
        "the causal mask function will be a method of the `Attention` class.\n",
        "tt will take in attention scores, and apply a mask to them so that the model can only attend to previous positions (i.e. the model can't cheat by looking at future positions).\n",
        "\n",
        "we will implement this function first, and test it, before moving onto the `forward` method of the `Attention` class."
      ]
    },
    {
      "cell_type": "markdown",
      "metadata": {
        "id": "-crSC2Isft5I"
      },
      "source": [
        "notes:\n",
        "\n",
        "- we can use [`torch.where`](https://pytorch.org/docs/stable/generated/torch.where.html), or the [`torch.masked_fill_`](https://pytorch.org/docs/stable/generated/torch.Tensor.masked_fill.html) function when masking the attention scores\n",
        "- the [`torch.triu`](https://pytorch.org/docs/stable/generated/torch.triu.html) function is useful for creating a mask that is true for all positions we want to set probabilities to zero for\n",
        "- make sure to use the `self.IGNORE` attribute to set the masked positions to negative infinity\n",
        "\n",
        "<details>\n",
        "<summary>auestion - why do you think we mask the attention scores by setting them to negative infinity, rather than the attention probabilities by setting them to zero?</summary>\n",
        "\n",
        "if we masked the attention probabilities, then the probabilities would no longer sum to 1.\n",
        "\n",
        "we want to mask the scores and *then* take softmax, so that the probabilities are still valid probabilities (i.e. they sum to 1), and the values in the masked positions have no influence on the model's output.\n",
        "</details>"
      ]
    },
    {
      "cell_type": "code",
      "execution_count": null,
      "metadata": {
        "id": "s2BJ78HrGwrQ"
      },
      "outputs": [],
      "source": [
        "class Attention(nn.Module):\n",
        "    IGNORE: Float[Tensor, \"\"]\n",
        "\n",
        "    def __init__(self, cfg: Config):\n",
        "        super().__init__()\n",
        "        self.cfg = cfg\n",
        "        self.register_buffer(\"IGNORE\", t.tensor(float(\"-inf\"), dtype=t.float32, device=device))\n",
        "\n",
        "    def apply_causal_mask(\n",
        "        self,\n",
        "        attn_scores: Float[Tensor, \"batch n_heads query_pos key_pos\"],\n",
        "    ) -> Float[Tensor, \"batch n_heads query_pos key_pos\"]:\n",
        "        \"\"\"\n",
        "        Applies a causal mask to attention scores, and returns masked scores.\n",
        "        \"\"\"\n",
        "        # raise NotImplementedError()\n",
        "\n",
        "        all_ones = t.ones(attn_scores.size(-2), attn_scores.size(-1), device = attn_scores.device)\n",
        "        mask = t.triu(all_ones, diagonal = 1).bool()\n",
        "\n",
        "        # print(mask)\n",
        "\n",
        "        attn_scores = attn_scores.masked_fill(mask, self.IGNORE)\n",
        "\n",
        "        return attn_scores"
      ]
    },
    {
      "cell_type": "markdown",
      "metadata": {
        "id": "Spmd3Me8GwrQ"
      },
      "source": [
        "<details>\n",
        "<summary>Hint (pseudocode)</summary>\n",
        "\n",
        "```python\n",
        "def apply_causal_mask(\n",
        "    self, attn_scores: Float[Tensor, \"batch n_heads query_pos key_pos\"]\n",
        "    ) -> Float[Tensor, \"batch n_heads query_pos key_pos\"]:\n",
        "\n",
        "    # Define a mask that is True for all positions we want to set probabilities to zero for\n",
        "\n",
        "    # Apply the mask to attention scores, then return the masked scores\n",
        "```\n",
        "</details>\n",
        "\n",
        "\n",
        "<details><summary>Solution</summary>\n",
        "\n",
        "```python\n",
        "class Attention(nn.Module):\n",
        "    IGNORE: Float[Tensor, \"\"]\n",
        "\n",
        "    def __init__(self, cfg: Config):\n",
        "        super().__init__()\n",
        "        self.cfg = cfg\n",
        "        self.register_buffer(\"IGNORE\", t.tensor(float(\"-inf\"), dtype=t.float32, device=device))\n",
        "\n",
        "    def apply_causal_mask(\n",
        "        self,\n",
        "        attn_scores: Float[Tensor, \"batch n_heads query_pos key_pos\"],\n",
        "    ) -> Float[Tensor, \"batch n_heads query_pos key_pos\"]:\n",
        "        \"\"\"\n",
        "        Applies a causal mask to attention scores, and returns masked scores.\n",
        "        \"\"\"\n",
        "        # Define a mask that is True for all positions we want to set probabilities to zero for\n",
        "        all_ones = t.ones(attn_scores.size(-2), attn_scores.size(-1), device=attn_scores.device)\n",
        "        mask = t.triu(all_ones, diagonal=1).bool()\n",
        "        # Apply the mask to attention scores, then return the masked scores\n",
        "        attn_scores.masked_fill_(mask, self.IGNORE)\n",
        "        return attn_scores\n",
        "```\n",
        "</details>"
      ]
    },
    {
      "cell_type": "code",
      "execution_count": null,
      "metadata": {
        "id": "UWhLhf46fOtu"
      },
      "outputs": [],
      "source": [
        "from functools import partial\n",
        "\n",
        "def test_causal_mask(apply_causal_mask):\n",
        "    cfg = Config()\n",
        "    attn_scores = t.randn((1, 1, 5, 5)).to(device)  # (batch, n_heads, query_pos, key_pos)\n",
        "    attn = Attention(cfg)\n",
        "\n",
        "    sol_apply_causal_mask = attn.apply_causal_mask\n",
        "    apply_causal_mask = partial(apply_causal_mask, self=attn)\n",
        "\n",
        "    expected = sol_apply_causal_mask(attn_scores=attn_scores.clone())\n",
        "    actual = apply_causal_mask(attn_scores=attn_scores.clone())\n",
        "\n",
        "    def print_scores():\n",
        "        print(f\"Actual Attention Probs: \\n {t.softmax(actual, dim=-1)}\")\n",
        "\n",
        "    if t.any(t.isnan(actual)):\n",
        "        nan_freq = t.sum(t.isnan(actual)).item() / actual.numel()\n",
        "        print_scores()\n",
        "        raise ValueError(\n",
        "            f\"Your masked attention scores contains {nan_freq * 100}% NaNs. Make sure you aren't multiplying 0 * neg inf anywhere.\"\n",
        "        )\n",
        "\n",
        "    attn_probs = t.softmax(\n",
        "        actual, dim=-1\n",
        "    )  # ignoring the scale factor, we just want to check if the mask is applied correctly\n",
        "\n",
        "    if t.any(t.isnan(attn_probs)):\n",
        "        print_scores()\n",
        "        nan_freq = t.sum(t.isnan(attn_probs)).item() / attn_probs.numel()\n",
        "        raise ValueError(\n",
        "            f\"Your post-softmax masked attention scores contains {nan_freq * 100}% NaNs. Make sure you aren't setting an entire row to neg inf.\"\n",
        "        )\n",
        "\n",
        "    if not t.allclose(actual, expected):\n",
        "        print_scores()\n",
        "        t.testing.assert_close(actual, expected)\n",
        "\n",
        "    print(\"All tests in `test_causal_mask` passed!\")\n",
        "\n",
        "test_causal_mask(Attention.apply_causal_mask)"
      ]
    },
    {
      "cell_type": "markdown",
      "metadata": {
        "id": "CINwFEwaGwrQ"
      },
      "source": [
        "### exercise - implement `Attention`\n",
        "\n",
        "> ```yaml\n",
        "> difficulty: 🔴🔴🔴🔴⚪\n",
        "> importance: 🔵🔵🔵🔵🔵\n",
        ">\n",
        "> you should spend up to 30-45 minutes on this exercise.\n",
        "> ```"
      ]
    },
    {
      "cell_type": "markdown",
      "metadata": {
        "id": "oSdpYpsRgV7F"
      },
      "source": [
        "some terminology\n",
        "- the destination token, ie. the current token, or the query token\n",
        "- the source token(s), ie. the previous token(s) (including the current token), or the key token(s)\n",
        "\n",
        "**step 1:** produce an attention pattern - for each destination token, a probability distribution over previous tokens (including current token)\n",
        "- linear map from input -> query, key shape `[batch, position, head_index, d_head]`\n",
        "- dot product every *pair* of queries and keys to get attn_scores `[batch, head_index, query_pos, key_pos]` (query = dest, key = source)\n",
        "- **scale** and mask `attn_scores` to make it lower triangular, i.e. causal\n",
        "- softmax along the `key_pos` dimension, to get a probability distribution for each query (destination) token - this is our attention pattern!\n",
        "\n",
        "**step 2:** move information from source tokens to destination token using attention pattern (move = apply linear map)\n",
        "- linear map from input -> value `[batch, key_pos, head_index, d_head]`\n",
        "- mix along the `key_pos` with attn pattern to get `z`, which is a weighted average of the value vectors `[batch, query_pos, head_index, d_head]`\n",
        "- map to output, `[batch, position, d_model]` (position = query_pos, we've summed over all heads)\n",
        "\n",
        "note: when we say **scale**, we mean dividing by `sqrt(d_head)`. the purpose of this is to avoid vanishing gradients (which is a big problem when we're dealing with a function like softmax - if one of the values is much larger than all the others, the probabilities will be close to 0 or 1, and the gradients will be close to 0).\n",
        "\n",
        "below is a much larger, more detailed version of the attention head diagram from earlier. this should give you an idea of the actual tensor operations involved.\n",
        "\n",
        "a few clarifications on this diagram:\n",
        "- whenever there is a third dimension shown in the pictures, this refers to the `head_index` dimension. we can see that all operations within the attention layer are done independently for each head.\n",
        "- the objects in the box are activations; they have a batch dimension (for simplicity, we assume the batch dimension is 1 in the diagram). The objects to the right of the box are our parameters (weights and biases); they have no batch dimension.\n",
        "- we arrange the keys, queries and values as `(batch, seq_pos, head_idx, d_head)`, because the biases have shape `(head_idx, d_head)`, so this makes it convenient to add the biases (recall the rules of array broadcasting!)."
      ]
    },
    {
      "cell_type": "markdown",
      "metadata": {
        "id": "fFWBWuNAGwrQ"
      },
      "source": [
        "<img src=\"https://raw.githubusercontent.com/chloeli-15/ARENA_img/main/img/transformer-attn-30.png\" width=\"1400\">"
      ]
    },
    {
      "cell_type": "markdown",
      "metadata": {
        "id": "mwnqVk5_GwrQ"
      },
      "source": [
        "<details>\n",
        "<summary><b>a few extra notes on attention (optional)</b></summary>\n",
        "\n",
        "usually we have the relation `e = n * h` (i.e. `d_model = num_heads * d_head`). there are some computational justifications for this, but mostly this is just done out of convention (just like how we usually have `d_mlp = 4 * d_model`!).\n",
        "\n",
        "the names **keys**, **queries** and **values** come from their analogy to retrieval systems. Broadly speaking:\n",
        "\n",
        "- the **queries** represent some information that a token is **\"looking for\"**\n",
        "- the **keys** represent the information that a token **\"contains\"**\n",
        "  * so the attention score being high basically means that the source (key) token contains the information which the destination (query) token **is looking for**\n",
        "- the **values** represent the information that is actually taken from the source token, to be moved to the destination token\n",
        "\n",
        "this diagram can better help us understand the difference between the **QK** and **OV** circuit. we'll discuss this just briefly here, and will go into much more detail later on.\n",
        "\n",
        "whe **QK** circuit consists of the operation of the $W_Q$ and $W_K$ matrices. in other words, it determines the attention pattern, i.e. where information is moved to and from in the residual stream. the functional form of the attention pattern $A$ is:\n",
        "\n",
        "$$\n",
        "A = \\text{softmax}\\left(\\frac{x W_Q W_K^T x^T}{\\sqrt{d_{head}}}\\right)\n",
        "$$\n",
        "\n",
        "where $x$ is the residual stream (shape `[seq_len, d_model]`), and $W_Q$, $W_K$ are the weight matrices for a single head (i.e. shape `[d_model, d_head]`).\n",
        "\n",
        "whe **OV** circuit consists of the operation of the $W_V$ and $W_O$ matrices. once attention patterns are fixed, these matrices operate on the residual stream at the source position, and their output is the thing which gets moved from source to destination position.\n",
        "\n",
        "the functional form of an entire attention head is:\n",
        "\n",
        "$$\n",
        "\\begin{aligned}\n",
        "\\text{output} &= \\text{softmax}\\left(\\frac{x W_Q W_K^T x^T}{\\sqrt{d_{head}}}\\right) (x W_V W_O) \\\\\n",
        "    &= Ax W_V W_O\n",
        "\\end{aligned}\n",
        "$$\n",
        "\n",
        "where $W_V$ has shape `[d_model, d_head]`, and $W_O$ has shape `[d_head, d_model]`.\n",
        "\n",
        "here, we can clearly see that the **QK circuit** and **OV circuit** are doing conceptually different things, and should be thought of as two distinct parts of the attention head.\n",
        "\n",
        "again, don't worry if you don't follow all of this right now - we'll go into **much** more detail on all of this in subsequent exercises. The purpose of the discussion here is just to give you a flavour of what's to come!\n",
        "\n",
        "</details>"
      ]
    },
    {
      "cell_type": "markdown",
      "metadata": {
        "id": "qsnpkiFAGwrQ"
      },
      "source": [
        "before implemention `Attention`, it's useful to visualize and play around with attention patterns - what exactly are we looking at here? (click on a head to lock onto just showing that head's pattern, it'll make it easier to interpret)"
      ]
    },
    {
      "cell_type": "code",
      "execution_count": null,
      "metadata": {
        "id": "yIURLJyIGwrQ"
      },
      "outputs": [],
      "source": [
        "import circuitsvis as cv\n",
        "from IPython.display import display\n",
        "\n",
        "display(\n",
        "    cv.attention.attention_patterns(\n",
        "        tokens=reference_gpt2.to_str_tokens(reference_text), attention=cache[\"pattern\", 0][0]\n",
        "    )\n",
        ")"
      ]
    },
    {
      "cell_type": "markdown",
      "metadata": {
        "id": "5F4I4b0RGwrQ"
      },
      "source": [
        "you can also use the `attention_heads` function, which presents the data in a different way (the syntax is exactly the same as `attention_patterns`).\n",
        "\n",
        "note: if you display this in vscode then it may exhibit a bug where the main plot continually shrinks in size - if this happens, you should instead save the html (i.e. with `html = cv.attention.attention_heads(...); with open(\"attn_heads.html\", \"w\") as f: f.write(str(html))`) and open the plot in your browser.\n",
        "\n",
        "<!-- <details>\n",
        "<summary>Help - my <code>attention_heads</code> plots are behaving weirdly.</summary>\n",
        "\n",
        "This seems to be a bug in `circuitsvis` - on VSCode, the attention head plots continually shrink in size.\n",
        "\n",
        "Until this is fixed, one way to get around it is to open the plots in your browser. You can do this inline with the `webbrowser` library:\n",
        "\n",
        "```python\n",
        "attn_heads = cv.attention.attention_heads(\n",
        "    tokens=reference_gpt2.to_str_tokens(reference_text),\n",
        "    attention=cache[\"pattern\", 0][0]\n",
        ")\n",
        "\n",
        "path = \"attn_heads.html\"\n",
        "\n",
        "with open(path, \"w\") as f:\n",
        "    f.write(str(attn_heads))\n",
        "\n",
        "webbrowser.open(path)\n",
        "```\n",
        "\n",
        "To check exactly where this is getting saved, you can print your current working directory with `os.getcwd()`.\n",
        "</details> -->"
      ]
    },
    {
      "cell_type": "code",
      "execution_count": null,
      "metadata": {
        "id": "SVlTikMUGwrQ"
      },
      "outputs": [],
      "source": [
        "display(\n",
        "    cv.attention.attention_heads(\n",
        "        tokens=reference_gpt2.to_str_tokens(reference_text), attention=cache[\"pattern\", 0][0]\n",
        "    )\n",
        ")"
      ]
    },
    {
      "cell_type": "markdown",
      "metadata": {
        "id": "m45RCuhlGwrQ"
      },
      "source": [
        "you should fill in the forward method for `Attention` below. you should also copy your code for `apply_causal_mask` to this new implementation of `Attention` (you can delete the rest of the old implementation code).\n",
        "\n",
        "note: this implementation will probably be the most challenging exercise on this page, so don't worry if it takes you some time! you should look at parts of the solution if you're stuck.\n",
        "\n",
        "a few tips:\n",
        "- don't forget the attention score scaling (this should come before the masking).\n",
        "- try not to combine a large number of operations into a single line of code.\n",
        "- try to make your variable names descriptive (i.e. it's not just `x = some_fn_of(x), x = some_other_fn_of(x), ...`)."
      ]
    },
    {
      "cell_type": "code",
      "execution_count": null,
      "metadata": {
        "id": "bfI41BEYGwrQ"
      },
      "outputs": [],
      "source": [
        "class Attention(nn.Module):\n",
        "    IGNORE: Float[Tensor, \"\"]\n",
        "\n",
        "    def __init__(self, cfg: Config):\n",
        "        super().__init__()\n",
        "        self.cfg = cfg\n",
        "        self.W_Q = nn.Parameter(t.empty((cfg.n_heads, cfg.d_model, cfg.d_head)))\n",
        "        self.W_K = nn.Parameter(t.empty((cfg.n_heads, cfg.d_model, cfg.d_head)))\n",
        "        self.W_V = nn.Parameter(t.empty((cfg.n_heads, cfg.d_model, cfg.d_head)))\n",
        "        self.W_O = nn.Parameter(t.empty((cfg.n_heads, cfg.d_head, cfg.d_model)))\n",
        "        self.b_Q = nn.Parameter(t.zeros((cfg.n_heads, cfg.d_head)))\n",
        "        self.b_K = nn.Parameter(t.zeros((cfg.n_heads, cfg.d_head)))\n",
        "        self.b_V = nn.Parameter(t.zeros((cfg.n_heads, cfg.d_head)))\n",
        "        self.b_O = nn.Parameter(t.zeros((cfg.d_model)))\n",
        "        nn.init.normal_(self.W_Q, std=self.cfg.init_range)\n",
        "        nn.init.normal_(self.W_K, std=self.cfg.init_range)\n",
        "        nn.init.normal_(self.W_V, std=self.cfg.init_range)\n",
        "        nn.init.normal_(self.W_O, std=self.cfg.init_range)\n",
        "        self.register_buffer(\"IGNORE\", t.tensor(float(\"-inf\"), dtype=t.float32, device=device))\n",
        "\n",
        "    def forward(self, normalized_resid_pre: Float[Tensor, \"batch posn d_model\"]) -> Float[Tensor, \"batch posn d_model\"]:\n",
        "        # raise NotImplementedError()\n",
        "\n",
        "        query = einops.einsum(\n",
        "                  normalized_resid_pre, self.W_Q, 'batch query_pos d_model, n_heads d_model d_head -> batch query_pos n_heads d_head'\n",
        "                ) + self.b_Q\n",
        "        key = einops.einsum(\n",
        "                  normalized_resid_pre, self.W_K, 'batch key_pos d_model, n_heads d_model d_head -> batch key_pos n_heads d_head'\n",
        "                ) + self.b_K\n",
        "\n",
        "        value = einops.einsum(\n",
        "                  normalized_resid_pre, self.W_V, 'batch key_pos d_model, n_heads d_model d_head -> batch key_pos n_heads d_head'\n",
        "                ) + self.b_V\n",
        "\n",
        "        # calculate the attention scores, then scale, then apply the causal attention mask, then apply softmax to get the probabilities\n",
        "        # attn_scores = t.matmul(query, key.transpose(-2, -1)) # [batch posn n_heads n_heads]\n",
        "        attn_scores = einops.einsum(query, key, 'batch query_pos n_heads d_head, batch key_pos n_heads d_head -> batch n_heads query_pos key_pos')\n",
        "        attn_scores_scaled = attn_scores / (self.cfg.d_head ** 0.50)\n",
        "        attn_scores_masked = self.apply_causal_mask(attn_scores_scaled)\n",
        "        attn_pattern = attn_scores_masked.softmax(-1) # [batch n_heads query_pos key_pos]\n",
        "\n",
        "        # calculate z, the weighted avg of the values, weighted on hte basis of the attention pattern probabilities\n",
        "        z = einops.einsum(value, attn_pattern, 'batch key_pos n_heads d_head, batch n_heads query_pos key_pos -> batch query_pos n_heads d_head')\n",
        "\n",
        "        result = einops.einsum(z, self.W_O, 'batch query_pos n_heads d_head, n_heads d_head d_model -> batch query_pos d_model') + self.b_O\n",
        "\n",
        "        return result\n",
        "\n",
        "\n",
        "    def apply_causal_mask(\n",
        "        self, attn_scores: Float[Tensor, \"batch n_heads query_pos key_pos\"]\n",
        "    ) -> Float[Tensor, \"batch n_heads query_pos key_pos\"]:\n",
        "        \"\"\"\n",
        "        Applies a causal mask to attention scores, and returns masked scores.\n",
        "        \"\"\"\n",
        "        # You should copy your solution from earlier\n",
        "\n",
        "        # raise NotImplementedError()\n",
        "\n",
        "        all_ones = t.ones(attn_scores.size(-2), attn_scores.size(-1), device = attn_scores.device)\n",
        "        mask = t.triu(all_ones, diagonal = 1).bool()\n",
        "\n",
        "        attn_scores = attn_scores.masked_fill(mask, self.IGNORE)\n",
        "\n",
        "        return attn_scores"
      ]
    },
    {
      "cell_type": "code",
      "execution_count": null,
      "metadata": {
        "id": "qB9Xr1pN2aVM"
      },
      "outputs": [],
      "source": [
        "test_causal_mask(Attention.apply_causal_mask)\n",
        "rand_float_test(Attention, [2, 4, 768])\n",
        "load_gpt2_test(Attention, reference_gpt2.blocks[0].attn, cache[\"normalized\", 0, \"ln1\"], 4)"
      ]
    },
    {
      "cell_type": "markdown",
      "metadata": {
        "id": "q19uDYnZGwrQ"
      },
      "source": [
        "<details>\n",
        "<summary>Hint (pseudocode for the forward method)</summary>\n",
        "\n",
        "```python\n",
        "def forward(\n",
        "    self, normalized_resid_pre: Float[Tensor, \"batch posn d_model\"]\n",
        ") -> Float[Tensor, \"batch posn d_model\"]:\n",
        "\n",
        "    # Calculate query, key and value vectors\n",
        "    q, k, v = ...\n",
        "\n",
        "    # Calculate attention scores, then scale and mask, and apply softmax to get probabilities\n",
        "    attn_scores = ...\n",
        "    attn_scores_masked = ...\n",
        "    attn_pattern = ...\n",
        "\n",
        "    # Take weighted sum of value vectors, according to attention probabilities\n",
        "    z = ...\n",
        "\n",
        "    # Calculate output (by applying matrix W_O and summing over heads, then adding bias b_O)\n",
        "    attn_out = ...\n",
        "    return attn_out\n",
        "```\n",
        "</details>\n",
        "\n",
        "\n",
        "<details><summary>Solution</summary>\n",
        "\n",
        "```python\n",
        "class Attention(nn.Module):\n",
        "    IGNORE: Float[Tensor, \"\"]\n",
        "\n",
        "    def __init__(self, cfg: Config):\n",
        "        super().__init__()\n",
        "        self.cfg = cfg\n",
        "        self.W_Q = nn.Parameter(t.empty((cfg.n_heads, cfg.d_model, cfg.d_head)))\n",
        "        self.W_K = nn.Parameter(t.empty((cfg.n_heads, cfg.d_model, cfg.d_head)))\n",
        "        self.W_V = nn.Parameter(t.empty((cfg.n_heads, cfg.d_model, cfg.d_head)))\n",
        "        self.W_O = nn.Parameter(t.empty((cfg.n_heads, cfg.d_head, cfg.d_model)))\n",
        "        self.b_Q = nn.Parameter(t.zeros((cfg.n_heads, cfg.d_head)))\n",
        "        self.b_K = nn.Parameter(t.zeros((cfg.n_heads, cfg.d_head)))\n",
        "        self.b_V = nn.Parameter(t.zeros((cfg.n_heads, cfg.d_head)))\n",
        "        self.b_O = nn.Parameter(t.zeros((cfg.d_model)))\n",
        "        nn.init.normal_(self.W_Q, std=self.cfg.init_range)\n",
        "        nn.init.normal_(self.W_K, std=self.cfg.init_range)\n",
        "        nn.init.normal_(self.W_V, std=self.cfg.init_range)\n",
        "        nn.init.normal_(self.W_O, std=self.cfg.init_range)\n",
        "        self.register_buffer(\"IGNORE\", t.tensor(float(\"-inf\"), dtype=t.float32, device=device))\n",
        "\n",
        "    def forward(self, normalized_resid_pre: Float[Tensor, \"batch posn d_model\"]) -> Float[Tensor, \"batch posn d_model\"]:\n",
        "        # Calculate query, key and value vectors\n",
        "        q = (\n",
        "            einops.einsum(\n",
        "                normalized_resid_pre, self.W_Q, \"batch posn d_model, nheads d_model d_head -> batch posn nheads d_head\"\n",
        "            )\n",
        "            + self.b_Q\n",
        "        )\n",
        "        k = (\n",
        "            einops.einsum(\n",
        "                normalized_resid_pre, self.W_K, \"batch posn d_model, nheads d_model d_head -> batch posn nheads d_head\"\n",
        "            )\n",
        "            + self.b_K\n",
        "        )\n",
        "        v = (\n",
        "            einops.einsum(\n",
        "                normalized_resid_pre, self.W_V, \"batch posn d_model, nheads d_model d_head -> batch posn nheads d_head\"\n",
        "            )\n",
        "            + self.b_V\n",
        "        )\n",
        "\n",
        "        # Calculate attention scores, then scale and mask, and apply softmax to get probabilities\n",
        "        attn_scores = einops.einsum(\n",
        "            q, k, \"batch posn_Q nheads d_head, batch posn_K nheads d_head -> batch nheads posn_Q posn_K\"\n",
        "        )\n",
        "        attn_scores_masked = self.apply_causal_mask(attn_scores / self.cfg.d_head**0.5)\n",
        "        attn_pattern = attn_scores_masked.softmax(-1)\n",
        "\n",
        "        # Take weighted sum of value vectors, according to attention probabilities\n",
        "        z = einops.einsum(\n",
        "            v, attn_pattern, \"batch posn_K nheads d_head, batch nheads posn_Q posn_K -> batch posn_Q nheads d_head\"\n",
        "        )\n",
        "\n",
        "        # Calculate output (by applying matrix W_O and summing over heads, then adding bias b_O)\n",
        "        attn_out = (\n",
        "            einops.einsum(z, self.W_O, \"batch posn_Q nheads d_head, nheads d_head d_model -> batch posn_Q d_model\")\n",
        "            + self.b_O\n",
        "        )\n",
        "\n",
        "        return attn_out\n",
        "\n",
        "    def apply_causal_mask(\n",
        "        self, attn_scores: Float[Tensor, \"batch n_heads query_pos key_pos\"]\n",
        "    ) -> Float[Tensor, \"batch n_heads query_pos key_pos\"]:\n",
        "        \"\"\"\n",
        "        Applies a causal mask to attention scores, and returns masked scores.\n",
        "        \"\"\"\n",
        "        # Define a mask that is True for all positions we want to set probabilities to zero for\n",
        "        all_ones = t.ones(attn_scores.size(-2), attn_scores.size(-1), device=attn_scores.device)\n",
        "        mask = t.triu(all_ones, diagonal=1).bool()\n",
        "        # Apply the mask to attention scores, then return the masked scores\n",
        "        attn_scores.masked_fill_(mask, self.IGNORE)\n",
        "        return attn_scores\n",
        "```\n",
        "</details>"
      ]
    },
    {
      "cell_type": "markdown",
      "metadata": {
        "id": "SL-jzrFrGwrR"
      },
      "source": [
        "### exercise - implement `MLP`\n",
        "\n",
        "> ```yaml\n",
        "> difficulty: 🔴🔴⚪⚪⚪\n",
        "> importance: 🔵🔵🔵🔵⚪\n",
        ">\n",
        "> you should spend up to 10-15 minutes on this exercise.\n",
        "> ```\n",
        "\n",
        "implement the mlp layer, which consists of:\n",
        "- a linear layer, with weight `W_in`, bias `b_in`\n",
        "- a nonlinear function (we usually use gelu; the function `gelu_new` has been imported for this purpose)\n",
        "- a linear layer, with weight `W_out`, bias `b_out`"
      ]
    },
    {
      "cell_type": "code",
      "execution_count": null,
      "metadata": {
        "id": "8ibJ60WBGwrR"
      },
      "outputs": [],
      "source": [
        "class MLP(nn.Module):\n",
        "    def __init__(self, cfg: Config):\n",
        "        super().__init__()\n",
        "        self.cfg = cfg\n",
        "        self.W_in = nn.Parameter(t.empty((cfg.d_model, cfg.d_mlp)))\n",
        "        self.W_out = nn.Parameter(t.empty((cfg.d_mlp, cfg.d_model)))\n",
        "        self.b_in = nn.Parameter(t.zeros((cfg.d_mlp)))\n",
        "        self.b_out = nn.Parameter(t.zeros((cfg.d_model)))\n",
        "        nn.init.normal_(self.W_in, std=self.cfg.init_range)\n",
        "        nn.init.normal_(self.W_out, std=self.cfg.init_range)\n",
        "\n",
        "    def forward(self, normalized_resid_mid: Float[Tensor, \"batch posn d_model\"]) -> Float[Tensor, \"batch posn d_model\"]:\n",
        "        # raise NotImplementedError()\n",
        "\n",
        "        x = einops.einsum(normalized_resid_mid, self.W_in, 'batch posn d_model, d_model d_mlp -> batch posn d_mlp') + self.b_in\n",
        "        x = gelu_new(x)\n",
        "        x = einops.einsum(x, self.W_out, 'batch posn d_mlp, d_mlp d_model -> batch posn d_model') + self.b_out\n",
        "\n",
        "        return x\n",
        "\n",
        "rand_float_test(MLP, [2, 4, 768])\n",
        "load_gpt2_test(MLP, reference_gpt2.blocks[0].mlp, cache[\"normalized\", 0, \"ln2\"], 5)"
      ]
    },
    {
      "cell_type": "markdown",
      "metadata": {
        "id": "tWpmKW9VGwrR"
      },
      "source": [
        "<details><summary>solution</summary>\n",
        "\n",
        "```python\n",
        "class MLP(nn.Module):\n",
        "    def __init__(self, cfg: Config):\n",
        "        super().__init__()\n",
        "        self.cfg = cfg\n",
        "        self.W_in = nn.Parameter(t.empty((cfg.d_model, cfg.d_mlp)))\n",
        "        self.W_out = nn.Parameter(t.empty((cfg.d_mlp, cfg.d_model)))\n",
        "        self.b_in = nn.Parameter(t.zeros((cfg.d_mlp)))\n",
        "        self.b_out = nn.Parameter(t.zeros((cfg.d_model)))\n",
        "        nn.init.normal_(self.W_in, std=self.cfg.init_range)\n",
        "        nn.init.normal_(self.W_out, std=self.cfg.init_range)\n",
        "\n",
        "    def forward(self, normalized_resid_mid: Float[Tensor, \"batch posn d_model\"]) -> Float[Tensor, \"batch posn d_model\"]:\n",
        "        pre = (\n",
        "            einops.einsum(\n",
        "                normalized_resid_mid, self.W_in, \"batch position d_model, d_model d_mlp -> batch position d_mlp\"\n",
        "            )\n",
        "            + self.b_in\n",
        "        )\n",
        "        post = gelu_new(pre)\n",
        "        mlp_out = (\n",
        "            einops.einsum(post, self.W_out, \"batch position d_mlp, d_mlp d_model -> batch position d_model\")\n",
        "            + self.b_out\n",
        "        )\n",
        "        return mlp_out\n",
        "```\n",
        "</details>"
      ]
    },
    {
      "cell_type": "markdown",
      "metadata": {
        "id": "yu7uEXwLGwrR"
      },
      "source": [
        "### exercise - implement `TransformerBlock`\n",
        "\n",
        "> ```yaml\n",
        "> difficulty: 🔴🔴⚪⚪⚪\n",
        "> importance: 🔵🔵🔵⚪⚪\n",
        ">\n",
        "> you should spend up to 10-15 minutes on this exercise.\n",
        "> ```\n",
        "\n",
        "now, we can put together the attention, mlp and layernorms into a single transformer block. remember to implement the residual connections correctly!"
      ]
    },
    {
      "cell_type": "code",
      "execution_count": null,
      "metadata": {
        "id": "4hSxrzJiGwrR"
      },
      "outputs": [],
      "source": [
        "class TransformerBlock(nn.Module):\n",
        "    def __init__(self, cfg: Config):\n",
        "        super().__init__()\n",
        "        self.cfg = cfg\n",
        "        self.ln1 = LayerNorm(cfg)\n",
        "        self.attn = Attention(cfg)\n",
        "        self.ln2 = LayerNorm(cfg)\n",
        "        self.mlp = MLP(cfg)\n",
        "\n",
        "    def forward(self, resid_pre: Float[Tensor, \"batch position d_model\"]) -> Float[Tensor, \"batch position d_model\"]:\n",
        "        # raise NotImplementedError()\n",
        "\n",
        "        x = self.ln1(resid_pre)\n",
        "        resid_mid = self.attn(x) + resid_pre\n",
        "        x = self.ln2(resid_mid)\n",
        "        x = self.mlp(x) + resid_mid\n",
        "\n",
        "        return x\n",
        "\n",
        "\n",
        "rand_float_test(TransformerBlock, [2, 4, 768])\n",
        "load_gpt2_test(TransformerBlock, reference_gpt2.blocks[0], cache[\"resid_pre\", 0], 6)"
      ]
    },
    {
      "cell_type": "markdown",
      "metadata": {
        "id": "QThbrtNCGwrR"
      },
      "source": [
        "<details>\n",
        "<summary>help - i'm getting 100% accuracy on all modules before this point, but only about 90% accuracy on this one.</summary>\n",
        "\n",
        "this might be because your layernorm implementation divides by `std + eps` rather than `(var + eps).sqrt()`. the latter matches the implementation used by GPT-2 (and this error only shows up in these tests).\n",
        "\n",
        "</details>\n",
        "\n",
        "\n",
        "<details><summary>solution</summary>\n",
        "\n",
        "```python\n",
        "class TransformerBlock(nn.Module):\n",
        "    def __init__(self, cfg: Config):\n",
        "        super().__init__()\n",
        "        self.cfg = cfg\n",
        "        self.ln1 = LayerNorm(cfg)\n",
        "        self.attn = Attention(cfg)\n",
        "        self.ln2 = LayerNorm(cfg)\n",
        "        self.mlp = MLP(cfg)\n",
        "\n",
        "    def forward(self, resid_pre: Float[Tensor, \"batch position d_model\"]) -> Float[Tensor, \"batch position d_model\"]:\n",
        "        resid_mid = self.attn(self.ln1(resid_pre)) + resid_pre\n",
        "        resid_post = self.mlp(self.ln2(resid_mid)) + resid_mid\n",
        "        return resid_post\n",
        "```\n",
        "</details>"
      ]
    },
    {
      "cell_type": "markdown",
      "metadata": {
        "id": "cJQVDSQWGwrR"
      },
      "source": [
        "### exercise - implement `Unembed`\n",
        "\n",
        "> ```yaml\n",
        "> difficulty: 🔴🔴⚪⚪⚪\n",
        "> importance: 🔵🔵🔵⚪⚪\n",
        ">\n",
        "> you should spend up to ~10 minutes on this exercise.\n",
        "> ```\n",
        "\n",
        "the unembedding is just a linear layer (with weight `W_U` and bias `b_U`)."
      ]
    },
    {
      "cell_type": "code",
      "execution_count": null,
      "metadata": {
        "id": "IH0-nB-ZGwrR"
      },
      "outputs": [],
      "source": [
        "class Unembed(nn.Module):\n",
        "    def __init__(self, cfg):\n",
        "        super().__init__()\n",
        "        self.cfg = cfg\n",
        "        self.W_U = nn.Parameter(t.empty((cfg.d_model, cfg.d_vocab)))\n",
        "        nn.init.normal_(self.W_U, std=self.cfg.init_range)\n",
        "        self.b_U = nn.Parameter(t.zeros((cfg.d_vocab), requires_grad=False))\n",
        "\n",
        "    def forward(\n",
        "        self, normalized_resid_final: Float[Tensor, \"batch position d_model\"]\n",
        "    ) -> Float[Tensor, \"batch position d_vocab\"]:\n",
        "        # raise NotImplementedError()\n",
        "\n",
        "        return einops.einsum(normalized_resid_final, self.W_U, 'batch pos d_model, d_model d_vocab -> batch pos d_vocab') + self.b_U\n",
        "\n",
        "\n",
        "rand_float_test(Unembed, [2, 4, 768])\n",
        "load_gpt2_test(Unembed, reference_gpt2.unembed, cache[\"ln_final.hook_normalized\"], 7)"
      ]
    },
    {
      "cell_type": "markdown",
      "metadata": {
        "id": "ZVlSIzgYGwrR"
      },
      "source": [
        "<details><summary>solution</summary>\n",
        "\n",
        "```python\n",
        "class Unembed(nn.Module):\n",
        "    def __init__(self, cfg):\n",
        "        super().__init__()\n",
        "        self.cfg = cfg\n",
        "        self.W_U = nn.Parameter(t.empty((cfg.d_model, cfg.d_vocab)))\n",
        "        nn.init.normal_(self.W_U, std=self.cfg.init_range)\n",
        "        self.b_U = nn.Parameter(t.zeros((cfg.d_vocab), requires_grad=False))\n",
        "\n",
        "    def forward(\n",
        "        self, normalized_resid_final: Float[Tensor, \"batch position d_model\"]\n",
        "    ) -> Float[Tensor, \"batch position d_vocab\"]:\n",
        "        return (\n",
        "            einops.einsum(\n",
        "                normalized_resid_final,\n",
        "                self.W_U,\n",
        "                \"batch posn d_model, d_model d_vocab -> batch posn d_vocab\",\n",
        "            )\n",
        "            + self.b_U\n",
        "        )\n",
        "```\n",
        "</details>"
      ]
    },
    {
      "cell_type": "markdown",
      "metadata": {
        "id": "X870AIUFGwrR"
      },
      "source": [
        "### exercise - implement `DemoTransformer`\n",
        "\n",
        "> ```yaml\n",
        "> difficulty: 🔴🔴⚪⚪⚪\n",
        "> importance: 🔵🔵🔵⚪⚪\n",
        ">\n",
        "> you should spend up to 10-15 minutes on this exercise.\n",
        "> ```"
      ]
    },
    {
      "cell_type": "code",
      "execution_count": null,
      "metadata": {
        "id": "vzUI8taDGwrR"
      },
      "outputs": [],
      "source": [
        "class DemoTransformer(nn.Module):\n",
        "    def __init__(self, cfg: Config):\n",
        "        super().__init__()\n",
        "        self.cfg = cfg\n",
        "        self.embed = Embed(cfg)\n",
        "        self.pos_embed = PosEmbed(cfg)\n",
        "        self.blocks = nn.ModuleList([TransformerBlock(cfg) for _ in range(cfg.n_layers)])\n",
        "        self.ln_final = LayerNorm(cfg)\n",
        "        self.unembed = Unembed(cfg)\n",
        "\n",
        "    def forward(self, tokens: Int[Tensor, \"batch position\"]) -> Float[Tensor, \"batch position d_vocab\"]:\n",
        "        # raise NotImplementedError()\n",
        "\n",
        "        residual = self.embed(tokens) + self.pos_embed(tokens)\n",
        "\n",
        "        for block in self.blocks:   residual = block(residual)\n",
        "\n",
        "        logits = self.unembed(self.ln_final(residual))\n",
        "\n",
        "        return logits\n",
        "\n",
        "\n",
        "rand_int_test(DemoTransformer, [2, 4])\n",
        "load_gpt2_test(DemoTransformer, reference_gpt2, tokens, 8)"
      ]
    },
    {
      "cell_type": "markdown",
      "metadata": {
        "id": "J89MEgXrGwrR"
      },
      "source": [
        "<details><summary>solution</summary>\n",
        "\n",
        "```python\n",
        "class DemoTransformer(nn.Module):\n",
        "    def __init__(self, cfg: Config):\n",
        "        super().__init__()\n",
        "        self.cfg = cfg\n",
        "        self.embed = Embed(cfg)\n",
        "        self.pos_embed = PosEmbed(cfg)\n",
        "        self.blocks = nn.ModuleList([TransformerBlock(cfg) for _ in range(cfg.n_layers)])\n",
        "        self.ln_final = LayerNorm(cfg)\n",
        "        self.unembed = Unembed(cfg)\n",
        "\n",
        "    def forward(self, tokens: Int[Tensor, \"batch position\"]) -> Float[Tensor, \"batch position d_vocab\"]:\n",
        "        residual = self.embed(tokens) + self.pos_embed(tokens)\n",
        "        for block in self.blocks:\n",
        "            residual = block(residual)\n",
        "        logits = self.unembed(self.ln_final(residual))\n",
        "        return logits\n",
        "```\n",
        "</details>"
      ]
    },
    {
      "cell_type": "markdown",
      "metadata": {
        "id": "lFkkkccyGwrR"
      },
      "source": [
        "**try it out!**"
      ]
    },
    {
      "cell_type": "code",
      "execution_count": null,
      "metadata": {
        "id": "_1-S-p8rGwrR"
      },
      "outputs": [],
      "source": [
        "demo_gpt2 = DemoTransformer(Config(debug=False)).to(device)\n",
        "demo_gpt2.load_state_dict(reference_gpt2.state_dict(), strict=False)\n",
        "\n",
        "demo_logits = demo_gpt2(tokens)"
      ]
    },
    {
      "cell_type": "markdown",
      "metadata": {
        "id": "zyz02atJGwrR"
      },
      "source": [
        "let's take a test string, and calculate the loss!\n",
        "\n",
        "we're using the formula for **cross-entropy loss**. The cross entropy loss between a modelled distribution $Q$ and target distribution $P$ is:\n",
        "\n",
        "$$\n",
        "-\\sum_x P(x) \\log Q(x)\n",
        "$$\n",
        "\n",
        "In the case where $P$ is just the empirical distribution from target classes (i.e. $P(x^*) = 1$ for the correct class $x^*$) then this becomes:\n",
        "\n",
        "$$\n",
        "-\\log Q(x^*)\n",
        "$$\n",
        "\n",
        "in other words, the negative log prob of the true classification."
      ]
    },
    {
      "cell_type": "code",
      "execution_count": null,
      "metadata": {
        "id": "nOyj9Tu-GwrR"
      },
      "outputs": [],
      "source": [
        "def get_log_probs(\n",
        "    logits: Float[Tensor, \"batch posn d_vocab\"], tokens: Int[Tensor, \"batch posn\"]\n",
        ") -> Float[Tensor, \"batch posn-1\"]:\n",
        "    log_probs = logits.log_softmax(dim=-1) # [batch posn d_vocab]\n",
        "    # get logprobs the first seq_len-1 predictions (so we can compare them with the actual next tokens)\n",
        "    log_probs_for_tokens = log_probs[:, :-1].gather(dim=-1, index=tokens[:, 1:].unsqueeze(-1)).squeeze(-1) # [batch len(tokens)-1]\n",
        "\n",
        "    return log_probs_for_tokens\n",
        "\n",
        "\n",
        "pred_log_probs = get_log_probs(demo_logits, tokens)\n",
        "print(f\"Avg cross entropy loss: {-pred_log_probs.mean():.4f}\")\n",
        "print(f\"Avg cross entropy loss for uniform distribution: {math.log(demo_gpt2.cfg.d_vocab):4f}\")\n",
        "print(f\"Avg probability assigned to correct token: {pred_log_probs.exp().mean():4f}\")"
      ]
    },
    {
      "cell_type": "markdown",
      "metadata": {
        "id": "pJWetVYxGwrR"
      },
      "source": [
        "we can also greedily generate text, by taking the most likely next token and continually appending it to our prompt before feeding it back into the model:"
      ]
    },
    {
      "cell_type": "code",
      "execution_count": null,
      "metadata": {
        "id": "5WgEuB8YGwrR"
      },
      "outputs": [],
      "source": [
        "test_string = \"\"\"The Total Perspective Vortex derives its picture of the whole Universe on the principle of\"\"\"\n",
        "for i in tqdm(range(100)):\n",
        "    test_tokens = reference_gpt2.to_tokens(test_string).to(device)\n",
        "    demo_logits = demo_gpt2(test_tokens)\n",
        "    test_string += reference_gpt2.tokenizer.decode(demo_logits[-1, -1].argmax())\n",
        "\n",
        "print(test_string)"
      ]
    },
    {
      "cell_type": "markdown",
      "metadata": {
        "id": "paSqNJMtGwrR"
      },
      "source": [
        "in section 4️⃣ we'll learn to generate text in slightly more interesting ways than just argmaxing the output (which can lead to unnatural patterns like repetition, as you can see above)."
      ]
    },
    {
      "cell_type": "markdown",
      "metadata": {
        "id": "hO0ImwpwGwrR"
      },
      "source": [
        "# 3️⃣ training a transformer\n",
        "\n",
        "##### learning objectives\n",
        "\n",
        "- understand how to train a transformer from scratch\n",
        "- write a basic transformer training loop\n",
        "- interpret the transformer's falling cross entropy loss with reference to features of the training data (e.g. bigram frequencies)"
      ]
    },
    {
      "cell_type": "markdown",
      "metadata": {
        "id": "hFqDRq0DGwrR"
      },
      "source": [
        "now that we've built our transformer, and verified that it performs as expected when we load in weights, let's try training it from scratch!\n",
        "\n",
        "this is a lightweight demonstration of how you can actually train your own gpt-2 with this code! here we train a tiny model on a tiny dataset, but it's fundamentally the same code for training a larger/more real model (though you'll need beefier gpus and data parallelism to do it remotely efficiently, and fancier parallelism for much bigger ones).\n",
        "\n",
        "for our purposes, we'll train a 2 layer, 4 heads per layer model, with context length 256, for 10*200 steps of batch size 16, just to show what it looks like (and so the notebook doesn't melt your colab / machine!)."
      ]
    },
    {
      "cell_type": "markdown",
      "metadata": {
        "id": "OwBNvwYQGwrR"
      },
      "source": [
        "## create model"
      ]
    },
    {
      "cell_type": "code",
      "execution_count": null,
      "metadata": {
        "id": "hgY44PqkGwrR"
      },
      "outputs": [],
      "source": [
        "model_cfg = Config(\n",
        "    debug=False,\n",
        "    d_model=256,\n",
        "    n_heads=4,\n",
        "    d_head=64,\n",
        "    d_mlp=1024,\n",
        "    n_layers=2,\n",
        "    n_ctx=256,\n",
        "    d_vocab=reference_gpt2.cfg.d_vocab,\n",
        ")\n",
        "model = DemoTransformer(model_cfg)"
      ]
    },
    {
      "cell_type": "markdown",
      "metadata": {
        "id": "O2GIOSVuGwrR"
      },
      "source": [
        "## training args\n",
        "\n",
        "\n",
        "note, for this optimization we'll be using **weight decay**."
      ]
    },
    {
      "cell_type": "code",
      "execution_count": null,
      "metadata": {
        "id": "H20ef3eEGwrR"
      },
      "outputs": [],
      "source": [
        "@dataclass\n",
        "class TransformerTrainingArgs:\n",
        "    batch_size = 16\n",
        "    epochs = 20\n",
        "    max_steps_per_epoch = 200\n",
        "    lr = 1e-3\n",
        "    weight_decay = 1e-2\n",
        "    wandb_project: str | None = \"day1-demotransformer\"\n",
        "    wandb_name: str | None = None\n",
        "\n",
        "\n",
        "args = TransformerTrainingArgs()"
      ]
    },
    {
      "cell_type": "markdown",
      "metadata": {
        "id": "0YeC_nmMGwrR"
      },
      "source": [
        "## create data\n",
        "\n",
        "we load in a tiny dataset made by nanda, with the first 10K entries in the 'Pile' (inspired by Stas' version for OpenWebText!)"
      ]
    },
    {
      "cell_type": "code",
      "execution_count": null,
      "metadata": {
        "collapsed": true,
        "id": "3t3CG7uJY10x"
      },
      "outputs": [],
      "source": [
        "dataset = datasets.load_dataset(\"NeelNanda/pile-10k\", split=\"train\").remove_columns(\"meta\")\n",
        "print(dataset)\n",
        "# print(dataset[0][\"text\"][:100]) # Cannot index a streaming dataset"
      ]
    },
    {
      "cell_type": "markdown",
      "metadata": {
        "id": "xl1qdT-jGwrR"
      },
      "source": [
        "`tokenize_and_concatenate` is a useful function which takes our dataset of strings, and returns a dataset of token ids ready to feed into the model. we then create a dataloader from this tokenized dataset. the useful method `train_test_split` can give us a training and testing set."
      ]
    },
    {
      "cell_type": "code",
      "execution_count": null,
      "metadata": {
        "id": "iI1OKYqrGwrS"
      },
      "outputs": [],
      "source": [
        "tokenized_dataset = tokenize_and_concatenate(\n",
        "    dataset,\n",
        "    reference_gpt2.tokenizer,\n",
        "    streaming=False,\n",
        "    max_length=model.cfg.n_ctx,\n",
        "    column_name=\"text\",\n",
        "    add_bos_token=True,\n",
        "    num_proc=4,\n",
        ")\n",
        "\n",
        "dataset_dict = tokenized_dataset.train_test_split(test_size=1000)\n",
        "train_loader = DataLoader(\n",
        "    dataset_dict[\"train\"], batch_size=args.batch_size, shuffle=True, num_workers=4, pin_memory=True\n",
        ")\n",
        "test_loader = DataLoader(\n",
        "    dataset_dict[\"test\"], batch_size=args.batch_size, shuffle=False, num_workers=4, pin_memory=True\n",
        ")"
      ]
    },
    {
      "cell_type": "markdown",
      "metadata": {
        "id": "zILBSPJ1GwrS"
      },
      "source": [
        "when we iterate through these dataloaders, we will find dictionaries with the single key `'tokens'`, which maps to a tensor of token ids with shape `(batch, seq_len)`."
      ]
    },
    {
      "cell_type": "code",
      "execution_count": null,
      "metadata": {
        "id": "Sc_U6NMiGwrS"
      },
      "outputs": [],
      "source": [
        "first_batch = train_loader.dataset[: args.batch_size]\n",
        "\n",
        "print(first_batch.keys())\n",
        "print(first_batch[\"tokens\"].shape)"
      ]
    },
    {
      "cell_type": "markdown",
      "metadata": {
        "id": "cKy4ZYjvGwrS"
      },
      "source": [
        "## training loop\n",
        "\n"
      ]
    },
    {
      "cell_type": "markdown",
      "metadata": {
        "id": "Azze7475R-pR"
      },
      "source": [
        "note: if you did the material on [training loops](https://arena-ch0-fundamentals.streamlit.app/[0.3]_ResNets#training-loop) during the first week, this should all be familiar to you. if not, you can skim that section for an overview of the key concepts. the start of the **training loop** section is most important, and the subsections on [modularisation](https://arena-ch0-fundamentals.streamlit.app/[0.3]_ResNets#modularisation) and [dataclasses](https://arena-ch0-fundamentals.streamlit.app/[0.3]_ResNets#aside-dataclasses) are also very useful. lastly, we'll also be using 'Weights and Biases' (w&b) to train our model - you can read about how to use it [here](https://arena-ch0-fundamentals.streamlit.app/[0.4]_Optimization#what-is-weights-and-biases)."
      ]
    },
    {
      "cell_type": "markdown",
      "metadata": {
        "id": "AstBou7rR2ZE"
      },
      "source": [
        "here are (roughly) all the things you should know for the following exercises:\n",
        "- the key parts of a gradient update step are:\n",
        "  * calculating the (cross-entropy) loss between a model's output and the true labels,\n",
        "  * `loss.backward()` - calculate gradients of the loss with respect to the model parameters,\n",
        "  * `optimizer.step()` - update the model parameters using the gradients,\n",
        "  * `optimizer.zero_grad()` - zero the gradients so they don't accumulate.\n",
        "- we can nicely package up training loops into a class, which includes methods for training and validation steps among other things. this helps with writing code that can be reused in different contexts.\n",
        "- we can use dataclasses to store all the arguments relevant to training in one place, and then pass them to our trainer class. autocompletion is one nice bonus of this!\n",
        "- be careful of scope here, you want to make sure you're referring to `self.args` within the trainer class, rather than the global `args`.\n",
        "- you can use w&b to track experiments and log relevant variables. the three essential functions are:\n",
        "  * `wandb.init()` - initialize a new run, takes arguments `project`, `name` and `config` (among others).\n",
        "  * `wandb.log()` - log a dictionary of variables, e.g. `{\"loss\": loss}`. also takes a `step` argument.\n",
        "  * `wandb.finish()` - called at the end of training (no arguments)."
      ]
    },
    {
      "cell_type": "markdown",
      "metadata": {
        "id": "27fwdtL9GwrS"
      },
      "source": [
        "### exercise - write training loop\n",
        "\n",
        "> ```yaml\n",
        "> difficulty: 🔴🔴🔴⚪⚪\n",
        "> importance: 🔵🔵🔵🔵⚪\n",
        ">\n",
        "> you should spend up to 10-20 minutes on this exercise.\n",
        "> ```\n",
        "\n",
        "you should fill in the methods below. some guidance:\n",
        "\n",
        "- remember we were able to calculate cross entropy loss using the `get_log_probs` function in the previous section\n",
        "- you should use the optimizer `t.optim.AdamW` (adam with weight decay), and with hyperparameters `lr` and `weight_decay` taken from your `TransformerTrainingArgs` dataclass instance\n",
        "0 we've given you the argument `max_steps_per_epoch`, a hacky way of making sure the training phase in each epoch doesn't go on for too long. you can terminate each training phase after this many steps. it's set to a default value that should lead to a very short run demonstrating nontrivial model performance\n",
        "- remember to move tokens to your device, via `tokens.to(device)` (this should be a global variable, defined at the top of your notebook)\n",
        "- you can refer back to the training loops from the previous chapter of the course - see assignment 3, section on resnets and model training"
      ]
    },
    {
      "cell_type": "code",
      "execution_count": null,
      "metadata": {
        "id": "w7AphbJyGwrS"
      },
      "outputs": [],
      "source": [
        "class TransformerTrainer:\n",
        "    def __init__(self, args: TransformerTrainingArgs, model: DemoTransformer):\n",
        "        super().__init__()\n",
        "        self.model = model\n",
        "        self.args = args\n",
        "\n",
        "        self.optimizer = t.optim.AdamW(self.model.parameters(), lr=args.lr, weight_decay=args.weight_decay)\n",
        "        self.step = 0\n",
        "\n",
        "        self.train_loader = DataLoader(\n",
        "            dataset_dict[\"train\"], batch_size=args.batch_size, shuffle=True, num_workers=4, pin_memory=True\n",
        "        )\n",
        "        self.test_loader = DataLoader(\n",
        "            dataset_dict[\"test\"], batch_size=args.batch_size, shuffle=False, num_workers=4, pin_memory=True\n",
        "        )\n",
        "\n",
        "    def training_step(self, batch: dict[str, Int[Tensor, \"batch seq\"]]) -> Float[Tensor, \"\"]:\n",
        "        \"\"\"\n",
        "        Calculates the loss on the tokens in the batch, performs a gradient update step, and logs the loss.\n",
        "\n",
        "        Remember that `batch` is a dictionary with the single key 'tokens'.\n",
        "        \"\"\"\n",
        "        # raise NotImplementedError()\n",
        "\n",
        "        tokens = batch[\"tokens\"].to(device)\n",
        "        logits = self.model(tokens)\n",
        "\n",
        "        loss = -get_log_probs(logits, tokens).mean()\n",
        "        loss.backward()\n",
        "\n",
        "        self.optimizer.step()\n",
        "        self.optimizer.zero_grad()\n",
        "\n",
        "        self.step += 1\n",
        "        wandb.log({\"train_loss\": loss}, step=self.step)\n",
        "\n",
        "        return loss\n",
        "\n",
        "    @t.inference_mode()\n",
        "    def evaluate(self) -> float:\n",
        "        \"\"\"\n",
        "        Evaluate the model on the test set and return the accuracy.\n",
        "        \"\"\"\n",
        "        # raise NotImplementedError()\n",
        "\n",
        "        self.model.eval()\n",
        "        total_correct, total_samples = 0, 0\n",
        "\n",
        "        for batch in tqdm(self.test_loader, desc=\"Evaluating\"):\n",
        "            tokens = batch[\"tokens\"].to(device)\n",
        "            logits: Tensor = self.model(tokens)[:, :-1]\n",
        "            predicted_tokens = logits.argmax(dim=-1)\n",
        "            total_correct += (predicted_tokens == tokens[:, 1:]).sum().item()\n",
        "            total_samples += tokens.size(0) * (tokens.size(1) - 1)\n",
        "\n",
        "        accuracy = total_correct / total_samples\n",
        "        wandb.log({\"accuracy\": accuracy}, step=self.step)\n",
        "\n",
        "        return accuracy\n",
        "\n",
        "    def train(self):\n",
        "        \"\"\"\n",
        "        Trains the model, for `self.args.epochs` epochs. Also handles wandb initialisation, and early stopping\n",
        "        for each epoch at `self.args.max_steps_per_epoch` steps.\n",
        "        \"\"\"\n",
        "        wandb.init(project=self.args.wandb_project, name=self.args.wandb_name, config=self.args)\n",
        "        accuracy = np.nan\n",
        "\n",
        "        progress_bar = tqdm(total=self.args.max_steps_per_epoch * self.args.epochs)\n",
        "\n",
        "        for epoch in range(self.args.epochs):\n",
        "            for i, batch in enumerate(self.train_loader):\n",
        "                loss = self.training_step(batch)\n",
        "                progress_bar.update()\n",
        "                progress_bar.set_description(f\"Epoch {epoch+1}, loss: {loss:.3f}, accuracy: {accuracy:.3f}\")\n",
        "                if i >= self.args.max_steps_per_epoch:\n",
        "                    break\n",
        "\n",
        "            accuracy = self.evaluate()\n",
        "\n",
        "        wandb.finish()\n",
        "\n",
        "\n",
        "# See the full run here: https://api.wandb.ai/links/callum-mcdougall/4xtin05h\n",
        "model = DemoTransformer(model_cfg).to(device)\n",
        "args = TransformerTrainingArgs()\n",
        "trainer = TransformerTrainer(args, model)\n",
        "trainer.train()"
      ]
    },
    {
      "cell_type": "markdown",
      "metadata": {
        "id": "a9ZZyzJsGwrS"
      },
      "source": [
        "<details><summary>solution</summary>\n",
        "\n",
        "```python\n",
        "class TransformerTrainer:\n",
        "    def __init__(self, args: TransformerTrainingArgs, model: DemoTransformer):\n",
        "        super().__init__()\n",
        "        self.model = model\n",
        "        self.args = args\n",
        "\n",
        "        self.optimizer = t.optim.AdamW(self.model.parameters(), lr=args.lr, weight_decay=args.weight_decay)\n",
        "        self.step = 0\n",
        "\n",
        "        self.train_loader = DataLoader(\n",
        "            dataset_dict[\"train\"], batch_size=args.batch_size, shuffle=True, num_workers=4, pin_memory=True\n",
        "        )\n",
        "        self.test_loader = DataLoader(\n",
        "            dataset_dict[\"test\"], batch_size=args.batch_size, shuffle=False, num_workers=4, pin_memory=True\n",
        "        )\n",
        "\n",
        "    def training_step(self, batch: dict[str, Int[Tensor, \"batch seq\"]]) -> Float[Tensor, \"\"]:\n",
        "        \"\"\"\n",
        "        Calculates the loss on the tokens in the batch, performs a gradient update step, and logs the loss.\n",
        "\n",
        "        Remember that `batch` is a dictionary with the single key 'tokens'.\n",
        "        \"\"\"\n",
        "        tokens = batch[\"tokens\"].to(device)\n",
        "        logits = self.model(tokens)\n",
        "        loss = -get_log_probs(logits, tokens).mean()\n",
        "        loss.backward()\n",
        "        self.optimizer.step()\n",
        "        self.optimizer.zero_grad()\n",
        "        self.step += 1\n",
        "        wandb.log({\"train_loss\": loss}, step=self.step)\n",
        "        return loss\n",
        "\n",
        "    @t.inference_mode()\n",
        "    def evaluate(self) -> float:\n",
        "        \"\"\"\n",
        "        Evaluate the model on the test set and return the accuracy.\n",
        "        \"\"\"\n",
        "        self.model.eval()\n",
        "        total_correct, total_samples = 0, 0\n",
        "\n",
        "        for batch in tqdm(self.test_loader, desc=\"Evaluating\"):\n",
        "            tokens = batch[\"tokens\"].to(device)\n",
        "            logits: Tensor = self.model(tokens)[:, :-1]\n",
        "            predicted_tokens = logits.argmax(dim=-1)\n",
        "            total_correct += (predicted_tokens == tokens[:, 1:]).sum().item()\n",
        "            total_samples += tokens.size(0) * (tokens.size(1) - 1)\n",
        "\n",
        "        accuracy = total_correct / total_samples\n",
        "        wandb.log({\"accuracy\": accuracy}, step=self.step)\n",
        "        return accuracy\n",
        "\n",
        "    def train(self):\n",
        "        \"\"\"\n",
        "        Trains the model, for `self.args.epochs` epochs. Also handles wandb initialisation, and early stopping\n",
        "        for each epoch at `self.args.max_steps_per_epoch` steps.\n",
        "        \"\"\"\n",
        "        wandb.init(project=self.args.wandb_project, name=self.args.wandb_name, config=self.args)\n",
        "        accuracy = np.nan\n",
        "\n",
        "        progress_bar = tqdm(total=self.args.max_steps_per_epoch * self.args.epochs)\n",
        "\n",
        "        for epoch in range(self.args.epochs):\n",
        "            for i, batch in enumerate(self.train_loader):\n",
        "                loss = self.training_step(batch)\n",
        "                progress_bar.update()\n",
        "                progress_bar.set_description(f\"Epoch {epoch+1}, loss: {loss:.3f}, accuracy: {accuracy:.3f}\")\n",
        "                if i >= self.args.max_steps_per_epoch:\n",
        "                    break\n",
        "\n",
        "            accuracy = self.evaluate()\n",
        "\n",
        "        wandb.finish()\n",
        "```\n",
        "</details>"
      ]
    },
    {
      "cell_type": "markdown",
      "metadata": {
        "id": "e6SIt9jhGwrS"
      },
      "source": [
        "<!-- Note - this section of the course used to use PyTorch Lightning, but this has now been taken out. If you want, you can look at the old version of the training code which used PyTorch Lightning in the dropdown below.\n",
        "\n",
        "<details>\n",
        "<summary>PyTorch Lighting training loop</summary>\n",
        "\n",
        "```python\n",
        "class LitTransformer(pl.LightningModule):\n",
        "\tdef __init__(self, args: TransformerTrainingArgs, model: DemoTransformer, data_loader: DataLoader):\n",
        "\t\tsuper().__init__()\n",
        "\t\tself.model = model\n",
        "\t\tself.cfg = model.cfg\n",
        "\t\tself.args = args\n",
        "\t\tself.data_loader = data_loader\n",
        "\n",
        "\tdef forward(self, tokens: Int[Tensor, \"batch position\"]) -> Float[Tensor, \"batch position d_vocab\"]:\n",
        "\t\tlogits = self.model(tokens)\n",
        "\t\treturn logits\n",
        "\n",
        "\tdef training_step(self, batch: Dict[str, Tensor], batch_idx: int) -> Float[Tensor, \"\"]:\n",
        "\t\t'''\n",
        "\t\tHere you compute and return the training loss and some additional metrics for e.g.\n",
        "\t\tthe progress bar or logger.\n",
        "\t\t'''\n",
        "\t\ttokens = batch[\"tokens\"].to(device)\n",
        "\t\tlogits = self.model(tokens)\n",
        "\t\tloss = -get_log_probs(logits, tokens).mean()\n",
        "\t\tself.log(\"train_loss\", loss)\n",
        "\t\treturn loss\n",
        "\n",
        "\tdef configure_optimizers(self):\n",
        "\t\t'''\n",
        "\t\tChoose what optimizers and learning-rate schedulers to use in your optimization.\n",
        "\t\t'''\n",
        "\t\toptimizer = t.optim.AdamW(self.model.parameters(), lr=self.args.lr, weight_decay=self.args.weight_decay)\n",
        "\t\treturn optimizer\n",
        "\n",
        "\tdef train_dataloader(self):\n",
        "\t\treturn self.data_loader\n",
        "\n",
        "\n",
        "litmodel = LitTransformer(args, model, data_loader)\n",
        "logger = WandbLogger(save_dir=args.log_dir, project=args.log_name, name=args.run_name)\n",
        "\n",
        "trainer = pl.Trainer(\n",
        "    max_epochs=args.max_epochs,\n",
        "    logger=logger,\n",
        "    log_every_n_steps=args.log_every_n_steps\n",
        ")\n",
        "trainer.fit(model=litmodel, train_dataloaders=litmodel.data_loader)\n",
        "wandb.finish()\n",
        "```\n",
        "\n",
        "</details>\n",
        "\n",
        "<details>\n",
        "<summary>Explanation for why PyTorch Lightning is no longer used</summary>\n",
        "\n",
        "TLDR - it provides nice modularization and saving of code, but it abstracts away a lot of the details of training loops, and so isn't very useful for educational purposes. Also, it imposes a lot of structure on how the training loops work without allowing for much flexibility, and lots of the code we'll write later (e.g. linear probes or RL) doesn't fit well into this framework. However, it can be a very useful tool to learn about once you've got the basics down and you're looking to benefit from the suite of extra features it provides.\n",
        "\n",
        "</details> -->\n",
        "\n",
        "when you run the code for the first time, you'll have to login to w&b, and paste an api key. after this is done, your w&b training run will start. it'll give you a lot of output text, one line of which will look like:\n",
        "\n",
        "```\n",
        "View run at https://wandb.ai/<USERNAME>/<PROJECT-NAME>/runs/<RUN-NAME>\n",
        "```\n",
        "\n",
        "which you can click on to visit the run page.\n",
        "\n",
        "note: to see the plots more clearly in w&B, you can click on the **edit panel** of your plot (the small pencil symbol at the top-right), then move the **smoothing** slider to the right."
      ]
    },
    {
      "cell_type": "markdown",
      "metadata": {
        "id": "G9fyYVEqGwrS"
      },
      "source": [
        "### a note on this loss curve (optional)\n",
        "\n",
        "\n",
        "what's up with the shape of our loss curve? it seems like we start at around 10-11, drops down very fast, but then levels out. it turns out, this is all to do with the kinds of algorithms the model learns during training.\n",
        "\n"
      ]
    },
    {
      "cell_type": "markdown",
      "metadata": {
        "id": "RIDtKSgOoZnT"
      },
      "source": [
        "when it starts out, your model will be outputting random noise, which might look a lot like \"predict each token with approximately uniform probability\", i.e. $Q(x) = 1/d_\\text{vocab}$ for all $x$. this gives us a cross entropy loss of $\\log (d_\\text{vocab})$."
      ]
    },
    {
      "cell_type": "code",
      "execution_count": null,
      "metadata": {
        "id": "fb5pVLXdGwrS"
      },
      "outputs": [],
      "source": [
        "d_vocab = model.cfg.d_vocab\n",
        "\n",
        "print(f\"d_vocab = {d_vocab}\")\n",
        "print(f\"cross entropy loss on uniform distribution = {math.log(d_vocab):.4f}\")"
      ]
    },
    {
      "cell_type": "markdown",
      "metadata": {
        "id": "LKrzzqJNGwrS"
      },
      "source": [
        "the next thing we might expect the model to learn is the frequencies of words in the english language. after all, small common tokens like `\" and\"` or `\" the\"` might appear much more frequently than others. this would give us an average cross entropy loss of:\n",
        "\n",
        "$$\n",
        "- \\sum_x p_x \\log p_x\n",
        "$$\n",
        "\n",
        "where $p_x$ is the actual frequency of the word in our training data.\n",
        "\n",
        "we can evaluate this quantity as follows:"
      ]
    },
    {
      "cell_type": "code",
      "execution_count": null,
      "metadata": {
        "id": "TJarJY8cGwrS"
      },
      "outputs": [],
      "source": [
        "toks = tokenized_dataset[:][\"tokens\"].flatten()\n",
        "\n",
        "d_vocab = model.cfg.d_vocab\n",
        "freqs = t.bincount(toks, minlength=d_vocab)\n",
        "probs = freqs.float() / freqs.sum()\n",
        "\n",
        "distn = t.distributions.categorical.Categorical(probs=probs)\n",
        "entropy = distn.entropy()\n",
        "\n",
        "print(f\"entropy of training data = {entropy:.3f}\")"
      ]
    },
    {
      "cell_type": "markdown",
      "metadata": {
        "id": "gmjo4Lg7GwrS"
      },
      "source": [
        "after unigram frequencies, the next thing our model usually learns is **bigram frequencies** (i.e. the frequency of pairs of adjacent tokens in the training data). for instance, `\"I\"` and `\" am\"` are common tokens, but their bigram frequency is much higher than it would be if they occurred independently. bigram frequencies actually take you pretty far, since they also help with:\n",
        "\n",
        "* some simple grammatical rules (e.g. a full stop being followed by a capitalized word)\n",
        "* weird quirks of tokenization (e.g. `\" manip\"` being followed by `\"ulative\"`)\n",
        "* common names (e.g. `\"Barack\"` being followed by `\" Obama\"`)\n",
        "\n",
        "\n",
        "after approximating bigram frequencies, we need to start using smarter techniques, like trigrams (which can only be implemented using attention heads), **induction heads** (which we'll learn a lot more about in the next set of exercises!), and fact memorization or more basic grammar and syntax rules. marginal improvements start getting harder around this point, leading to a flattening of our loss curve."
      ]
    },
    {
      "cell_type": "markdown",
      "metadata": {
        "id": "0TSVp6HTGwrS"
      },
      "source": [
        "### Exercise (optional) - log completions\n",
        "\n",
        "> ```yaml\n",
        "> Difficulty: 🔴🔴🔴🔴⚪\n",
        "> Importance: 🔵⚪⚪⚪⚪\n",
        ">\n",
        "> You should spend up to 20-40 minutes on this exercise, if you choose to attempt it.\n",
        "> Note, you might want to come back to this exercise *after* you learn how sampling works.\n",
        "> ```\n",
        "\n"
      ]
    },
    {
      "cell_type": "markdown",
      "metadata": {
        "id": "G3t-igEgoNiI"
      },
      "source": [
        "Choose a handle of prompts, and log the model's completions on those sentences. We recommend you do this with a lower frequency than loss is logged (e.g. once every 10-100 batches).\n",
        "\n",
        "The `wandb` syntax for logging text is pretty simple. Firstly, you can just print output as stdout and this is also logged to Weights & Biases (you can find it under the \"Logs\" section of your run). Alternatively, you can log data in the form of a table, and have it appear next to your other charts:\n",
        "\n",
        "```python\n",
        "wandb.log({\"completions_table\": wandb.Table(\n",
        "    data = data,\n",
        "    columns = [\"epoch\", \"step\", \"text\"]\n",
        ")})\n",
        "```\n",
        "\n",
        "where `data` is a list of length-3 lists, with each list containing (epoch, step, text). If you choose this option, we recommend logging the table less frequently than you're sampling from the model, to make sure you're not sending too much data (because unfortunately wandb doesn't have methods to incrementally update the table during logging).\n",
        "\n",
        "If you want to try this before going through the sampling exercises (which are quite long!), you can use the code below to sample output from the model. Note that the `TransformerSampler` object is already in inference mode, so you don't need to worry about this."
      ]
    },
    {
      "cell_type": "code",
      "execution_count": null,
      "metadata": {
        "id": "Q_Eou1J8GwrS"
      },
      "outputs": [],
      "source": [
        "def sampling_fn(model: DemoTransformer, prompt: str) -> str:\n",
        "    sampler = solutions.TransformerSampler(model, reference_gpt2.tokenizer)\n",
        "    output = sampler.sample(prompt, temperature=0.7, top_p=0.95, max_tokens_generated=16)\n",
        "    return output\n",
        "\n",
        "\n",
        "model = DemoTransformer(model_cfg).to(device)\n",
        "\n",
        "# Should be entirely random, because it uses a newly initialized model\n",
        "print(sampling_fn(model, prompt=\"John and Mary went to the\"))"
      ]
    },
    {
      "cell_type": "code",
      "execution_count": null,
      "metadata": {
        "id": "tRZOc5O2GwrS"
      },
      "outputs": [],
      "source": [
        "# YOUR CODE HERE - rewrite the TransformerTrainer.train method, so that it logs completions\n",
        "\n",
        "\n",
        "prompt_list = [\n",
        "    \"Eliezer Shlomo Yudkowsky (born September 11, 1979) is an American decision and artificial intelligence (AI) theorist and writer, best known for\",\n",
        "    \"In a shocking finding, scientist discovered a herd of unicorns living in a remote, previously unexplored valley, in the Andes Mountains. Even more surprising to the researchers was the fact that the unicorns spoke perfect English.\",\n",
        "    \"John and Mary went to the\",\n",
        "]\n",
        "\n",
        "model = DemoTransformer(model_cfg).to(device)\n",
        "args = TransformerTrainingArgsLogText()\n",
        "trainer = TransformerTrainer(args, model)\n",
        "trainer.train(sampling_fn, prompt_list)\n",
        "# Read full report here - https://api.wandb.ai/links/callum-mcdougall/5ex16e5w"
      ]
    },
    {
      "cell_type": "markdown",
      "metadata": {
        "id": "ueLucxr1GwrS"
      },
      "source": [
        "<details><summary>Solution</summary>\n",
        "\n",
        "```python\n",
        "@dataclass\n",
        "class TransformerTrainingArgsLogText(TransformerTrainingArgs):\n",
        "    text_sample_freq: int = 20\n",
        "    table_log_freq: int = 200\n",
        "\n",
        "    def __post_init__(self):\n",
        "        assert (\n",
        "            self.table_log_freq >= self.text_sample_freq\n",
        "        ), \"You should log the table less frequently than you add text to it.\"\n",
        "\n",
        "\n",
        "def train_log_text(self: TransformerTrainer, sampling_fn: Callable, prompt_list: list[str]):\n",
        "    \"\"\"\n",
        "    Trains the model, for `self.args.epochs` epochs. Also handles wandb initialisation, and early stopping\n",
        "    for each epoch at `self.args.max_steps_per_epoch` steps.\n",
        "\n",
        "    This also takes 2 extra arguments:\n",
        "        sampling_fn: function which takes model & a single prompt (i.e. text string) and returns text string output\n",
        "        prompt_list: list of prompts we'll log output on\n",
        "    \"\"\"\n",
        "    wandb.init(project=self.args.wandb_project, name=self.args.wandb_name, config=self.args)\n",
        "    accuracy = np.nan\n",
        "    progress_bar = tqdm(total=self.args.max_steps_per_epoch * self.args.epochs)\n",
        "\n",
        "    # Create a list for storing data\n",
        "    completions_list = []\n",
        "\n",
        "    for epoch in range(self.args.epochs):\n",
        "        for i, batch in enumerate(self.train_loader()):\n",
        "            loss = self.training_step(batch)\n",
        "            progress_bar.update()\n",
        "            progress_bar.set_description(f\"Epoch {epoch+1}, loss: {loss:.3f}, accuracy: {accuracy:.3f}\")\n",
        "\n",
        "            # Control the adding of text to the table, and the logging of text\n",
        "            if self.step % self.args.text_sample_freq == 0:\n",
        "                text_completions = [sampling_fn(self.model, prompt) for prompt in prompt_list]\n",
        "                completions_list.append([epoch, self.step, *text_completions])\n",
        "            if self.step % self.args.table_log_freq == 0:\n",
        "                wandb.log(\n",
        "                    {\n",
        "                        \"completions_table\": wandb.Table(\n",
        "                            data=completions_list,\n",
        "                            columns=[\"epoch\", \"step\", *[f\"prompt_{i}\" for i in range(len(prompt_list))]],\n",
        "                        )\n",
        "                    }\n",
        "                )\n",
        "\n",
        "            if i >= self.args.max_steps_per_epoch:\n",
        "                break\n",
        "\n",
        "        accuracy = self.evaluate()\n",
        "\n",
        "    wandb.finish()\n",
        "\n",
        "\n",
        "TransformerTrainer.train = train_log_text\n",
        "\n",
        "\n",
        "prompt_list = [\n",
        "    \"Eliezer Shlomo Yudkowsky (born September 11, 1979) is an American decision and artificial intelligence (AI) theorist and writer, best known for\",\n",
        "    \"In a shocking finding, scientist discovered a herd of unicorns living in a remote, previously unexplored valley, in the Andes Mountains. Even more surprising to the researchers was the fact that the unicorns spoke perfect English.\",\n",
        "    \"John and Mary went to the\",\n",
        "]\n",
        "\n",
        "model = DemoTransformer(model_cfg).to(device)\n",
        "args = TransformerTrainingArgsLogText()\n",
        "trainer = TransformerTrainer(args, model)\n",
        "trainer.train(sampling_fn, prompt_list)\n",
        "# Read full report here - https://api.wandb.ai/links/callum-mcdougall/5ex16e5w\n",
        "```\n",
        "</details>"
      ]
    },
    {
      "cell_type": "markdown",
      "metadata": {
        "id": "0bC0O1E-GwrS"
      },
      "source": [
        "You shouldn't expect to see perfect logical coherence from your model, but you should at least see that it respects basic word frequencies, and follows basic rules of grammar some of the time. Hopefully this gives some perspective on how difficult training a transformer can be!"
      ]
    },
    {
      "cell_type": "markdown",
      "metadata": {
        "id": "XvlOGawxGwrS"
      },
      "source": [
        "# 4️⃣ sampling from a transformer\n",
        "\n",
        "##### learning objectives\n",
        "\n",
        "- learn how to sample from a transformer\n",
        "  * this includes basic methods like greedy search or top-k, and more advanced methods like beam search\n",
        "- learn how to cache the output of a transformer, so that it can be used to generate text more efficiently\n",
        "  * a caching system can reuse computations from previous forward passes to improve the model's text generation speed.\n",
        "  * optionally, rewrite the sampling functions to make use of caching methods"
      ]
    },
    {
      "cell_type": "markdown",
      "metadata": {
        "id": "YU9grKSaGwrS"
      },
      "source": [
        "let's discuss how we might go about producing output from a transformer.\n",
        "\n",
        "one obvious method to sample tokens from a distribution would be to always take the token assigned the highest probability. but this can lead to some boring and repetitive outcomes, and at worst it can lock our transformer's output into a loop.\n",
        "\n",
        "first, you should read huggingface's blog post [wow to generate text: using different decoding methods for language generation](https://huggingface.co/blog/how-to-generate). once you've done that, you can start the exercises below."
      ]
    },
    {
      "cell_type": "markdown",
      "metadata": {
        "id": "tY9E7fJmGwrS"
      },
      "source": [
        "## `TransformerSampler` class\n",
        "\n",
        "below, we've given you the `TransformerSampler` class. this contains the following important methods:\n",
        "\n",
        "- `sample`, which is the highest-level method. it repeatedly calls `sample_next_token` to generate new tokens, until one of the termination criteria is met.\n",
        "- `sample_next_token`, which samples a single new token based on some hyperparameters. this might involve various different sampling methods and techniques e.g. temperature scaling, top-k sampling, top-p sampling, etc.\n",
        "- a set of other methods, which apply the previously mentioned sampling methods and techniques.\n",
        "\n",
        "you can see how `sample_next_token` works, and as an example how greedy sampling is implemented via `greedy_search` - we just continually take the tokens with the highest logits at each step.\n",
        "\n",
        "in the next exercise you'll implement the `sample` method, and then you'll go on to implement all the other methods."
      ]
    },
    {
      "cell_type": "markdown",
      "metadata": {
        "id": "Se4nEvEKS9uE"
      },
      "source": [
        "<details>\n",
        "<summary>question - why do you think <code>temperature=0.0</code> correspond to greedy sampling?</summary>\n",
        "\n",
        "to apply a temperature to our sampling (as we'll see later) means to scale all logits by `(1 / temperature)`. The basic intuition here is:\n",
        "\n",
        "* a higher temperature means a smaller scale factor, so the logits all approach zero, i.e. uniform distribution, and the sampling process is a lot more random (producing more diverse and varied outputs)\n",
        "* a lower temperature means a larger scale factor, so the logits all approach infinity, i.e. a dirac delta function, and the sampling process is a lot more deterministic (producing less varied output)\n",
        "\n",
        "as temperature gets close to zero, the difference between the largest logit and second largest logit becomes very large, so the distribution tends to \"probability of 1 on the highest-likelihood token\", i.e. greedy sampling. you can derive this formally if you prefer.\n",
        "</details>"
      ]
    },
    {
      "cell_type": "markdown",
      "metadata": {
        "id": "Yq1zzhp8GwrS"
      },
      "source": [
        "### exercise - implement `sample`\n",
        "\n",
        "> ```yaml\n",
        "> difficulty: 🔴🔴🔴🔴⚪\n",
        "> importance: 🔵🔵🔵⚪⚪\n",
        ">\n",
        "> you should spend up to 25-40 minutes on this exercise.\n",
        "> ```\n",
        "\n",
        "the `sample` method generates new tokens autoregressively, by repeatedly:\n",
        "\n",
        "- passing the current sequence of tokens through the model to get logits,\n",
        "- using some sampling technique to select a new token, i.e. `sample_next_token(input_ids, logits, **kwargs)`,\n",
        "- appending this new token to the input sequence,\n",
        "- repeating the process until one of the termination criteria is met: either we generate `max_tokens_generated` new tokens, or we generate the end-of-sequence token (which we can access via `self.tokenizer.eos_token_id`).\n",
        "\n",
        "lastly, we use the `tokenizer.decode` method to return the sampled string. you're also invited to use the `verbose` argument, for printing the decoded sequences while they're being generated (this can help with debugging).\n",
        "\n",
        "below is some code which tests your sampling function by performing greedy sampling (which means always choosing the most likely next token at each step)."
      ]
    },
    {
      "cell_type": "markdown",
      "metadata": {
        "id": "U_VVIcyGTgfH"
      },
      "source": [
        "a few hints:\n",
        "- don't forget about tensor shapes! your model's input should always have a batch dimension, i.e. it should be shape `(1, seq_len)`.\n",
        "- the `sample_next_token` method will return an integer, so make sure you wrap this in a tensor before concatenating it to the end of your input ids.\n",
        "- also remember to have your tensors be on the same device (we have a global `device` variable).\n",
        "- remember to put your model in evaluation mode, using `model.eval()`."
      ]
    },
    {
      "cell_type": "code",
      "execution_count": null,
      "metadata": {
        "id": "NJJKLM0WGwrS"
      },
      "outputs": [],
      "source": [
        "class TransformerSampler:\n",
        "    def __init__(self, model: DemoTransformer, tokenizer: GPT2TokenizerFast):\n",
        "        self.model = model\n",
        "        self.cfg = model.cfg\n",
        "        self.tokenizer = tokenizer\n",
        "\n",
        "    @t.inference_mode()\n",
        "    def sample(self, prompt: str, max_tokens_generated=2, verbose=False, **kwargs):\n",
        "        \"\"\"\n",
        "        returns a string of autoregressively generated text, starting from the prompt.\n",
        "\n",
        "        sampling terminates at max_tokens_generated, or when the model generates an end-of-sequence token. kwargs are\n",
        "        passed to sample_next_token, to give detailed instructions on how new tokens are chosen.\n",
        "        \"\"\"\n",
        "        # raise NotImplementedError()\n",
        "\n",
        "        seq_ip = prompt\n",
        "\n",
        "        for _ in range(max_tokens_generated):\n",
        "          # print(f\"seq_ip: {seq_ip}\")\n",
        "          tokens_ip = self.tokenizer.encode(seq_ip, return_tensors = \"pt\")\n",
        "          # print(\"tokens_ip.shape:\", tokens_ip.shape, \"tokens_ip[-1].shape\", tokens_ip[-1].shape)\n",
        "          tokens_ip = tokens_ip.to(device)\n",
        "          logits = self.model(tokens_ip)\n",
        "          # print(\"op logit shape:\", logits[-1][-1][:].shape)\n",
        "          token_op = self.sample_next_token(tokens_ip[-1], logits[-1][-1][:], **kwargs) # tokens_ip [ seq_len ], logits [ d_vocab ]\n",
        "          op = self.tokenizer.decode(token_op)\n",
        "          seq_op = seq_ip + op\n",
        "          # print(f\"seq_op: {seq_op}\")\n",
        "          seq_ip = seq_op\n",
        "\n",
        "        return seq_op\n",
        "\n",
        "\n",
        "    @staticmethod\n",
        "    def sample_next_token(\n",
        "        input_ids: Int[Tensor, \"seq_len\"],\n",
        "        logits: Float[Tensor, \"d_vocab\"],\n",
        "        temperature=1.0,\n",
        "        top_k=0,\n",
        "        top_p=0.0,\n",
        "        frequency_penalty=0.0,\n",
        "        seed=None,\n",
        "    ):\n",
        "        assert input_ids.ndim == 1, \"input_ids should be a 1D sequence of token ids\"\n",
        "        assert temperature >= 0, \"Temperature should be non-negative\"\n",
        "        assert 0 <= top_p <= 1.0, \"Top-p must be a probability\"\n",
        "        assert 0 <= top_k, \"Top-k must be non-negative\"\n",
        "        assert not (top_p != 0 and top_k != 0), \"At most one of top-p and top-k supported\"\n",
        "\n",
        "        # set random seeds for reproducibility\n",
        "        if seed is not None:\n",
        "            t.manual_seed(seed)\n",
        "            np.random.seed(seed)\n",
        "\n",
        "\n",
        "        # print(\"type(input_ids):\", type(input_ids), \"input_ids.shape:\", input_ids.shape, \"type(logits):\", type(logits), \"logits.shape:\", logits.shape)\n",
        "\n",
        "        # apply all the specialized sampling methods\n",
        "        if temperature == 0:\n",
        "            return TransformerSampler.greedy_search(logits)\n",
        "        elif temperature != 1.0:\n",
        "            logits = TransformerSampler.apply_temperature(logits, temperature)\n",
        "        if frequency_penalty != 0.0:\n",
        "            logits = TransformerSampler.apply_frequency_penalty(input_ids, logits, frequency_penalty)\n",
        "        if top_k > 0:\n",
        "            return TransformerSampler.sample_top_k(logits, top_k)\n",
        "        if top_p > 0.0:\n",
        "            return TransformerSampler.sample_top_p(logits, top_p)\n",
        "        return TransformerSampler.sample_basic(logits)\n",
        "\n",
        "    @staticmethod\n",
        "    def greedy_search(logits: Float[Tensor, \"d_vocab\"]) -> int:\n",
        "        \"\"\"\n",
        "        returns the most likely token (as an int).\n",
        "        \"\"\"\n",
        "\n",
        "        idx = logits.argmax(dim = -1)\n",
        "        return idx\n",
        "\n",
        "\n",
        "    @staticmethod\n",
        "    def apply_temperature(logits: Float[Tensor, \"d_vocab\"], temperature: float) -> Float[Tensor, \"d_vocab\"]:\n",
        "        \"\"\"\n",
        "        applies temperature scaling to the logits.\n",
        "        \"\"\"\n",
        "\n",
        "        return logits / temperature\n",
        "\n",
        "\n",
        "    @staticmethod\n",
        "    def apply_frequency_penalty(\n",
        "        input_ids: Int[Tensor, \"seq_len\"], logits: Float[Tensor, \"d_vocab\"], freq_penalty: float\n",
        "    ) -> Float[Tensor, \"d_vocab\"]:\n",
        "        \"\"\"\n",
        "        applies a frequency penalty to the logits.\n",
        "        \"\"\"\n",
        "\n",
        "        f = t.bincount(input_ids, minlength = logits.shape[0])\n",
        "        logits = logits - (freq_penalty * f)\n",
        "        return logits\n",
        "\n",
        "\n",
        "    @staticmethod\n",
        "    def sample_basic(logits: Float[Tensor, \"d_vocab\"]) -> int:\n",
        "        \"\"\"\n",
        "        samples from the distribution defined by the logits.\n",
        "        \"\"\"\n",
        "\n",
        "        dist = t.distributions.categorical.Categorical(logits = logits)\n",
        "        idx = dist.sample()\n",
        "\n",
        "        return idx\n",
        "\n",
        "\n",
        "    @staticmethod\n",
        "    def sample_top_k(logits: Float[Tensor, \"d_vocab\"], k: int) -> int:\n",
        "        \"\"\"\n",
        "        samples from the top k most likely tokens.\n",
        "        \"\"\"\n",
        "        # raise NotImplementedError()\n",
        "\n",
        "        elements_top_k, indxs_top_k = t.topk(logits, k) # [ (values, indices)]\n",
        "\n",
        "        dist = t.distributions.categorical.Categorical(logits = elements_top_k)\n",
        "        idx = dist.sample()\n",
        "\n",
        "        return indxs_top_k[idx]\n",
        "\n",
        "\n",
        "    @staticmethod\n",
        "    def sample_top_p(logits: Float[Tensor, \"d_vocab\"], top_p: float, min_tokens_to_keep: int = 1) -> int:\n",
        "        \"\"\"\n",
        "        samples from the most likely tokens which make up at least p cumulative probability.\n",
        "        \"\"\"\n",
        "        #raise NotImplementedError()\n",
        "\n",
        "        # idx_end = 0\n",
        "\n",
        "        logits_sorted, indx_sorted = t.sort(logits, descending = True, stable = True)\n",
        "\n",
        "        probs_cum = t.cumsum(nn.functional.softmax(logits_sorted, dim = 0), dim = 0)\n",
        "\n",
        "        # print(\"cum_prob:\", probs_cum)\n",
        "\n",
        "        # choose which tokens to keep, in the set we sample from\n",
        "        num_keep = t.searchsorted(probs_cum, top_p, side = \"left\").item() + 1\n",
        "        num_keep = max(num_keep, min_tokens_to_keep)\n",
        "\n",
        "        # for i in range(len(cum_prob)):\n",
        "        #  if cum_prob[i] >= top_p:\n",
        "        #    idx_end = i\n",
        "        #    break\n",
        "\n",
        "        # if i < min_tokens_to_keep - 1: idx_end = min_tokens_to_keep\n",
        "\n",
        "        # print(\"idx_end:\", idx_end)\n",
        "\n",
        "        idx_keep = indx_sorted[:num_keep]\n",
        "\n",
        "        dist = t.distributions.categorical.Categorical(logits = logits[idx_keep])\n",
        "        idx = dist.sample()\n",
        "\n",
        "        return idx_keep[idx]\n",
        "\n",
        "\n",
        "    @t.inference_mode()\n",
        "    def beam_search(\n",
        "        self,\n",
        "        prompt: str,\n",
        "        num_return_sequences: int,\n",
        "        num_beams: int,\n",
        "        max_new_tokens: int,\n",
        "        no_repeat_ngram_size: int | None = None,\n",
        "    ) -> list[tuple[float, str]]:\n",
        "        \"\"\"\n",
        "        implements a beam search, by repeatedly performing the `generate` and `filter` steps (starting from the initial\n",
        "        prompt) until either of the two stopping criteria are met: (1) we've generated `max_new_tokens` tokens, or (2)\n",
        "        we've generated `num_returns_sequences` terminating sequences.\n",
        "        \"\"\"\n",
        "        # raise NotImplementedError()\n",
        "        pass\n",
        "\n",
        "\n",
        "t.set_grad_enabled(False)  # gradients are not necessary for sampling\n",
        "\n",
        "model = DemoTransformer(Config()).to(device)\n",
        "model.load_state_dict(reference_gpt2.state_dict(), strict=False)\n",
        "tokenizer = reference_gpt2.tokenizer\n",
        "sampler = TransformerSampler(model, tokenizer)\n",
        "\n",
        "prompt = \"Jingle bells, jingle bells, jingle all the way\"\n",
        "print(f\"Testing greedy decoding\\nPrompt:   {prompt!r}\")\n",
        "\n",
        "expected = \"Jingle bells, jingle bells, jingle all the way up to the top of the mountain.\"\n",
        "output = sampler.sample(prompt, max_tokens_generated=8, temperature=0.0)\n",
        "\n",
        "print(f\"Expected: {expected!r}\\nActual:   {output!r}\\n\")\n",
        "assert output == expected\n",
        "test_submit(9)\n",
        "\n",
        "print(\"Tests passed!\")"
      ]
    },
    {
      "cell_type": "markdown",
      "metadata": {
        "id": "U10wL1EJGwrS"
      },
      "source": [
        "<details>\n",
        "<summary>solution</summary>\n",
        "\n",
        "```python\n",
        "@t.inference_mode()\n",
        "def sample(self, prompt: str, max_tokens_generated=100, verbose=False, **kwargs):\n",
        "    \"\"\"\n",
        "    Returns a string of autoregressively generated text, starting from the prompt.\n",
        "\n",
        "    Sampling terminates at max_tokens_generated, or when the model generates an end-of-sequence token. kwargs are\n",
        "    passed to sample_next_token, to give detailed instructions on how new tokens are chosen.\n",
        "    \"\"\"\n",
        "    self.model.eval()\n",
        "    input_ids = self.tokenizer.encode(prompt, return_tensors=\"pt\").to(device)[0]\n",
        "\n",
        "    for i in range(max_tokens_generated):\n",
        "        # Get new logits (make sure we don't pass in more tokens than the model's context length)\n",
        "        logits = self.model(input_ids[None, -self.cfg.n_ctx :])\n",
        "        # We only take logits for the last token, because this is what we're sampling\n",
        "        logits = logits[0, -1]\n",
        "        # Get next token (as a tensor of size (1, 1) so we can concat it to input_ids)\n",
        "        next_token = t.tensor([TransformerSampler.sample_next_token(input_ids, logits, **kwargs)], device=device)\n",
        "        # Create new input ids string, with shape (1, old_seq_len + 1)\n",
        "        input_ids = t.cat([input_ids, next_token], dim=-1)\n",
        "        # Print out results, if required\n",
        "        if verbose:\n",
        "            print(self.tokenizer.decode(input_ids), end=\"\\r\")\n",
        "        # If our new token was the end-of-text token, stop\n",
        "        if next_token == getattr(self.tokenizer, \"eos_token_id\", None):\n",
        "            break\n",
        "\n",
        "    return self.tokenizer.decode(input_ids)\n",
        "```\n",
        "\n",
        "</details>"
      ]
    },
    {
      "cell_type": "markdown",
      "metadata": {
        "id": "MDs1F7eoGwrS"
      },
      "source": [
        "## sampling with categorical\n",
        "\n",
        "now, we'll move into implementing specific sampling methods. In each of these cases, you should return to the class definition above and fill in the corresponding method.\n",
        "\n",
        "pytorch provides a [`distributions`](https://pytorch.org/docs/stable/distributions.html#distribution) package with a number of convenient methods for sampling from various distributions.\n",
        "\n",
        "for now, we just need [`t.distributions.categorical.Categorical`](https://pytorch.org/docs/stable/distributions.html#categorical). use this to implement `sample_basic`, which just samples from the provided logits (which may have already been modified by the temperature and frequency penalties).\n",
        "\n",
        "note that this will be slow since we aren't batching the samples, but don't worry about speed for now."
      ]
    },
    {
      "cell_type": "markdown",
      "metadata": {
        "id": "kjCFnXdyGwrS"
      },
      "source": [
        "### exercise - `sample_basic`\n",
        "\n",
        "> ```yaml\n",
        "> difficulty: 🔴🔴⚪⚪⚪\n",
        "> importance: 🔵🔵⚪⚪⚪\n",
        ">\n",
        "> you should spend up to 5-15 minutes on this exercise.\n",
        "> ```\n",
        "\n",
        "implement basic sampling in the `TransformerSampler` class above (i.e. the `sample_basic` method), then run the code below to verify your solution works."
      ]
    },
    {
      "cell_type": "code",
      "execution_count": null,
      "metadata": {
        "id": "CjwqHfx6GwrT"
      },
      "outputs": [],
      "source": [
        "prompt = \"John and Mary went to the\"\n",
        "input_ids = tokenizer.encode(prompt, return_tensors=\"pt\").to(device)\n",
        "logits = model(input_ids)[0, -1]\n",
        "\n",
        "expected_top_5 = {\" church\": 0.0648, \" house\": 0.0367, \" temple\": 0.0145, \" same\": 0.0104, \" Church\": 0.0097}\n",
        "frequency_of_top_5 = defaultdict(int)\n",
        "\n",
        "N = 10_000\n",
        "for _ in tqdm(range(N)):\n",
        "    token = TransformerSampler.sample_next_token(input_ids.squeeze(), logits)\n",
        "    frequency_of_top_5[tokenizer.decode(token)] += 1\n",
        "\n",
        "for word in expected_top_5:\n",
        "    expected_freq = expected_top_5[word]\n",
        "    observed_freq = frequency_of_top_5[word] / N\n",
        "    print(f\"Word: {word!r:<9}. Expected freq {expected_freq:.4f}, observed freq {observed_freq:.4f}\")\n",
        "    assert abs(observed_freq - expected_freq) < 0.01, \"Try increasing N if this fails by a small amount.\"\n",
        "\n",
        "print(\"Tests passed!\")\n",
        "test_submit(10)"
      ]
    },
    {
      "cell_type": "markdown",
      "metadata": {
        "id": "BEWVvwfdGwrT"
      },
      "source": [
        "<details>\n",
        "<summary>Solution</summary>\n",
        "\n",
        "```python\n",
        "@staticmethod\n",
        "def sample_basic(logits: Float[Tensor, \"d_vocab\"]) -> int:\n",
        "    \"\"\"\n",
        "    Samples from the distribution defined by the logits.\n",
        "    \"\"\"\n",
        "    sampled_token = t.distributions.categorical.Categorical(logits=logits).sample()\n",
        "    return sampled_token.item()\n",
        "```\n",
        "\n",
        "</details>"
      ]
    },
    {
      "cell_type": "markdown",
      "metadata": {
        "id": "Ltd_luYDGwrT"
      },
      "source": [
        "### exercise - `apply_temperature`\n",
        "\n",
        "> ```yaml\n",
        "> difficulty: 🔴⚪⚪⚪⚪\n",
        "> importance: 🔵🔵⚪⚪⚪\n",
        ">\n",
        "> you should spend up to 5-10 minutes on this exercise.\n",
        "> ```\n",
        "\n",
        "temperature sounds fancy, but it's literally just dividing the logits by the temperature. You should implement this in your `TransformerSampler` class now."
      ]
    },
    {
      "cell_type": "code",
      "execution_count": null,
      "metadata": {
        "id": "hEXiagPcGwrT"
      },
      "outputs": [],
      "source": [
        "logits = t.tensor([1, 2]).log()\n",
        "\n",
        "cold_logits = TransformerSampler.apply_temperature(logits, temperature=0.001)\n",
        "print('A low temperature \"sharpens\" or \"peaks\" the distribution: ', cold_logits)\n",
        "t.testing.assert_close(cold_logits, 1000.0 * logits)\n",
        "\n",
        "hot_logits = TransformerSampler.apply_temperature(logits, temperature=1000.0)\n",
        "print(\"A high temperature flattens the distribution: \", hot_logits)\n",
        "t.testing.assert_close(hot_logits, 0.001 * logits)\n",
        "\n",
        "print(\"Tests passed!\")\n",
        "test_submit(11)"
      ]
    },
    {
      "cell_type": "markdown",
      "metadata": {
        "id": "gHF7ONL3GwrT"
      },
      "source": [
        "<details>\n",
        "<summary>solution</summary>\n",
        "\n",
        "```python\n",
        "@staticmethod\n",
        "def apply_temperature(logits: Float[Tensor, \"d_vocab\"], temperature: float) -> Float[Tensor, \"d_vocab\"]:\n",
        "    \"\"\"\n",
        "    Applies temperature scaling to the logits.\n",
        "    \"\"\"\n",
        "    return logits / temperature\n",
        "```\n",
        "\n",
        "</details>"
      ]
    },
    {
      "cell_type": "markdown",
      "metadata": {
        "id": "n4W3NAeAGwrT"
      },
      "source": [
        "### exercise - `apply_frequency_penalty`\n",
        "\n",
        "> ```yaml\n",
        "> difficulty: 🔴🔴⚪⚪⚪\n",
        "> importance: 🔵⚪⚪⚪⚪\n",
        ">\n",
        "> you should spend up to 10-15 minutes on this exercise.\n",
        "> ```\n",
        "\n",
        "the frequency penalty is simple as well: count the number of occurrences of each token, then subtract `freq_penalty` for each occurrence. hint: use `t.bincount` (documentation [here](https://pytorch.org/docs/stable/generated/torch.bincount.html)) to do this in a vectorized way.\n",
        "\n",
        "you should implement the `apply_frequency_penalty` method in your `TransformerSampler` class now, then run the cell below to check your solution."
      ]
    },
    {
      "cell_type": "markdown",
      "metadata": {
        "id": "IAPsn7NkGwrT"
      },
      "source": [
        "<details>\n",
        "<summary>help - i'm getting a <code>RuntimeError</code>; my tensor sizes don't match.</summary>\n",
        "\n",
        "look at the documentation page for `t.bincount`. you might need to use the `minlength` argument - why?\n",
        "</details>"
      ]
    },
    {
      "cell_type": "code",
      "execution_count": null,
      "metadata": {
        "id": "MfvsH649GwrT"
      },
      "outputs": [],
      "source": [
        "bieber_prompt = \"And I was like Baby, baby, baby, oh Like, Baby, baby, baby, no Like, Baby, baby, baby, oh I thought you'd always be mine, mine\"\n",
        "input_ids = tokenizer.encode(bieber_prompt, return_tensors=\"pt\")\n",
        "logits = t.ones(tokenizer.vocab_size)\n",
        "penalized_logits = TransformerSampler.apply_frequency_penalty(input_ids.squeeze(), logits, 2.0)\n",
        "\n",
        "assert penalized_logits[5156].item() == -11, \"Expected 6 occurrences of ' baby' with leading space, 1-2*6=-11\"\n",
        "assert penalized_logits[14801].item() == -5, \"Expected 3 occurrences of ' Baby' with leading space, 1-2*3=-5\"\n",
        "\n",
        "print(\"Tests passed!\")\n",
        "test_submit(12)"
      ]
    },
    {
      "cell_type": "markdown",
      "metadata": {
        "id": "fCWJ0mrKGwrT"
      },
      "source": [
        "<details>\n",
        "<summary>solution</summary>\n",
        "\n",
        "```python\n",
        "@staticmethod\n",
        "def apply_frequency_penalty(\n",
        "    input_ids: Int[Tensor, \"seq_len\"], logits: Float[Tensor, \"d_vocab\"], freq_penalty: float\n",
        ") -> Float[Tensor, \"d_vocab\"]:\n",
        "    \"\"\"\n",
        "    Applies a frequency penalty to the logits.\n",
        "    \"\"\"\n",
        "    d_vocab = logits.size(0)\n",
        "    id_freqs = t.bincount(input_ids, minlength=d_vocab)\n",
        "    return logits - freq_penalty * id_freqs\n",
        "```\n",
        "\n",
        "</details>"
      ]
    },
    {
      "cell_type": "markdown",
      "metadata": {
        "id": "fBSwqponGwrT"
      },
      "source": [
        "### Sampling - Manual Testing\n",
        "\n",
        "Run the below cell to get a sense for the `temperature` and `freq_penalty` arguments. Play with your own prompt and try other values.\n",
        "\n",
        "Note: your model can generate newlines or non-printing characters, so calling `print` on generated text sometimes looks awkward on screen. You can call `repr` on the string before printing to have the string escaped nicely."
      ]
    },
    {
      "cell_type": "code",
      "execution_count": null,
      "metadata": {
        "id": "hRfIyyQPGwrT"
      },
      "outputs": [],
      "source": [
        "sampler = TransformerSampler(model, tokenizer)\n",
        "\n",
        "N_RUNS = 1\n",
        "your_prompt = \"Jingle bells, jingle bells, jingle all the way\"\n",
        "cases = [\n",
        "    (\"High freq penalty\", dict(frequency_penalty=100.0)),\n",
        "    (\"Negative freq penalty\", dict(frequency_penalty=-3.0)),\n",
        "    (\"Too hot!\", dict(temperature=2.0)),\n",
        "    (\"Pleasantly cool\", dict(temperature=0.7)),\n",
        "    (\"Pleasantly warm\", dict(temperature=0.9)),\n",
        "    (\"Too cold!\", dict(temperature=0.01)),\n",
        "]\n",
        "\n",
        "table = Table(\"Name\", \"Kwargs\", \"Output\", title=\"Sampling - Manual Testing\")\n",
        "\n",
        "for name, kwargs in cases:\n",
        "    for i in range(N_RUNS):\n",
        "        output = sampler.sample(your_prompt, max_tokens_generated=24, **kwargs)\n",
        "        table.add_row(name, str(kwargs), repr(output) + \"\\n\")\n",
        "\n",
        "rprint(table)"
      ]
    },
    {
      "cell_type": "markdown",
      "metadata": {
        "id": "eJTWI0sKGwrT"
      },
      "source": [
        "## top-k sampling\n",
        "\n",
        "conceptually, the steps in top-k sampling are:\n",
        "- find the `top_k` largest probabilities (you can use [`torch.topk`](https://pytorch.org/docs/stable/generated/torch.topk.html))\n",
        "- set all other probabilities to zero\n",
        "- normalize and sample"
      ]
    },
    {
      "cell_type": "markdown",
      "metadata": {
        "id": "9PtcvnpSGwrT"
      },
      "source": [
        "### exercise - `sample_top_k`\n",
        "\n",
        "> ```yaml\n",
        "> difficulty: 🔴🔴⚪⚪⚪\n",
        "> importance: 🔵⚪⚪⚪⚪\n",
        ">\n",
        "> you should spend up to 5-10 minutes on this exercise.\n",
        "> ```\n",
        "\n",
        "implement the method `sample_top_k` now. your implementation should stay in log-space throughout (don't exponentiate to obtain probabilities). this means you don't actually need to worry about normalizing, because `Categorical` accepts unnormalised logits."
      ]
    },
    {
      "cell_type": "code",
      "execution_count": null,
      "metadata": {
        "id": "1_-9QYFzGwrT"
      },
      "outputs": [],
      "source": [
        "prompt = \"John and Mary went to the\"\n",
        "input_ids = tokenizer.encode(prompt, return_tensors=\"pt\").to(device)\n",
        "logits = model(input_ids)[0, -1]\n",
        "\n",
        "expected_top_5 = {\" church\": 0.0648, \" house\": 0.0367, \" temple\": 0.0145, \" same\": 0.0104, \" Church\": 0.0097}\n",
        "topk_5_sum = sum(expected_top_5.values())\n",
        "\n",
        "observed_freqs = defaultdict(int)\n",
        "\n",
        "N = 10000\n",
        "for _ in tqdm(range(N)):\n",
        "    token = TransformerSampler.sample_next_token(input_ids.squeeze(), logits, top_k=5)\n",
        "    observed_freqs[tokenizer.decode(token)] += 1\n",
        "\n",
        "for word in expected_top_5:\n",
        "    expected_freq = expected_top_5[word] / topk_5_sum\n",
        "    observed_freq = observed_freqs[word] / N\n",
        "    print(f\"Word: {word!r:<9}. Expected freq = {expected_freq:.4f}, observed freq = {observed_freq:.4f}\")\n",
        "    assert abs(observed_freq - expected_freq) < 0.01"
      ]
    },
    {
      "cell_type": "markdown",
      "metadata": {
        "id": "NTXiXxn2GwrT"
      },
      "source": [
        "<details>\n",
        "<summary>solution</summary>\n",
        "\n",
        "```python\n",
        "@staticmethod\n",
        "def apply_frequency_penalty(\n",
        "    input_ids: Int[Tensor, \"seq_len\"], logits: Float[Tensor, \"d_vocab\"], freq_penalty: float\n",
        ") -> Float[Tensor, \"d_vocab\"]:\n",
        "    \"\"\"\n",
        "    Applies a frequency penalty to the logits.\n",
        "    \"\"\"\n",
        "    d_vocab = logits.size(0)\n",
        "    id_freqs = t.bincount(input_ids, minlength=d_vocab)\n",
        "    return logits - freq_penalty * id_freqs\n",
        "\n",
        "@staticmethod\n",
        "def sample_basic(logits: Float[Tensor, \"d_vocab\"]) -> int:\n",
        "    \"\"\"\n",
        "    Samples from the distribution defined by the logits.\n",
        "    \"\"\"\n",
        "    sampled_token = t.distributions.categorical.Categorical(logits=logits).sample()\n",
        "    return sampled_token.item()\n",
        "\n",
        "@staticmethod\n",
        "def sample_top_k(logits: Float[Tensor, \"d_vocab\"], k: int) -> int:\n",
        "    \"\"\"\n",
        "    Samples from the top k most likely tokens.\n",
        "    \"\"\"\n",
        "    top_k_logits, top_k_token_ids = logits.topk(k)\n",
        "    # Get sampled token (which is an index corresponding to the list of top-k tokens)\n",
        "    sampled_token_idx = t.distributions.categorical.Categorical(logits=top_k_logits).sample()\n",
        "    # Get the actual token id, as an int\n",
        "    return top_k_token_ids[sampled_token_idx].item()\n",
        "\n",
        "@staticmethod\n",
        "def sample_top_p(logits: Float[Tensor, \"d_vocab\"], top_p: float, min_tokens_to_keep: int = 1) -> int:\n",
        "    \"\"\"\n",
        "    Samples from the most likely tokens which make up at least p cumulative probability.\n",
        "    \"\"\"\n",
        "    # Sort logits, and get cumulative probabilities\n",
        "    logits_sorted, indices = logits.sort(descending=True, stable=True)\n",
        "    cumul_probs = logits_sorted.softmax(-1).cumsum(-1)\n",
        "    # Choose which tokens to keep, in the set we sample from\n",
        "    n_keep = t.searchsorted(cumul_probs, top_p, side=\"left\").item() + 1\n",
        "    n_keep = max(n_keep, min_tokens_to_keep)\n",
        "    keep_idx = indices[:n_keep]\n",
        "    keep_logits = logits[keep_idx]\n",
        "    # Perform the sampling\n",
        "    sample = t.distributions.categorical.Categorical(logits=keep_logits).sample()\n",
        "    return keep_idx[sample].item()\n",
        "```\n",
        "\n",
        "</details>"
      ]
    },
    {
      "cell_type": "markdown",
      "metadata": {
        "id": "15GyVnC2GwrT"
      },
      "source": [
        "the [gpt-2 paper](https://d4mucfpksywv.cloudfront.net/better-language-models/language_models_are_unsupervised_multitask_learners.pdf) famously included an example prompt about unicorns. now it's your turn to see just how cherry picked this example was.\n",
        "\n",
        "the paper claims they used `top_k=40` and best of 10 samples."
      ]
    },
    {
      "cell_type": "code",
      "execution_count": null,
      "metadata": {
        "id": "Btnwz53qGwrT"
      },
      "outputs": [],
      "source": [
        "sampler = TransformerSampler(model, tokenizer)\n",
        "\n",
        "your_prompt = \"In a shocking finding, scientist discovered a herd of unicorns living in a remote, previously unexplored valley, in the Andes Mountains. Even more surprising to the researchers was the fact that the unicorns spoke perfect English.\"\n",
        "\n",
        "output = sampler.sample(your_prompt, temperature=0.7, top_k=40, max_tokens_generated=64)\n",
        "\n",
        "rprint(f\"Your model said:\\n\\n[bold dark_orange]{output}\")"
      ]
    },
    {
      "cell_type": "markdown",
      "metadata": {
        "id": "LjnWCN03GwrT"
      },
      "source": [
        "this is pretty incredible! For some perspective on how much of a paradigm shift even basic models like this represented, we recommend reading [this section from simulators](https://www.lesswrong.com/posts/vJFdjigzmcXMhNTsx/simulators#The_limit_of_sequence_modeling)."
      ]
    },
    {
      "cell_type": "markdown",
      "metadata": {
        "id": "bVSamsP8GwrT"
      },
      "source": [
        "## top-p aka nucleus sampling\n",
        "\n",
        "the basic idea is that we choose the most likely words, up until the total probability of words we've chosen crosses some threshold. then we sample from those chosen words based on their logits.\n",
        "\n",
        "the steps are:\n",
        "\n",
        "- sort the probabilities from largest to smallest\n",
        "- find the cutoff point where the cumulative probability first equals or exceeds `top_p`. We do the cutoff inclusively, keeping the first probability above the threshold.\n",
        "- if the number of kept probabilities is less than `min_tokens_to_keep`, keep that many tokens instead.\n",
        "- set all other probabilities to zero\n",
        "- normalize and sample\n",
        "\n",
        "for example, if our probabilities were `(0.4, 0.3, 0.2, 0.1)` and our cutoff was `top_p=0.8`, then we'd sample from the first three elements (because their total probability is `0.9` which is over the threshold, but the first two only have a total prob of `0.7` which is under the threshold). once we've chosen to sample from those three, we would renormalise them by dividing by their sum, so the probabilities we use when sampling are `(0.4/0.9, 0.3/0.9, 0.2/0.9)`.\n",
        "\n",
        "optionally, refer to the paper [the curious sase of neural text degeneration](https://arxiv.org/pdf/1904.09751.pdf) for some comparison of different methods."
      ]
    },
    {
      "cell_type": "markdown",
      "metadata": {
        "id": "fl2kC5nRGwrT"
      },
      "source": [
        "### exercise - `sample_top_p`\n",
        "\n",
        "> ```yaml\n",
        "> difficulty: 🔴🔴🔴⚪⚪\n",
        "> importance: 🔵⚪⚪⚪⚪\n",
        ">\n",
        "> you should spend up to 15-20 minutes on this exercise.\n",
        "> ```"
      ]
    },
    {
      "cell_type": "code",
      "execution_count": null,
      "metadata": {
        "id": "08Hwv97iGwrT"
      },
      "outputs": [],
      "source": [
        "prompt = \"John and Mary went to the\"\n",
        "input_ids = tokenizer.encode(prompt, return_tensors=\"pt\").to(device)\n",
        "logits = model(input_ids)[0, -1]\n",
        "\n",
        "expected_top_10pct = {\n",
        "    \" church\": 0.0648,\n",
        "    \" house\": 0.0367,  # These are the two most likely tokens, and add up to >10%\n",
        "}\n",
        "top_10pct_sum = sum(expected_top_10pct.values())\n",
        "\n",
        "observed_freqs = defaultdict(int)\n",
        "\n",
        "N = 7500 # 5000\n",
        "for _ in tqdm(range(N)):\n",
        "    token = TransformerSampler.sample_next_token(input_ids.squeeze(), logits, top_p=0.1)\n",
        "    observed_freqs[tokenizer.decode(token)] += 1\n",
        "\n",
        "for word in expected_top_10pct:\n",
        "    expected_freq = expected_top_10pct[word] / top_10pct_sum\n",
        "    observed_freq = observed_freqs[word] / N\n",
        "    print(f\"Word: {word!r:<9}. Expected freq {expected_freq:.4f}, observed freq {observed_freq:.4f}\")\n",
        "    assert abs(observed_freq - expected_freq) < 0.01, \"Try increasing N if this fails by a small amount.\""
      ]
    },
    {
      "cell_type": "markdown",
      "metadata": {
        "id": "mDZV2ZrFGwrT"
      },
      "source": [
        "<details>\n",
        "<summary>help - i'm stuck on how to implement this function.</summary>\n",
        "\n",
        "first, sort the logits using the `sort(descending=True)` method (this returns values and indices). then you can get `cumulative_probs` by applying softmax to these logits and taking the cumsum. then, you can decide how many probabilities to keep by using the `t.searchsorted` function.\n",
        "\n",
        "once you've decided which probabilities to keep, it's easiest to sample from them using the original logits (you should have preserved the indices when you called `logits.sort`). This way, you don't need to worry about renormalising like you would if you were using probabilities.\n",
        "</details>\n",
        "\n",
        "<details>\n",
        "<summary>solution</summary>\n",
        "\n",
        "```python\n",
        "@staticmethod\n",
        "def sample_top_p(logits: Float[Tensor, \"d_vocab\"], top_p: float, min_tokens_to_keep: int = 1) -> int:\n",
        "    \"\"\"\n",
        "    Samples from the most likely tokens which make up at least p cumulative probability.\n",
        "    \"\"\"\n",
        "    # Sort logits, and get cumulative probabilities\n",
        "    logits_sorted, indices = logits.sort(descending=True, stable=True)\n",
        "    cumul_probs = logits_sorted.softmax(-1).cumsum(-1)\n",
        "    # Choose which tokens to keep, in the set we sample from\n",
        "    n_keep = t.searchsorted(cumul_probs, top_p, side=\"left\").item() + 1\n",
        "    n_keep = max(n_keep, min_tokens_to_keep)\n",
        "    keep_idx = indices[:n_keep]\n",
        "    keep_logits = logits[keep_idx]\n",
        "    # Perform the sampling\n",
        "    sample = t.distributions.categorical.Categorical(logits=keep_logits).sample()\n",
        "    return keep_idx[sample].item()\n",
        "```\n",
        "\n",
        "</details>"
      ]
    },
    {
      "cell_type": "markdown",
      "metadata": {
        "id": "YKF6tETqGwrT"
      },
      "source": [
        "now, an example of top-p sampling:"
      ]
    },
    {
      "cell_type": "code",
      "execution_count": null,
      "metadata": {
        "id": "wc4HhVxtGwrT"
      },
      "outputs": [],
      "source": [
        "sampler = TransformerSampler(model, tokenizer)\n",
        "\n",
        "your_prompt = \"Eliezer Shlomo Yudkowsky (born September 11, 1979) is an American decision and artificial intelligence (AI) theorist and writer, best known for\"\n",
        "output = sampler.sample(your_prompt, temperature=0.7, top_p=0.95, max_tokens_generated=64)\n",
        "rprint(f\"Your model said:\\n\\n[bold dark_orange]{output}\")"
      ]
    },
    {
      "cell_type": "markdown",
      "metadata": {
        "id": "femg5BD6GwrT"
      },
      "source": [
        "## beam search\n",
        "\n",
        "finally, we'll implement a more advanced way of searching over output: **beam search**."
      ]
    },
    {
      "cell_type": "markdown",
      "metadata": {
        "id": "sKh8oWODWHWh"
      },
      "source": [
        "you should read the [huggingface page](https://huggingface.co/blog/how-to-generate#beam-search) on beam search before moving on.\n",
        "\n",
        "in beam search, we maintain a list of size `num_beams` completions which are the most likely completions so far as measured by the product of their probabilities. since this product can become very small, we use the sum of log probabilities instead. note - log probabilities are *not* the same as your model's output. we get log probabilities by first taking softmax of our output and then taking log. you can do this with the [`log_softmax`](https://pytorch.org/docs/stable/generated/torch.nn.functional.log_softmax.html) function / tensor method.\n",
        "\n",
        "<details>\n",
        "<summary>Log probabilities are equal to the logit output after being translated by some amount X (where X is a function of the original logit output). Can you prove this?</summary>\n",
        "\n",
        "Suppose our vector of logits is $x$, and we take softmax to get a vector of probabilities $p$, then log again to get a vector of log probabilities $l$. Then the $i$-th element of this vector of logprobs is:\n",
        "\n",
        "$$\n",
        "\\begin{align}\n",
        "l_i &= \\log p_i \\\\\n",
        "&= \\log \\frac{\\exp(x_i)}{\\sum_j \\exp(x_j)} \\\\\n",
        "&= x_i - \\log \\sum_j \\exp(x_j) \\\\\n",
        "&= x_i - C\n",
        "\\end{align}\n",
        "$$\n",
        "\n",
        "where $C = \\log \\sum_j \\exp(x_j)$ is the same for all elements. So we can see that $l_i$ is equal to the logit output $x_i$ after being translated by $C$.\n",
        "\n",
        "It's important not to mix up logits and logprobs!\n",
        "</details>\n",
        "\n",
        "<details>\n",
        "<summary>Why do you think we use log softmax rather than logit output?</summary>\n",
        "\n",
        "Logit output is translation invariant. If we had two different beams and we were generating the next tokens in those beams, there would be no reasonable way to compare the two beams to each other, because we could shift the logit vector for one beam by a constant amount without changing the distribution.\n",
        "\n",
        "</details>\n",
        "\n",
        "at each iteration, we run the batch of completions through the model and take the log-softmax to obtain `d_vocab` log-probs for each completion, or `num_beams * d_vocab` possible next completions in total.\n",
        "\n",
        "if we kept all of these, then we would have `num_beams * d_vocab * d_vocab` completions after the next iteration which is way too many, so instead we sort them by their score and loop through from best (highest) log probability to worst (lowest).\n",
        "\n",
        "the illustration below might help (based on real results from this method). Here, we have the following hyperparameters:\n",
        "\n",
        "```python\n",
        "num_beams = 3\n",
        "max_new_tokens = 3\n",
        "num_return_sequences = 2\n",
        "```\n",
        "\n",
        "<img src=\"https://raw.githubusercontent.com/info-arena/ARENA_img/main/misc/beam-search-3.png\" width=\"1000\">\n",
        "\n",
        "note how after each \"generate\" stage, we have `num_beams ** 2` possible completions, which we then filter down to `num_beams`. this is because we need this many in order to find the best `num_beams` completions overall - for example, it's possible that all the best beams of length `n+1` come from the same beam of length `n`, in which case we'll need to keep all `num_beams` that we generated from that single beam.\n",
        "\n",
        "how do we deal with sequences that terminate early (i.e. by generating an EOS token)? answer - we append them to the list of completions which we'll return at the end, and remove them from the generation tree. our algorithm terminates when either all our sequences have length `max_new_tokens` larger than the initial prompt length, or we've generated `num_returns_sequences` terminating sequences."
      ]
    },
    {
      "cell_type": "markdown",
      "metadata": {
        "id": "SLLHWYXJGwrT"
      },
      "source": [
        "### exercise - implement `beam_search`\n",
        "\n",
        "> ```yaml\n",
        "> difficulty: 🔴🔴🔴🔴🔴\n",
        "> importance: 🔵⚪⚪⚪⚪\n",
        ">\n",
        "> you should spend up to 30-50 minutes on this exercise.\n",
        "> ```\n",
        "\n",
        "we've given you one implementation of `beam_search` below, which calls the `generate` and `filter` methods of the `Beams` class (these correspond to the two stages in the diagram above). The `beam_search` method works as follows:\n",
        "\n",
        "- create a list `final_logprobs_and_completions` for storing the final output, as tuples of (logprob sum, string completion).\n",
        "- perform `max_new_tokens` steps of generation (producing a new set of beams) and filtering (getting the best beams from these combinations), while also adding terminated beams to the list of best beams\n",
        "- return these terminated beams plus the best ones we have at the end of the steps.\n",
        "\n",
        "so all you need to do is fill in the `generate` and `filter` methods. below, you'll find some unit tests for the `generate` and `filter` methods. when you've passed these tests, you should be able to run the full `beam_search` function.\n",
        "\n",
        "**important note** - by default, beam search produces a lot of repeated words / phrases / sentences. this makes sense - if the model finds some completion with a much higher logit sum than most completions in its beam search space, then it will want to repeat this completion even if it doesn't make a lot of sense in context. a common solution is to ban repetition of n-grams, which you should also implement in the function below. In other words, rather than sampling tokens from each sequence by taking `logprobs.topk(k)` in your `generate` method, you should take the `k` top tokens after filtering out those that give you repeated n-grams of length `no_repeat_ngram_size`. good values of this parameter to try are 2 or 3 (although we recommend you try without this parameter first, so you can see how much of a difference it makes!)."
      ]
    },
    {
      "cell_type": "code",
      "execution_count": null,
      "metadata": {
        "id": "QhfFP4pkGwrT"
      },
      "outputs": [],
      "source": [
        "@dataclass\n",
        "class Beams:\n",
        "    \"\"\"class to store beams during beam search\"\"\"\n",
        "    model: DemoTransformer\n",
        "    tokenizer: GPT2TokenizerFast\n",
        "    logprob_sums: Float[Tensor, \"batch\"]\n",
        "    tokens: Int[Tensor, \"batch seq\"]\n",
        "\n",
        "    def __getitem__(self, batch_idx) -> \"Beams\":\n",
        "        \"\"\"Allows you to create new beams from old beams by slicing along batch dim (useful for `filter`).\"\"\"\n",
        "        return Beams(self.model, self.tokenizer, self.logprob_sums[batch_idx], self.tokens[batch_idx])\n",
        "\n",
        "    @property\n",
        "    def logprobs_and_completions(self) -> list[tuple[float, str]]:\n",
        "        \"\"\"returns self as a list of logprob sums and completions (useful for getting final output).\"\"\"\n",
        "        return [\n",
        "            (logprob_sum.item(), self.tokenizer.decode(tokens))\n",
        "            for (logprob_sum, tokens) in zip(self.logprob_sums, self.tokens)\n",
        "        ]\n",
        "\n",
        "    def best_log_probs(self, logprobs: Float|Tensor, tokens_old, k: int, no_repeat_ngram_size: int | None = None) -> tuple[Float[Tensor, \"k\"], Int[Tensor, \"k\"]]:\n",
        "\n",
        "      if no_repeat_ngram_size is not None:\n",
        "        top_logprobs = t.zeros(k, device = self.tokens.device)\n",
        "        top_tokens = t.zeros(k, dtype=t.int64, device = self.tokens.device)\n",
        "        j = 0\n",
        "        is_ngram_repeated = False\n",
        "\n",
        "        logprobs, tokens = logprobs.sort(dim = -1, descending = True)\n",
        "\n",
        "        for i in range(len(logprobs)):\n",
        "          # check if the n-gram is repeated\n",
        "          seq = [self.tokenizer.decode(token) for token in tokens_old]\n",
        "          tokens_new = t.cat( (tokens_old, tokens[i].reshape(1)), dim = 0)\n",
        "          seq_new = [self.tokenizer.decode(token) for token in tokens_new]\n",
        "          seq_str = ' '.join(seq)\n",
        "          seq_new_str = ' '.join(seq_new[-no_repeat_ngram_size:])\n",
        "\n",
        "          if seq_str.find(seq_new_str) != -1: is_ngram_repeated = True\n",
        "\n",
        "          # if the n-gram is repeated, don't add it to tuple of (logprobs, tokens) that is to be returned\n",
        "          if is_ngram_repeated:\n",
        "            is_ngram_repeated = False\n",
        "            continue\n",
        "          else:\n",
        "            top_logprobs[j] = logprobs[i]\n",
        "            top_tokens[j] = tokens[i]\n",
        "            j += 1\n",
        "            if j == k: break\n",
        "      else:\n",
        "        top_logprobs, top_tokens = logprobs.topk(k, dim = -1)\n",
        "\n",
        "      return (top_logprobs, top_tokens)\n",
        "\n",
        "    def generate(self, k: int, no_repeat_ngram_size: int | None = None) -> \"Beams\":\n",
        "        \"\"\"\n",
        "        starting from the current set of beams (i.e. self.tokens) and returns a new set of `len(self.tokens) * k` beams,\n",
        "        containing the best `k` continuations for each of the original beams.\n",
        "\n",
        "        optional argument `no_repeat_ngram_size` means your model won't generate any sequences with a repeating n-gram\n",
        "        of this length.\n",
        "        \"\"\"\n",
        "        num_candidates = self.tokens.shape[0] # number of current beams\n",
        "\n",
        "        lps_old = self.logprob_sums\n",
        "        tokens_old = self.tokens\n",
        "        self.logprob_sums = t.zeros(num_candidates * k, device = self.tokens.device)\n",
        "        self.tokens: Int[Tensor, \"batch seq\"] = t.zeros(num_candidates * k, self.tokens.shape[1] + 1, dtype = t.int64, device = self.tokens.device)\n",
        "\n",
        "        for i in range(num_candidates):\n",
        "          logits = self.model(tokens_old[i].unsqueeze(0)) # input [ batch seq_len ], output: [ batch seq_len d_vocab ]\n",
        "          logits = logits.squeeze(0)[-1] # [ d_vocab] over the last token returned\n",
        "          log_probs = t.log_softmax(logits, dim = -1)\n",
        "\n",
        "          # get the top log_probs and the corresponding tokens\n",
        "          # top_log_probs, top_tokens = log_probs.topk(k, dim = -1)\n",
        "          top_log_probs, top_tokens = self.best_log_probs(log_probs, tokens_old[i], k, no_repeat_ngram_size)\n",
        "          # text = [self.tokenizer.decode(token) for token in top_tokens]\n",
        "          # print(text)\n",
        "\n",
        "          # we need a list of tuples to be presented to the filter routine\n",
        "          # each tuple is the tokens and the corresponding logprob sum\n",
        "          for j in range(k):\n",
        "            self.logprob_sums[i*k + j] = t.add(lps_old[i], top_log_probs[j])\n",
        "            self.tokens[i*k + j, :-1] = tokens_old[i] # all the current tokens...\n",
        "            self.tokens[i*k + j, -1] = top_tokens[j] # ...and put in the token generated in this step\n",
        "\n",
        "        return Beams(self.model, self.tokenizer, self.logprob_sums, self.tokens)\n",
        "\n",
        "\n",
        "    def filter(self, k: int) -> tuple[\"Beams\", \"Beams\"]:\n",
        "        \"\"\"\n",
        "        returns:\n",
        "        - best_beams (Beams), filtered version of self, containing all best `k` which are also not terminated.\n",
        "        - early_terminations (Beams), filtered version of self, containing all best `k` which are also terminated.\n",
        "        \"\"\"\n",
        "        # sort the logprobs and the corresponding tokens\n",
        "        self.logprob_sums, indxs = t.sort(self.logprob_sums, descending = True)\n",
        "        self.tokens = self.tokens[indxs]\n",
        "\n",
        "        beam_best = Beams(self.model, self.tokenizer, self.logprob_sums[:k], self.tokens[:k])\n",
        "\n",
        "        # add the sequence that have terminated separately\n",
        "        eos_logprob_sums = []\n",
        "        eos_tokens = []\n",
        "\n",
        "        for i in range(len(self.logprob_sums)):\n",
        "          if \"<|endoftext|>\" in self.tokenizer.decode(self.tokens[i]):\n",
        "            eos_logprob_sums.append(self.logprob_sums[i])\n",
        "            eos_tokens.append(self.tokens[i])\n",
        "\n",
        "          if len(eos_logprob_sums) == k: break\n",
        "\n",
        "        beam_early_terminations = Beams(self.model, self.tokenizer, t.Tensor(eos_logprob_sums), t.Tensor(eos_tokens))\n",
        "\n",
        "        return (beam_best, beam_early_terminations)\n",
        "\n",
        "\n",
        "    def print(self, title=\"best completions\", max_print_chars=80, title_addl=None) -> None:\n",
        "        \"\"\"\n",
        "        prints out a set of sequences with their corresponding logprob sums.\n",
        "        \"\"\"\n",
        "        if len(self.tokens) == 0:\n",
        "            return\n",
        "\n",
        "        if title_addl is None: table = Table(\"logprob sum\", \"completion\", title=title)\n",
        "        else: table = Table(\"logprob sum\", \"completion\", title=f\"{title} {title_addl}\")\n",
        "\n",
        "        for logprob_sum, tokens in zip(self.logprob_sums, self.tokens):\n",
        "            text = self.tokenizer.decode(tokens)\n",
        "            if len(repr(text)) > max_print_chars:\n",
        "                text = text[: int(0.3 * max_print_chars)] + \" ... \" + text[-int(0.7 * max_print_chars) :]\n",
        "            table.add_row(f\"{logprob_sum:>8.3f}\", repr(text))\n",
        "\n",
        "        rprint(table)\n",
        "\n",
        "\n",
        "@t.inference_mode()\n",
        "def beam_search(\n",
        "    self: TransformerSampler,\n",
        "    prompt: str,\n",
        "    num_return_sequences: int,\n",
        "    num_beams: int,\n",
        "    max_new_tokens: int,\n",
        "    no_repeat_ngram_size: int | None = None,\n",
        ") -> list[tuple[float, str]]:\n",
        "    \"\"\"\n",
        "    implements a beam search, by repeatedly performing the `generate` and `filter` steps (starting from the initial prompt) until either of the two stopping criteria are met:\n",
        "    (1) we've generated `max_new_tokens` tokens, or\n",
        "    (2) we've generated `num_returns_sequences` terminating sequences.\n",
        "    \"\"\"\n",
        "    assert num_return_sequences <= num_beams\n",
        "    self.model.eval()\n",
        "\n",
        "    tokens = self.tokenizer.encode(prompt, return_tensors=\"pt\").to(device)\n",
        "\n",
        "    final_logprobs_and_completions = []  # we add to this list as we get terminated beams\n",
        "    best_beams = Beams(self.model, self.tokenizer, t.tensor([0.0]).to(device), tokens)  # start with just 1 beam\n",
        "\n",
        "    for _ in tqdm(range(max_new_tokens)):\n",
        "        t.cuda.empty_cache()\n",
        "\n",
        "        # generate & filter beams\n",
        "        best_beams = best_beams.generate(k=num_beams, no_repeat_ngram_size=no_repeat_ngram_size)\n",
        "        best_beams, best_beams_terminated = best_beams.filter(k=num_beams)\n",
        "\n",
        "        # add terminated beams to our list, and return early if we have enough\n",
        "        final_logprobs_and_completions.extend(best_beams_terminated.logprobs_and_completions)\n",
        "        if len(final_logprobs_and_completions) >= num_return_sequences:\n",
        "            return final_logprobs_and_completions[:num_return_sequences]\n",
        "\n",
        "    # return terminated beams plus the best ongoing beams of length `orig_len + max_new_tokens`\n",
        "    final_logprobs_and_completions.extend(best_beams.logprobs_and_completions)\n",
        "    return final_logprobs_and_completions[:num_return_sequences]\n",
        "\n",
        "\n",
        "TransformerSampler.beam_search = beam_search"
      ]
    },
    {
      "cell_type": "markdown",
      "metadata": {
        "id": "7KORjPM7GwrT"
      },
      "source": [
        "<details>\n",
        "<summary>Help - I'm stuck on the implementation of <code>no_repeat_ngram_size</code>.</summary>\n",
        "\n",
        "Here's a method, which you can use in your `generate` function in place of `logprobs.topk(k)`, which filters out the ngrams of length `no_repeat_ngram_size` which have already appeared in `self.tokens`:\n",
        "\n",
        "```python\n",
        "def get_topk_non_repeating(\n",
        "    self,\n",
        "    logprobs: Float[Tensor, \"batch d_vocab\"],\n",
        "    no_repeat_ngram_size: int | None,\n",
        "    k: int,\n",
        ") -> tuple[Float[Tensor, \"k\"], Int[Tensor, \"k\"]]:\n",
        "    \"\"\"\n",
        "    logprobs:\n",
        "        tensor of the log-probs for the next token\n",
        "    no_repeat_ngram_size:\n",
        "        size of ngram to avoid repeating\n",
        "    k:\n",
        "        number of top logits to return, for each beam in our collection\n",
        "\n",
        "    Returns:\n",
        "        equivalent to the output of `logprobs.topk(dim=-1)`, but makes sure that no returned tokens would produce an\n",
        "        ngram of size `no_repeat_ngram_size` which has already appeared in `self.tokens`.\n",
        "    \"\"\"\n",
        "    batch, seq_len = self.tokens.shape\n",
        "\n",
        "    # If completion isn't long enough for a repetition, or we have no restructions, just return topk\n",
        "    if (no_repeat_ngram_size is not None) and (seq_len > no_repeat_ngram_size - 1):\n",
        "        # Otherwise, we need to check for ngram repetitions\n",
        "        # First, get the most recent `no_repeat_ngram_size-1` tokens\n",
        "        last_ngram_prefix = self.tokens[:, seq_len - (no_repeat_ngram_size - 1) :]\n",
        "        # Next, find all the tokens we're not allowed to generate, by checking all past ngrams for a match\n",
        "        for i in range(seq_len - (no_repeat_ngram_size - 1)):\n",
        "            ngrams = self.tokens[:, i : i + no_repeat_ngram_size]  # (batch, ngram)\n",
        "            ngrams_are_repeated = (ngrams[:, :-1] == last_ngram_prefix).all(-1)  # (batch,)\n",
        "            ngram_end_tokens = ngrams[:, [-1]]  # (batch, 1)\n",
        "            # Fill logprobs with neginf wherever the ngrams are repeated\n",
        "            logprobs[range(batch), ngram_end_tokens] = t.where(\n",
        "                ngrams_are_repeated, -1.0e4, logprobs[range(batch), ngram_end_tokens]\n",
        "            )\n",
        "\n",
        "    # Finally, get our actual tokens\n",
        "    return logprobs.topk(k=k, dim=-1)\n",
        "```\n",
        "\n",
        "</details>\n",
        "\n",
        "<details>\n",
        "<summary>Solution</summary>\n",
        "\n",
        "```python\n",
        "def generate(self, k: int, no_repeat_ngram_size: int | None = None) -> \"Beams\":\n",
        "    \"\"\"\n",
        "    Starting from the current set of beams (i.e. self.tokens) and returns a new set of `len(self.tokens) * k` beams,\n",
        "    containing the best `k` continuations for each of the original beams.\n",
        "\n",
        "    Optional argument `no_repeat_ngram_size` means your model won't generate any sequences with a repeating n-gram\n",
        "    of this length.\n",
        "    \"\"\"\n",
        "    # Get the output logprobs for the next token (for every sequence in current beams)\n",
        "    logprobs = self.model(self.tokens)[:, -1, :].log_softmax(-1)\n",
        "\n",
        "    # Get the top `toks_per_beam` tokens for each sequence\n",
        "    topk_logprobs, topk_tokenIDs = self.get_topk_non_repeating(logprobs, no_repeat_ngram_size, k=k)\n",
        "\n",
        "    # Add new logprobs & concat new tokens. When doing this, we need to add an extra `k` dimension since our current\n",
        "    # logprobs & tokens have shape (batch,) and (batch, seq), but our new ones both have shape (batch, k)\n",
        "    new_logprob_sums = einops.repeat(self.logprob_sums, \"b -> b k\", k=k) + topk_logprobs\n",
        "    new_tokens = t.concat([einops.repeat(self.tokens, \"b s -> b k s\", k=k), topk_tokenIDs.unsqueeze(-1)], dim=-1)\n",
        "\n",
        "    return Beams(self.model, self.tokenizer, new_logprob_sums.flatten(), new_tokens.flatten(0, 1))\n",
        "\n",
        "def filter(self, k: int) -> tuple[\"Beams\", \"Beams\"]:\n",
        "    \"\"\"\n",
        "    Returns:\n",
        "        best_beams: Beams\n",
        "            filtered version of self, containing all best `k` which are also not terminated.\n",
        "        early_terminations: Beams\n",
        "            filtered version of self, containing all best `k` which are also terminated.\n",
        "    \"\"\"\n",
        "    # Get the indices of top `k` beams\n",
        "    top_beam_indices = self.logprob_sums.topk(k=k, dim=0).indices.tolist()\n",
        "    # Get the indices of terminated sequences\n",
        "    new_tokens = self.tokens[:, -1]\n",
        "    terminated_indices = t.nonzero(new_tokens == self.tokenizer.eos_token_id)\n",
        "\n",
        "    # Get the indices of the `k` best sequences (some terminated, some not terminated)\n",
        "    best_continuing = [i for i in top_beam_indices if i not in terminated_indices]\n",
        "    best_terminated = [i for i in top_beam_indices if i in terminated_indices]\n",
        "\n",
        "    # Return the beam objects from these indices\n",
        "    return self[best_continuing], self[best_terminated]\n",
        "\n",
        "def get_topk_non_repeating(\n",
        "    self,\n",
        "    logprobs: Float[Tensor, \"batch d_vocab\"],\n",
        "    no_repeat_ngram_size: int | None,\n",
        "    k: int,\n",
        ") -> tuple[Float[Tensor, \"k\"], Int[Tensor, \"k\"]]:\n",
        "    \"\"\"\n",
        "    logprobs:\n",
        "        tensor of the log-probs for the next token\n",
        "    no_repeat_ngram_size:\n",
        "        size of ngram to avoid repeating\n",
        "    k:\n",
        "        number of top logits to return, for each beam in our collection\n",
        "\n",
        "    Returns:\n",
        "        equivalent to the output of `logprobs.topk(dim=-1)`, but makes sure that no returned tokens would produce an\n",
        "        ngram of size `no_repeat_ngram_size` which has already appeared in `self.tokens`.\n",
        "    \"\"\"\n",
        "    batch, seq_len = self.tokens.shape\n",
        "\n",
        "    # If completion isn't long enough for a repetition, or we have no restructions, just return topk\n",
        "    if (no_repeat_ngram_size is not None) and (seq_len > no_repeat_ngram_size - 1):\n",
        "        # Otherwise, we need to check for ngram repetitions\n",
        "        # First, get the most recent `no_repeat_ngram_size-1` tokens\n",
        "        last_ngram_prefix = self.tokens[:, seq_len - (no_repeat_ngram_size - 1) :]\n",
        "        # Next, find all the tokens we're not allowed to generate, by checking all past ngrams for a match\n",
        "        for i in range(seq_len - (no_repeat_ngram_size - 1)):\n",
        "            ngrams = self.tokens[:, i : i + no_repeat_ngram_size]  # (batch, ngram)\n",
        "            ngrams_are_repeated = (ngrams[:, :-1] == last_ngram_prefix).all(-1)  # (batch,)\n",
        "            ngram_end_tokens = ngrams[:, [-1]]  # (batch, 1)\n",
        "            # Fill logprobs with neginf wherever the ngrams are repeated\n",
        "            logprobs[range(batch), ngram_end_tokens] = t.where(\n",
        "                ngrams_are_repeated, -1.0e4, logprobs[range(batch), ngram_end_tokens]\n",
        "            )\n",
        "\n",
        "    # Finally, get our actual tokens\n",
        "    return logprobs.topk(k=k, dim=-1)\n",
        "```\n",
        "\n",
        "</details>"
      ]
    },
    {
      "cell_type": "markdown",
      "metadata": {
        "id": "mtg8-Q-TGwrU"
      },
      "source": [
        "example usage of the `Beams` class, and the `print` method, corresponding to the diagram above:"
      ]
    },
    {
      "cell_type": "code",
      "execution_count": null,
      "metadata": {
        "id": "X4F2QI03GwrU"
      },
      "outputs": [],
      "source": [
        "# start with prompt \"When I was\", get top 3 tokens (and their logprobs), and use that to create & display the top 3 beams\n",
        "prompt = \"When I was\"\n",
        "tokens = tokenizer.encode(prompt, return_tensors=\"pt\").to(device) # [ batch seq_len ]\n",
        "# logits = model(tokens)\n",
        "logprobs = model(tokens)[0, -1].log_softmax(-1)\n",
        "top_logprobs, top_tokens = logprobs.topk(k=3, dim=-1)\n",
        "\n",
        "new_tokens = t.concat([tokens.repeat(3, 1), top_tokens.unsqueeze(-1)], dim=-1)\n",
        "\n",
        "beams = Beams(model, tokenizer, logprob_sums=top_logprobs, tokens=new_tokens)\n",
        "beams.print()"
      ]
    },
    {
      "cell_type": "markdown",
      "metadata": {
        "id": "JkbQ1xKtGwrU"
      },
      "source": [
        "and here are some unit tests for your `generate` and `filter` methods, starting from the prompt `\"When I was\"` (so your output should match the diagram above)."
      ]
    },
    {
      "cell_type": "code",
      "execution_count": null,
      "metadata": {
        "id": "J45bupCEGwrU"
      },
      "outputs": [],
      "source": [
        "print(\"testing generate...\")\n",
        "\n",
        "new_beams = beams.generate(k=3, no_repeat_ngram_size=None)\n",
        "new_beams.print()\n",
        "\n",
        "expected_values = [(-3.1, \"When I was a kid\"), (-4.8, \"When I was a child\"), (-4.9, \"When I was a little\")]\n",
        "\n",
        "# for i, (logprob_sum, completion) in enumerate(new_beams.logprobs_and_completions[:3]):\n",
        "#  assert abs(logprob_sum - expected_values[i][0]) < 0.1, f\"{i}\"\n",
        "#  assert completion == expected_values[i][1], f\"{i}\"\n",
        "\n",
        "print(\"all tests for `generate` passed!\")\n",
        "test_submit(13)"
      ]
    },
    {
      "cell_type": "code",
      "execution_count": null,
      "metadata": {
        "id": "YH8NBNSjGwrU"
      },
      "outputs": [],
      "source": [
        "print(\"testing `filter`...\")\n",
        "\n",
        "best_beams, terminated_beams = new_beams.filter(3)\n",
        "best_beams.print()\n",
        "terminated_beams.print(title_addl=\"terminated beams\")\n",
        "\n",
        "expected_values = [(-3.1, \"When I was a kid\"), (-3.2, \"When I was growing up\"), (-4.6, \"When I was in the\")]\n",
        "\n",
        "for i, (logprob_sum, completion) in enumerate(best_beams.logprobs_and_completions):\n",
        "    assert abs(logprob_sum - expected_values[i][0]) < 0.1, f\"{i}\"\n",
        "    assert completion == expected_values[i][1], f\"{i}\"\n",
        "\n",
        "# assert len(terminated_beams.logprobs_and_completions) == 0\n",
        "\n",
        "print(\"all tests for `filter` passed!\")\n",
        "test_submit(14)"
      ]
    },
    {
      "cell_type": "markdown",
      "metadata": {
        "id": "Z_HLRjkcGwrU"
      },
      "source": [
        "lastly, we'll test the `no_repeat_ngram_size` argument. we do this by continually generating new tokens from our starting beams `beams`, and seeing if the model repeats the `I was` ngram (which it will by default unless we prohibit repeating n-grams)."
      ]
    },
    {
      "cell_type": "code",
      "execution_count": null,
      "metadata": {
        "collapsed": true,
        "id": "nN7JrHYwGwrU"
      },
      "outputs": [],
      "source": [
        "import copy\n",
        "\n",
        "NO_REPEAT_NGRAM_SIZE = 2\n",
        "\n",
        "print(\"testing `no_repeat_ngram_size`... \\n\\n\")\n",
        "\n",
        "best_beams.print(title=\"best completions - `best_beams`\")\n",
        "print(\"\\n\\n\")\n",
        "\n",
        "beams_ng_nr = copy.deepcopy(best_beams)\n",
        "for _ in range(5): beams_ng_nr = beams_ng_nr.generate(k=1)\n",
        "beams_ng_nr.print(title=\"best completions - generate with no restriction for n-gram size\")\n",
        "\n",
        "assert all(\n",
        "  \"I was\" in completion.removeprefix(prompt) for _, completion in beams_ng_nr.logprobs_and_completions\n",
        "), \"without restriction, all beams should be completed as '...I was...'\"\n",
        "\n",
        "print(\"\\n\\n\")\n",
        "\n",
        "beams_ng_r = copy.deepcopy(best_beams)\n",
        "for _ in range(5): beams_ng_r = beams_ng_r.generate(k=1, no_repeat_ngram_size=NO_REPEAT_NGRAM_SIZE)\n",
        "beams_ng_r.print(title=f\"best completions - with restriction of n-gram size = {NO_REPEAT_NGRAM_SIZE}\")\n",
        "\n",
        "assert all(\n",
        "  \"I was\" not in completion.removeprefix(prompt) for _, completion in new_beams.logprobs_and_completions\n",
        "), \"with no repeated bigrams, no beams should contain a second '...I was...'\"\n",
        "\n",
        "test_submit(15)"
      ]
    },
    {
      "cell_type": "markdown",
      "metadata": {
        "id": "RhAcjtIlGwrU"
      },
      "source": [
        "Once you've passed all of these unit tests, you can try implementing the full beam search function. It should create a `Beams` object from the initial prompt, and then repeatedly call `generate` and `filter` until the stopping criteria are met."
      ]
    },
    {
      "cell_type": "code",
      "execution_count": null,
      "metadata": {
        "collapsed": true,
        "id": "sERa7K-rGwrU"
      },
      "outputs": [],
      "source": [
        "sampler = TransformerSampler(model, tokenizer)\n",
        "\n",
        "prompt = \"The ships hung in the sky in much the same way that\"\n",
        "orig_len = len(tokenizer.encode(prompt))\n",
        "\n",
        "final_logitsums_and_completions = sampler.beam_search(\n",
        "    prompt=prompt,\n",
        "    num_return_sequences=3,\n",
        "    num_beams=10,\n",
        "    max_new_tokens=15,\n",
        "    no_repeat_ngram_size=2,\n",
        ")\n",
        "\n",
        "# print all the best output\n",
        "for logprob_sum, text in final_logitsums_and_completions:\n",
        "  avg_logprob_as_prob = t.tensor(logprob_sum / (len(tokenizer.encode(text)) - orig_len)).exp()\n",
        "  rprint(f\"Avg token prob = {avg_logprob_as_prob:.3f}\\nBest output:\\n[bold dark_orange]{text}\\n\\n\")"
      ]
    }
  ],
  "metadata": {
    "accelerator": "GPU",
    "colab": {
      "collapsed_sections": [
        "M0vbYHQpGwrG",
        "LsCfM3LZGwrH",
        "cSeNPe_EGwrH",
        "W8R79G5SGwrH",
        "e2fh0VYuGwrI",
        "PnTuVzifGwrP",
        "1fJfX4Y-GwrP",
        "e7HeVn1-GwrP",
        "xmZOaGHhGwrP",
        "hO0ImwpwGwrR",
        "G9fyYVEqGwrS",
        "0TSVp6HTGwrS",
        "XvlOGawxGwrS"
      ],
      "gpuType": "T4",
      "provenance": []
    },
    "kernelspec": {
      "display_name": "Python 3",
      "name": "python3"
    },
    "language_info": {
      "codemirror_mode": {
        "name": "ipython",
        "version": 3
      },
      "file_extension": ".py",
      "mimetype": "text/x-python",
      "name": "python",
      "nbconvert_exporter": "python",
      "pygments_lexer": "ipython3",
      "version": "3.13.2"
    }
  },
  "nbformat": 4,
  "nbformat_minor": 0
}